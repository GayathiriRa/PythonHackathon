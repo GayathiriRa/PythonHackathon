{
 "cells": [
  {
   "cell_type": "code",
   "execution_count": null,
   "id": "ae7eab8a",
   "metadata": {},
   "outputs": [],
   "source": [
    "pip install openpyxl"
   ]
  },
  {
   "cell_type": "code",
   "execution_count": 3,
   "id": "26fb07e4",
   "metadata": {},
   "outputs": [
    {
     "name": "stdout",
     "output_type": "stream",
     "text": [
      "      EDVisitID  PatientID               VisitDate         EDDischargeTime  \\\n",
      "0             1          1 2020-01-01 00:00:00.000 2020-01-01 11:20:22.924   \n",
      "1            12         12 2020-01-01 02:45:40.302 2020-01-02 02:00:00.517   \n",
      "2            13         13 2020-01-01 03:09:24.701 2020-01-01 05:00:20.852   \n",
      "3            14         14 2020-01-01 03:12:19.349 2020-01-01 04:32:29.142   \n",
      "4            15         15 2020-01-01 03:46:32.698 2020-01-01 06:24:52.741   \n",
      "...         ...        ...                     ...                     ...   \n",
      "1194       1183        929 2020-01-15 10:38:42.570 2020-01-16 02:31:52.023   \n",
      "1195       1186        932 2020-01-15 11:52:37.540 2020-01-16 10:19:41.570   \n",
      "1196       1187        933 2020-01-15 12:11:11.678 2020-01-15 16:41:15.223   \n",
      "1197       1188        934 2020-01-15 12:21:46.006 2020-01-15 18:32:21.060   \n",
      "1198       1189        935 2020-01-15 12:51:14.875 2020-01-15 23:40:41.456   \n",
      "\n",
      "      Acuity ReasonForVisit EDDisposition  \n",
      "0          1   Stomach Ache      Admitted  \n",
      "1          2       Migraine      Admitted  \n",
      "2          3   Stomach Ache      Admitted  \n",
      "3          3       Migraine      Admitted  \n",
      "4          3     Chest Pain      Admitted  \n",
      "...      ...            ...           ...  \n",
      "1194       4     Chest Pain    Discharged  \n",
      "1195       1      Pneumonia    Discharged  \n",
      "1196       1      Pneumonia    Discharged  \n",
      "1197       1      Pneumonia    Discharged  \n",
      "1198       1      Pneumonia    Discharged  \n",
      "\n",
      "[1199 rows x 7 columns]\n"
     ]
    }
   ],
   "source": [
    " import pandas as pd\n",
    "    \n",
    "    \n",
    "from pandas import ExcelWriter\n",
    "from pandas import ExcelFile\n",
    "\n",
    "\n",
    "import numpy as np\n",
    "data = pd.read_excel('HospitalDatabase.xlsx', sheet_name='EDVisits')\n",
    "print(data)\n"
   ]
  },
  {
   "cell_type": "code",
   "execution_count": null,
   "id": "90b28200",
   "metadata": {},
   "outputs": [],
   "source": [
    "#31.Using a bar chart, which Service had the lowest count of Expected Mortality?"
   ]
  },
  {
   "cell_type": "code",
   "execution_count": 8,
   "id": "807bd869",
   "metadata": {},
   "outputs": [
    {
     "name": "stdout",
     "output_type": "stream",
     "text": [
      "[ 1  2  3  4  5  6  7  8  9 10 11 12 13 14 15 16 17 18 19 20 21 22 23 24\n",
      " 25 26 27 28 29 30]\n",
      "[[ 1  2  3  4  5]\n",
      " [ 6  7  8  9 10]\n",
      " [11 12 13 14 15]\n",
      " [16 17 18 19 20]\n",
      " [21 22 23 24 25]\n",
      " [26 27 28 29 30]]\n",
      "(6, 5)\n",
      "[[11 12]\n",
      " [16 17]]\n"
     ]
    }
   ],
   "source": [
    "\n",
    "#32.np.arange(1,31).reshape(6,5) Find the array slicing to get the elements with values 11,12,16,17\n",
    "\n",
    "\n",
    "import numpy as np\n",
    "a =np.arange(1,31)\n",
    "print(a)\n",
    "b = a.reshape(6,5)\n",
    "print(b)\n",
    "\n",
    "c = np.array(b)\n",
    "print(c.shape)\n",
    "\n",
    "\n",
    "\n",
    "d = np.array ([ [ 1 , 2,  3 , 4 , 5], [ 6 , 7 , 8 , 9, 10], [11 ,12 ,13, 14 ,15], [16, 17, 18, 19 ,20], \n",
    "               [21, 22 ,23 ,24 ,25], [26, 27 ,28, 29 ,30] ])\n",
    "print(d[2:4,0:2])"
   ]
  },
  {
   "cell_type": "code",
   "execution_count": 13,
   "id": "0a42dbca",
   "metadata": {},
   "outputs": [
    {
     "name": "stdout",
     "output_type": "stream",
     "text": [
      "[ 1  2  3  4  5  6  7  8  9 10 11 12 13 14 15 16 17 18 19 20 21 22 23 24\n",
      " 25 26 27 28 29 30]\n",
      "[[ 1  2  3  4  5]\n",
      " [ 6  7  8  9 10]\n",
      " [11 12 13 14 15]\n",
      " [16 17 18 19 20]\n",
      " [21 22 23 24 25]\n",
      " [26 27 28 29 30]]\n",
      "(6, 5)\n",
      "[[1 2]\n",
      " [6 7]]\n"
     ]
    }
   ],
   "source": [
    "#33.np.arange(1,31).reshape(6,5), find array slicing for elements 2,8,14,20\n",
    "\n",
    "\n",
    "import numpy as np\n",
    "a =np.arange(1,31)\n",
    "print(a)\n",
    "\n",
    "\n",
    "b = a.reshape(6,5)\n",
    "print(b)\n",
    "\n",
    "\n",
    "c = np.array(b)\n",
    "print(c.shape)\n",
    "\n",
    "\n",
    "d = np.array ([ [ 1 , 2,  3 , 4 , 5], [ 6 , 7 , 8 , 9, 10], [11 ,12 ,13, 14 ,15], [16, 17, 18, 19 ,20], \n",
    "               [21, 22 ,23 ,24 ,25], [26, 27 ,28, 29 ,30] ])\n",
    "print(d[0:2,:2])"
   ]
  },
  {
   "cell_type": "code",
   "execution_count": 7,
   "id": "29bad633",
   "metadata": {},
   "outputs": [
    {
     "name": "stdout",
     "output_type": "stream",
     "text": [
      "Correlation matrix on EDVisits\n",
      "           EDVisitID  PatientID    Acuity\n",
      "EDVisitID   1.000000   0.975477  0.005813\n",
      "PatientID   0.975477   1.000000  0.003545\n",
      "Acuity      0.005813   0.003545  1.000000\n"
     ]
    }
   ],
   "source": [
    "#34.Create a correlation matrix on EDVisits\n",
    "\n",
    "import pandas as pd\n",
    "\n",
    "EDVisit_data = pd.read_excel('HospitalDatabase.xlsx',sheet_name='EDVisits')\n",
    "\n",
    "matrix = EDVisit_data.corr()\n",
    "print(\"Correlation matrix on EDVisits\")\n",
    "print (matrix)\n",
    "\n",
    "\n"
   ]
  },
  {
   "cell_type": "code",
   "execution_count": 5,
   "id": "cbd0cfb6",
   "metadata": {},
   "outputs": [
    {
     "name": "stdout",
     "output_type": "stream",
     "text": [
      "The sentence is : Numpy Ninja :: Python Hackathon\n",
      "upper case letters ::['N', 'N', 'P', 'H']\n",
      "upper case letters ::4\n",
      "Lower case letters ::['u', 'm', 'p', 'y', 'i', 'n', 'j', 'a', 'y', 't', 'h', 'o', 'n', 'a', 'c', 'k', 'a', 't', 'h', 'o', 'n']\n",
      "Lower case letters ::21\n"
     ]
    }
   ],
   "source": [
    " #35.Write a function to print all the upper case letter of a given sentence\n",
    " # Extract Upper case characters using List Comprehension and isupper()\n",
    "\n",
    "\n",
    "\n",
    "\n",
    "test_sentence = \"Numpy Ninja :: Python Hackathon\"\n",
    "\n",
    "print(\"The sentence is : \" + str(test_sentence))\n",
    "\n",
    "upper_letters = [char for char in test_sentence if char.isupper()]\n",
    "\n",
    "Lower_letters = [char for char in test_sentence if char.islower()]\n",
    "ll = len(Lower_letters)\n",
    "ul = len(upper_letters)\n",
    "print(\"upper case letters ::\" + str(upper_letters))\n",
    "print(\"upper case letters ::\" + str(ul))\n",
    "\n",
    "print(\"Lower case letters ::\" + str (Lower_letters))\n",
    "\n",
    "print(\"Lower case letters ::\" + str (ll))\n"
   ]
  },
  {
   "cell_type": "code",
   "execution_count": null,
   "id": "8cb147dd",
   "metadata": {},
   "outputs": [],
   "source": [
    "#36.Number of patients on 'Transfer' based on primary diagnosis"
   ]
  },
  {
   "cell_type": "code",
   "execution_count": 12,
   "id": "d0607323",
   "metadata": {},
   "outputs": [
    {
     "name": "stdout",
     "output_type": "stream",
     "text": [
      "     PatientID ReasonForVisit FirstName  LastName             DateOfBirth\n",
      "1           12       Migraine    Zonnya        Ab 1963-05-23 10:04:33.074\n",
      "3           14       Migraine       Gan        Yu 1970-06-02 06:22:54.675\n",
      "22           3       Migraine   Devlin    Michael 1976-04-15 02:52:09.762\n",
      "44          22       Migraine    Joesph      Long 1979-12-04 16:45:56.080\n",
      "46          24       Migraine  Gabriel     Joseph 1986-05-31 09:36:05.716\n",
      "..         ...            ...       ...       ...                     ...\n",
      "908        870       Migraine     Hauck   Rubbens 1963-11-16 03:31:38.929\n",
      "921        897       Migraine   Barrows  Coupland 1979-10-31 18:28:35.483\n",
      "928        908       Migraine      Knox     Group 1975-08-25 22:27:50.177\n",
      "930        910       Migraine   Kuvalis  Coupland 1986-05-23 19:23:27.752\n",
      "935        924       Migraine    Daniel  Shakesby 1980-11-28 17:57:03.702\n",
      "\n",
      "[116 rows x 5 columns]\n"
     ]
    }
   ],
   "source": [
    "#37.Get the FirstName, LastName,DateOfBirth of the Patients\n",
    "# whose reason for visit is Migraine. \n",
    "#Use EDUnique Sheet for reason for visit\n",
    "\n",
    "\n",
    "EDU_data = pd.read_excel('HospitalDatabase.xlsx',sheet_name='EDUnique',usecols='B,F')\n",
    "pat_data = pd.read_excel('HospitalDatabase.xlsx', sheet_name='Patients',usecols='A,B,C,D')\n",
    "df = pd.DataFrame(EDU_data)\n",
    "df1 =pd.DataFrame(pat_data)\n",
    "\n",
    "\n",
    "Visit_list = ['Migraine']\n",
    "merged_data = pd.merge(df,df1, on='PatientID', how='inner')\n",
    "migra_df = merged_data[ merged_data.ReasonForVisit.isin(Visit_list)]\n",
    "\n",
    "print(migra_df)\n",
    "\n"
   ]
  },
  {
   "cell_type": "code",
   "execution_count": 11,
   "id": "5c3feb70",
   "metadata": {},
   "outputs": [
    {
     "name": "stdout",
     "output_type": "stream",
     "text": [
      "ReasonForVisit\n",
      "Accident                39\n",
      "Bleeding                31\n",
      "Car Accident            17\n",
      "Chest Pain             108\n",
      "Cough                    1\n",
      "Fever                  227\n",
      "Gun Shot                16\n",
      "Intoxication            30\n",
      "Laceration              30\n",
      "Migraine               153\n",
      "Pneumonia              191\n",
      "Shortness of Breath    148\n",
      "Stomach Ache           179\n",
      "Name: PatientID, dtype: int64\n"
     ]
    },
    {
     "data": {
      "text/plain": [
       "<AxesSubplot:xlabel='ReasonForVisit'>"
      ]
     },
     "execution_count": 11,
     "metadata": {},
     "output_type": "execute_result"
    },
    {
     "data": {
      "image/png": "[encoded data removed]",
      "text/plain": [
       "<Figure size 432x288 with 1 Axes>"
      ]
     },
     "metadata": {
      "needs_background": "light"
     },
     "output_type": "display_data"
    }
   ],
   "source": [
    "#38.Plot a graph showing the count of patients for the reason visited the hospital.\n",
    "EDVisit_data = pd.read_excel('HospitalDatabase.xlsx',sheet_name='EDVisits',usecols='B,F')\n",
    "\n",
    "reason_visit = EDVisit_data.groupby('ReasonForVisit')['PatientID'].nunique()\n",
    "print(reason_visit)\n",
    "reason_visit.plot.bar()"
   ]
  },
  {
   "cell_type": "code",
   "execution_count": 3,
   "id": "59f1755f",
   "metadata": {},
   "outputs": [
    {
     "name": "stdout",
     "output_type": "stream",
     "text": [
      "     VisitID  PatientMRN     VisitType VisitStatus\n",
      "1        436         820     Follow Up     No Show\n",
      "6        491         875     Follow Up     No Show\n",
      "10       432         816     Follow Up     No Show\n",
      "13       429         813     Follow Up     No Show\n",
      "15       495         879     Follow Up     No Show\n",
      "..       ...         ...           ...         ...\n",
      "144      801         886  Telemedicine     No Show\n",
      "145      716         868  Telemedicine     No Show\n",
      "150      507         891  Telemedicine     No Show\n",
      "152      803         888  Telemedicine     No Show\n",
      "153      505         889  Telemedicine     No Show\n",
      "\n",
      "[154 rows x 4 columns]\n",
      "VisitStatus   Canceled  Completed  No Show\n",
      "VisitType                                 \n",
      "Follow Up           29        266       41\n",
      "New                  5        120        0\n",
      "Physical            11        155       39\n",
      "Telemedicine        15        195       74\n"
     ]
    }
   ],
   "source": [
    "# 39.Find the visit type with maximum 'No Show'\n",
    "\n",
    "\n",
    "Ambu_data = pd.read_excel('HospitalDatabase.xlsx',sheet_name='AmbulatoryVisits',usecols='A,B,G,K')\n",
    "\n",
    "Ambu_data.sort_values([\"VisitType\",\"VisitStatus\"],axis=0,ascending=True,inplace=True)\n",
    "\n",
    "print(Ambu_data[ (Ambu_data['VisitStatus']=='No Show') ])\n",
    "Max_noshow = Ambu_data.groupby(['VisitType', 'VisitStatus']).size().unstack(fill_value=0)\n",
    "print(Max_noshow)"
   ]
  },
  {
   "cell_type": "code",
   "execution_count": 10,
   "id": "2572a44b",
   "metadata": {},
   "outputs": [
    {
     "data": {
      "text/html": [
       "<div>\n",
       "<style scoped>\n",
       "    .dataframe tbody tr th:only-of-type {\n",
       "        vertical-align: middle;\n",
       "    }\n",
       "\n",
       "    .dataframe tbody tr th {\n",
       "        vertical-align: top;\n",
       "    }\n",
       "\n",
       "    .dataframe thead th {\n",
       "        text-align: right;\n",
       "    }\n",
       "</style>\n",
       "<table border=\"1\" class=\"dataframe\">\n",
       "  <thead>\n",
       "    <tr style=\"text-align: right;\">\n",
       "      <th></th>\n",
       "      <th>ProviderID</th>\n",
       "      <th>ProviderName</th>\n",
       "      <th>ProviderSpecialty</th>\n",
       "      <th>ProviderDateOnStaff</th>\n",
       "    </tr>\n",
       "  </thead>\n",
       "  <tbody>\n",
       "    <tr>\n",
       "      <th>10</th>\n",
       "      <td>11</td>\n",
       "      <td>Kim Kimberly</td>\n",
       "      <td>Surgery</td>\n",
       "      <td>1998-05-10 14:47:29.468</td>\n",
       "    </tr>\n",
       "    <tr>\n",
       "      <th>11</th>\n",
       "      <td>12</td>\n",
       "      <td>Sarah Ab</td>\n",
       "      <td>Surgery</td>\n",
       "      <td>1998-08-18 05:22:40.762</td>\n",
       "    </tr>\n",
       "    <tr>\n",
       "      <th>12</th>\n",
       "      <td>13</td>\n",
       "      <td>Abigail Marriot</td>\n",
       "      <td>Surgery</td>\n",
       "      <td>1998-11-08 12:25:45.705</td>\n",
       "    </tr>\n",
       "    <tr>\n",
       "      <th>13</th>\n",
       "      <td>14</td>\n",
       "      <td>Dave Yu</td>\n",
       "      <td>Surgery</td>\n",
       "      <td>1999-06-26 16:18:57.436</td>\n",
       "    </tr>\n",
       "    <tr>\n",
       "      <th>14</th>\n",
       "      <td>15</td>\n",
       "      <td>Christian Saint</td>\n",
       "      <td>Surgery</td>\n",
       "      <td>2000-08-27 00:12:40.326</td>\n",
       "    </tr>\n",
       "    <tr>\n",
       "      <th>15</th>\n",
       "      <td>16</td>\n",
       "      <td>Perry Pardon</td>\n",
       "      <td>Surgery</td>\n",
       "      <td>2001-02-13 11:49:17.862</td>\n",
       "    </tr>\n",
       "  </tbody>\n",
       "</table>\n",
       "</div>"
      ],
      "text/plain": [
       "    ProviderID     ProviderName ProviderSpecialty     ProviderDateOnStaff\n",
       "10          11     Kim Kimberly           Surgery 1998-05-10 14:47:29.468\n",
       "11          12         Sarah Ab           Surgery 1998-08-18 05:22:40.762\n",
       "12          13  Abigail Marriot           Surgery 1998-11-08 12:25:45.705\n",
       "13          14          Dave Yu           Surgery 1999-06-26 16:18:57.436\n",
       "14          15  Christian Saint           Surgery 2000-08-27 00:12:40.326\n",
       "15          16     Perry Pardon           Surgery 2001-02-13 11:49:17.862"
      ]
     },
     "execution_count": 10,
     "metadata": {},
     "output_type": "execute_result"
    }
   ],
   "source": [
    "#40.Using loc , get the details of the providers where providerId is between 11 and 20 and ProviderSpecialty is Surgery\n",
    "\n",
    "\n",
    "import pandas as pd\n",
    "import numpy as ny\n",
    "\n",
    "provider_data = pd.read_excel('HospitalDatabase.xlsx',sheet_name='Providers',usecols='A,B,C,D')\n",
    "\n",
    "df = pd.DataFrame(provider_data)\n",
    "df\n",
    "provider_speciality = ['Surgery']\n",
    "\n",
    "df.loc[(df['ProviderID']>=11) & (df['ProviderID'] <=20) & (df['ProviderSpecialty'].isin(provider_speciality)) ]\n"
   ]
  },
  {
   "cell_type": "code",
   "execution_count": 7,
   "id": "ff58bae8",
   "metadata": {},
   "outputs": [
    {
     "name": "stdout",
     "output_type": "stream",
     "text": [
      "              Service  ExpectedMortality\n",
      "0         Hospitalist           0.010046\n",
      "1    General Medicine           0.604562\n",
      "2    General Medicine           0.266137\n",
      "3    General Medicine           0.307527\n",
      "4                 ICU           0.408898\n",
      "..                ...                ...\n",
      "715        Cardiology           0.388319\n",
      "716               ICU           0.088518\n",
      "717       Hospitalist           0.503308\n",
      "718  General Medicine           0.655870\n",
      "719  General Medicine           0.286439\n",
      "\n",
      "[720 rows x 2 columns]\n"
     ]
    },
    {
     "ename": "NameError",
     "evalue": "name 'count' is not defined",
     "output_type": "error",
     "traceback": [
      "\u001b[1;31m---------------------------------------------------------------------------\u001b[0m",
      "\u001b[1;31mNameError\u001b[0m                                 Traceback (most recent call last)",
      "\u001b[1;32m~\\AppData\\Local\\Temp/ipykernel_26364/2498509706.py\u001b[0m in \u001b[0;36m<module>\u001b[1;34m\u001b[0m\n\u001b[0;32m      2\u001b[0m \u001b[0mprint\u001b[0m\u001b[1;33m(\u001b[0m\u001b[0mRead_data\u001b[0m\u001b[1;33m)\u001b[0m\u001b[1;33m\u001b[0m\u001b[1;33m\u001b[0m\u001b[0m\n\u001b[0;32m      3\u001b[0m \u001b[1;33m\u001b[0m\u001b[0m\n\u001b[1;32m----> 4\u001b[1;33m \u001b[0mLow_ctMortality\u001b[0m \u001b[1;33m=\u001b[0m \u001b[0mRead_data\u001b[0m\u001b[1;33m.\u001b[0m\u001b[0mgroupby\u001b[0m\u001b[1;33m(\u001b[0m\u001b[1;33m[\u001b[0m\u001b[1;34m'Service'\u001b[0m\u001b[1;33m,\u001b[0m \u001b[0mcount\u001b[0m\u001b[1;33m(\u001b[0m\u001b[1;34m'ExpectedMortality'\u001b[0m\u001b[1;33m)\u001b[0m\u001b[1;33m]\u001b[0m\u001b[1;33m)\u001b[0m\u001b[1;33m.\u001b[0m\u001b[0msize\u001b[0m\u001b[1;33m(\u001b[0m\u001b[1;33m)\u001b[0m\u001b[1;33m.\u001b[0m\u001b[0munstack\u001b[0m\u001b[1;33m(\u001b[0m\u001b[0mfill_value\u001b[0m\u001b[1;33m=\u001b[0m\u001b[1;36m0\u001b[0m\u001b[1;33m)\u001b[0m\u001b[1;33m\u001b[0m\u001b[1;33m\u001b[0m\u001b[0m\n\u001b[0m\u001b[0;32m      5\u001b[0m \u001b[0mprint\u001b[0m\u001b[1;33m(\u001b[0m\u001b[0mLow_ctMortality\u001b[0m\u001b[1;33m)\u001b[0m\u001b[1;33m\u001b[0m\u001b[1;33m\u001b[0m\u001b[0m\n",
      "\u001b[1;31mNameError\u001b[0m: name 'count' is not defined"
     ]
    }
   ],
   "source": [
    "\n",
    "\n",
    "Read_data = pd.read_excel('HospitalDatabase.xlsx',sheet_name='ReAdmissionRegistry',usecols='F,I')\n",
    "print(Read_data)\n",
    "\n",
    "Low_ctMortality = Read_data.groupby(['Service', count('ExpectedMortality')]).size().unstack(fill_value=0)\n",
    "print(Low_ctMortality)"
   ]
  },
  {
   "cell_type": "code",
   "execution_count": null,
   "id": "6d548cbc",
   "metadata": {},
   "outputs": [],
   "source": []
  }
 ],
 "metadata": {
  "kernelspec": {
   "display_name": "Python 3 (ipykernel)",
   "language": "python",
   "name": "python3"
  },
  "language_info": {
   "codemirror_mode": {
    "name": "ipython",
    "version": 3
   },
   "file_extension": ".py",
   "mimetype": "text/x-python",
   "name": "python",
   "nbconvert_exporter": "python",
   "pygments_lexer": "ipython3",
   "version": "3.9.7"
  }
 },
 "nbformat": 4,
 "nbformat_minor": 5
}
