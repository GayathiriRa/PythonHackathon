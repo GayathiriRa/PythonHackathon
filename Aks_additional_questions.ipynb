{
 "cells": [
  {
   "cell_type": "markdown",
   "id": "580e1c6f",
   "metadata": {},
   "source": [
    "# Additional Python Questions"
   ]
  },
  {
   "cell_type": "markdown",
   "id": "19e6f049",
   "metadata": {},
   "source": [
    "### 1. White a function to sort the first names in patients"
   ]
  },
  {
   "cell_type": "code",
   "execution_count": 23,
   "id": "59bb6085",
   "metadata": {},
   "outputs": [],
   "source": [
    "#read excle into dataframe\n",
    "dff1 = pd.read_excel(\"C:\\\\Users\\\\aksha\\\\OneDrive\\\\Desktop\\\\E-Drive\\\\Numpy Ninja\\\\Python Hackathon\\\\HospitalDatabase.xlsx\", sheet_name='Patients')"
   ]
  },
  {
   "cell_type": "code",
   "execution_count": 24,
   "id": "1bfdcdb1",
   "metadata": {},
   "outputs": [
    {
     "data": {
      "text/html": [
       "<div>\n",
       "<style scoped>\n",
       "    .dataframe tbody tr th:only-of-type {\n",
       "        vertical-align: middle;\n",
       "    }\n",
       "\n",
       "    .dataframe tbody tr th {\n",
       "        vertical-align: top;\n",
       "    }\n",
       "\n",
       "    .dataframe thead th {\n",
       "        text-align: right;\n",
       "    }\n",
       "</style>\n",
       "<table border=\"1\" class=\"dataframe\">\n",
       "  <thead>\n",
       "    <tr style=\"text-align: right;\">\n",
       "      <th></th>\n",
       "      <th>PatientID</th>\n",
       "      <th>FirstName</th>\n",
       "      <th>LastName</th>\n",
       "      <th>DateOfBirth</th>\n",
       "      <th>Gender</th>\n",
       "      <th>Race</th>\n",
       "      <th>Language</th>\n",
       "    </tr>\n",
       "  </thead>\n",
       "  <tbody>\n",
       "    <tr>\n",
       "      <th>708</th>\n",
       "      <td>709</td>\n",
       "      <td>Ab</td>\n",
       "      <td>McGonigle</td>\n",
       "      <td>1979-12-10 12:59:34.070</td>\n",
       "      <td>Male</td>\n",
       "      <td>White</td>\n",
       "      <td>English</td>\n",
       "    </tr>\n",
       "    <tr>\n",
       "      <th>296</th>\n",
       "      <td>297</td>\n",
       "      <td>Abel</td>\n",
       "      <td>Restaurants</td>\n",
       "      <td>1967-08-23 00:02:19.483</td>\n",
       "      <td>Female</td>\n",
       "      <td>Black/African-American</td>\n",
       "      <td>English</td>\n",
       "    </tr>\n",
       "    <tr>\n",
       "      <th>619</th>\n",
       "      <td>620</td>\n",
       "      <td>Abernathy</td>\n",
       "      <td>Blunsden</td>\n",
       "      <td>1972-06-17 11:27:07.944</td>\n",
       "      <td>Female</td>\n",
       "      <td>Black/African-American</td>\n",
       "      <td>English</td>\n",
       "    </tr>\n",
       "    <tr>\n",
       "      <th>583</th>\n",
       "      <td>584</td>\n",
       "      <td>Abernathy</td>\n",
       "      <td>Elliott</td>\n",
       "      <td>1976-08-28 04:32:17.040</td>\n",
       "      <td>Female</td>\n",
       "      <td>Black/African-American</td>\n",
       "      <td>English</td>\n",
       "    </tr>\n",
       "    <tr>\n",
       "      <th>94</th>\n",
       "      <td>95</td>\n",
       "      <td>Abey</td>\n",
       "      <td>Philipsson</td>\n",
       "      <td>1978-06-24 03:54:59.884</td>\n",
       "      <td>Male</td>\n",
       "      <td>Black/African-American</td>\n",
       "      <td>Spanish</td>\n",
       "    </tr>\n",
       "    <tr>\n",
       "      <th>...</th>\n",
       "      <td>...</td>\n",
       "      <td>...</td>\n",
       "      <td>...</td>\n",
       "      <td>...</td>\n",
       "      <td>...</td>\n",
       "      <td>...</td>\n",
       "      <td>...</td>\n",
       "    </tr>\n",
       "    <tr>\n",
       "      <th>369</th>\n",
       "      <td>370</td>\n",
       "      <td>Zulauf</td>\n",
       "      <td>Ellingham</td>\n",
       "      <td>1982-12-17 16:27:56.391</td>\n",
       "      <td>Female</td>\n",
       "      <td>White</td>\n",
       "      <td>English</td>\n",
       "    </tr>\n",
       "    <tr>\n",
       "      <th>463</th>\n",
       "      <td>464</td>\n",
       "      <td>Zulauf</td>\n",
       "      <td>Manske</td>\n",
       "      <td>1965-06-22 02:49:28.667</td>\n",
       "      <td>Female</td>\n",
       "      <td>White</td>\n",
       "      <td>English</td>\n",
       "    </tr>\n",
       "    <tr>\n",
       "      <th>910</th>\n",
       "      <td>911</td>\n",
       "      <td>Zulauf</td>\n",
       "      <td>Orbine</td>\n",
       "      <td>1973-06-26 03:13:50.449</td>\n",
       "      <td>Male</td>\n",
       "      <td>Black/African-American</td>\n",
       "      <td>English</td>\n",
       "    </tr>\n",
       "    <tr>\n",
       "      <th>830</th>\n",
       "      <td>831</td>\n",
       "      <td>Zulauf</td>\n",
       "      <td>O'Shavlan</td>\n",
       "      <td>1970-05-17 08:09:28.988</td>\n",
       "      <td>Female</td>\n",
       "      <td>White</td>\n",
       "      <td>English</td>\n",
       "    </tr>\n",
       "    <tr>\n",
       "      <th>454</th>\n",
       "      <td>455</td>\n",
       "      <td>Zulauf</td>\n",
       "      <td>Alvar</td>\n",
       "      <td>1961-10-02 08:24:17.334</td>\n",
       "      <td>Female</td>\n",
       "      <td>White</td>\n",
       "      <td>English</td>\n",
       "    </tr>\n",
       "  </tbody>\n",
       "</table>\n",
       "<p>945 rows × 7 columns</p>\n",
       "</div>"
      ],
      "text/plain": [
       "     PatientID  FirstName     LastName             DateOfBirth  Gender  \\\n",
       "708        709         Ab    McGonigle 1979-12-10 12:59:34.070    Male   \n",
       "296        297       Abel  Restaurants 1967-08-23 00:02:19.483  Female   \n",
       "619        620  Abernathy     Blunsden 1972-06-17 11:27:07.944  Female   \n",
       "583        584  Abernathy      Elliott 1976-08-28 04:32:17.040  Female   \n",
       "94          95       Abey   Philipsson 1978-06-24 03:54:59.884    Male   \n",
       "..         ...        ...          ...                     ...     ...   \n",
       "369        370     Zulauf    Ellingham 1982-12-17 16:27:56.391  Female   \n",
       "463        464     Zulauf       Manske 1965-06-22 02:49:28.667  Female   \n",
       "910        911     Zulauf       Orbine 1973-06-26 03:13:50.449    Male   \n",
       "830        831     Zulauf    O'Shavlan 1970-05-17 08:09:28.988  Female   \n",
       "454        455     Zulauf        Alvar 1961-10-02 08:24:17.334  Female   \n",
       "\n",
       "                       Race Language  \n",
       "708                   White  English  \n",
       "296  Black/African-American  English  \n",
       "619  Black/African-American  English  \n",
       "583  Black/African-American  English  \n",
       "94   Black/African-American  Spanish  \n",
       "..                      ...      ...  \n",
       "369                   White  English  \n",
       "463                   White  English  \n",
       "910  Black/African-American  English  \n",
       "830                   White  English  \n",
       "454                   White  English  \n",
       "\n",
       "[945 rows x 7 columns]"
      ]
     },
     "execution_count": 24,
     "metadata": {},
     "output_type": "execute_result"
    }
   ],
   "source": [
    "dff1.sort_values(by='FirstName')"
   ]
  },
  {
   "cell_type": "markdown",
   "id": "d999bd37",
   "metadata": {},
   "source": [
    "### 2. Plotting using Object Oriented(OO) API in matplotlib with one row and two columns."
   ]
  },
  {
   "cell_type": "code",
   "execution_count": 26,
   "id": "3e37544e",
   "metadata": {},
   "outputs": [
    {
     "data": {
      "image/png": "[encoded data removed]",
      "text/plain": [
       "<Figure size 432x288 with 2 Axes>"
      ]
     },
     "metadata": {
      "needs_background": "light"
     },
     "output_type": "display_data"
    }
   ],
   "source": [
    "# importing the matplotlib library\n",
    "import matplotlib.pyplot as plt\n",
    "  \n",
    "# defining the values of X\n",
    "x =[0, 1, 2, 3, 4, 5, 6]\n",
    "  \n",
    "# defining the value of Y\n",
    "y =[0, 1, 3, 6, 9, 12, 17]\n",
    "  \n",
    "# creating the canvas with class 'fig'\n",
    "# and it's object 'axes' with '1' row \n",
    "# and '2' columns\n",
    "fig, axes = plt.subplots(1, 2)\n",
    "  \n",
    "# plotting graph for 1st column\n",
    "axes[0].plot(x, y, 'g--o')\n",
    "  \n",
    "# plotting graph for second column\n",
    "axes[1].plot(y, x, 'm--o')\n",
    "  \n",
    "# Gives a clean look to the graphs\n",
    "fig.tight_layout()"
   ]
  },
  {
   "cell_type": "markdown",
   "id": "5fe0529e",
   "metadata": {},
   "source": [
    "### 3. Stacking subplots in one direction"
   ]
  },
  {
   "cell_type": "code",
   "execution_count": 27,
   "id": "d67458e6",
   "metadata": {},
   "outputs": [
    {
     "data": {
      "text/plain": [
       "[<matplotlib.lines.Line2D at 0x155ac8c6910>]"
      ]
     },
     "execution_count": 27,
     "metadata": {},
     "output_type": "execute_result"
    },
    {
     "data": {
      "image/png": "[encoded data removed]",
      "text/plain": [
       "<Figure size 432x288 with 2 Axes>"
      ]
     },
     "metadata": {
      "needs_background": "light"
     },
     "output_type": "display_data"
    }
   ],
   "source": [
    "import matplotlib.pyplot as plt\n",
    "import numpy as np\n",
    "\n",
    "# Some example data to display\n",
    "x = np.linspace(0, 2 * np.pi, 400)\n",
    "y = np.sin(x ** 2)\n",
    "fig, axs = plt.subplots(2)\n",
    "fig.suptitle('Vertically stacked subplots')\n",
    "axs[0].plot(x, y)\n",
    "axs[1].plot(x, -y)"
   ]
  },
  {
   "cell_type": "markdown",
   "id": "dc691975",
   "metadata": {},
   "source": [
    "### 4. Side by side subplots pass parameters 1, 2 for one row and two columns."
   ]
  },
  {
   "cell_type": "code",
   "execution_count": 28,
   "id": "362312c8",
   "metadata": {},
   "outputs": [
    {
     "data": {
      "text/plain": [
       "[<matplotlib.lines.Line2D at 0x155ac9834f0>]"
      ]
     },
     "execution_count": 28,
     "metadata": {},
     "output_type": "execute_result"
    },
    {
     "data": {
      "image/png": "[encoded data removed]",
      "text/plain": [
       "<Figure size 432x288 with 2 Axes>"
      ]
     },
     "metadata": {
      "needs_background": "light"
     },
     "output_type": "display_data"
    }
   ],
   "source": [
    "fig, (ax1, ax2) = plt.subplots(1, 2)\n",
    "fig.suptitle('Horizontally stacked subplots')\n",
    "ax1.plot(x, y)\n",
    "ax2.plot(x, -y)"
   ]
  },
  {
   "cell_type": "markdown",
   "id": "50bdd001",
   "metadata": {},
   "source": [
    "### 5. Create a grid of polar Axes."
   ]
  },
  {
   "cell_type": "code",
   "execution_count": 29,
   "id": "2376f308",
   "metadata": {},
   "outputs": [
    {
     "data": {
      "image/png": "[encoded data removed]",
      "text/plain": [
       "<Figure size 432x288 with 2 Axes>"
      ]
     },
     "metadata": {
      "needs_background": "light"
     },
     "output_type": "display_data"
    }
   ],
   "source": [
    "fig, (ax1, ax2) = plt.subplots(1, 2, subplot_kw=dict(projection='polar'))\n",
    "ax1.plot(x, y)\n",
    "ax2.plot(x, y ** 2)\n",
    "\n",
    "plt.show()"
   ]
  },
  {
   "cell_type": "markdown",
   "id": "c26a1963",
   "metadata": {},
   "source": [
    "### 6. How to convert the index of a series into a column of a dataframe?"
   ]
  },
  {
   "cell_type": "code",
   "execution_count": 30,
   "id": "fe419e89",
   "metadata": {},
   "outputs": [],
   "source": [
    "mylist = list('abcedfghijklmnopqrstuvwxyz')\n",
    "myarr = np.arange(26)\n",
    "mydict = dict(zip(mylist, myarr))\n",
    "ser = pd.Series(mydict)"
   ]
  },
  {
   "cell_type": "code",
   "execution_count": 31,
   "id": "1fcd04fa",
   "metadata": {},
   "outputs": [
    {
     "name": "stdout",
     "output_type": "stream",
     "text": [
      "  index  0\n",
      "0     a  0\n",
      "1     b  1\n",
      "2     c  2\n",
      "3     e  3\n",
      "4     d  4\n"
     ]
    }
   ],
   "source": [
    "df = ser.to_frame().reset_index()\n",
    "print(df.head())"
   ]
  },
  {
   "cell_type": "markdown",
   "id": "0af92e43",
   "metadata": {},
   "source": [
    "### 7. How to combine many series to form a dataframe?"
   ]
  },
  {
   "cell_type": "code",
   "execution_count": 32,
   "id": "8faf90bd",
   "metadata": {},
   "outputs": [],
   "source": [
    "import numpy as np\n",
    "ser1 = pd.Series(list('abcedfghijklmnopqrstuvwxyz'))\n",
    "ser2 = pd.Series(np.arange(26))"
   ]
  },
  {
   "cell_type": "code",
   "execution_count": 33,
   "id": "30f5f419",
   "metadata": {},
   "outputs": [
    {
     "name": "stdout",
     "output_type": "stream",
     "text": [
      "  col1  col2\n",
      "0    a     0\n",
      "1    b     1\n",
      "2    c     2\n",
      "3    e     3\n",
      "4    d     4\n"
     ]
    }
   ],
   "source": [
    "df = pd.DataFrame({'col1': ser1, 'col2': ser2})\n",
    "print(df.head())"
   ]
  },
  {
   "cell_type": "markdown",
   "id": "93b7eb03",
   "metadata": {},
   "source": [
    "### 8. How to keep only top 2 most frequent values as it is and replace everything else as ‘Other’?"
   ]
  },
  {
   "cell_type": "code",
   "execution_count": 34,
   "id": "eaeda391",
   "metadata": {},
   "outputs": [],
   "source": [
    "np.random.RandomState(100)\n",
    "ser = pd.Series(np.random.randint(1, 5, [12]))"
   ]
  },
  {
   "cell_type": "code",
   "execution_count": 35,
   "id": "5b965c15",
   "metadata": {},
   "outputs": [
    {
     "name": "stdout",
     "output_type": "stream",
     "text": [
      "Top 2 Freq: 4    5\n",
      "1    3\n",
      "2    2\n",
      "3    2\n",
      "dtype: int64\n"
     ]
    },
    {
     "data": {
      "text/plain": [
       "0         1\n",
       "1         4\n",
       "2         1\n",
       "3     Other\n",
       "4     Other\n",
       "5     Other\n",
       "6         4\n",
       "7         4\n",
       "8         1\n",
       "9         4\n",
       "10        4\n",
       "11    Other\n",
       "dtype: object"
      ]
     },
     "execution_count": 35,
     "metadata": {},
     "output_type": "execute_result"
    }
   ],
   "source": [
    "print(\"Top 2 Freq:\", ser.value_counts())\n",
    "ser[~ser.isin(ser.value_counts().index[:2])] = 'Other'\n",
    "ser"
   ]
  },
  {
   "cell_type": "markdown",
   "id": "528159e3",
   "metadata": {},
   "source": [
    "### 9. How to bin a numeric series to 10 groups of equal size?"
   ]
  },
  {
   "cell_type": "code",
   "execution_count": 36,
   "id": "f76d2f4e",
   "metadata": {},
   "outputs": [
    {
     "name": "stdout",
     "output_type": "stream",
     "text": [
      "0    0.807332\n",
      "1    0.780652\n",
      "2    0.806609\n",
      "3    0.591442\n",
      "4    0.567338\n",
      "dtype: float64\n"
     ]
    }
   ],
   "source": [
    "ser = pd.Series(np.random.random(20))\n",
    "print(ser.head())"
   ]
  },
  {
   "cell_type": "code",
   "execution_count": 37,
   "id": "6d9aa12c",
   "metadata": {},
   "outputs": [
    {
     "data": {
      "text/plain": [
       "0    8th\n",
       "1    7th\n",
       "2    7th\n",
       "3    5th\n",
       "4    5th\n",
       "dtype: category\n",
       "Categories (10, object): ['1st' < '2nd' < '3rd' < '4th' ... '7th' < '8th' < '9th' < '10th']"
      ]
     },
     "execution_count": 37,
     "metadata": {},
     "output_type": "execute_result"
    }
   ],
   "source": [
    "pd.qcut(ser, q=[0, .10, .20, .3, .4, .5, .6, .7, .8, .9, 1], \n",
    "        labels=['1st', '2nd', '3rd', '4th', '5th', '6th', '7th', '8th', '9th', '10th']).head()"
   ]
  },
  {
   "cell_type": "markdown",
   "id": "2ccb7a79",
   "metadata": {},
   "source": [
    "### 10.  How to convert a numpy array to a dataframe of given shape? (L1)"
   ]
  },
  {
   "cell_type": "code",
   "execution_count": 38,
   "id": "6ca1aeaf",
   "metadata": {},
   "outputs": [],
   "source": [
    "ser = pd.Series(np.random.randint(1, 10, 35))"
   ]
  },
  {
   "cell_type": "code",
   "execution_count": 39,
   "id": "b1043310",
   "metadata": {},
   "outputs": [
    {
     "name": "stdout",
     "output_type": "stream",
     "text": [
      "   0  1  2  3  4\n",
      "0  8  3  5  4  4\n",
      "1  2  1  8  5  8\n",
      "2  1  2  8  9  4\n",
      "3  3  3  1  7  6\n",
      "4  8  4  8  2  1\n",
      "5  5  7  5  6  1\n",
      "6  8  8  2  9  5\n"
     ]
    }
   ],
   "source": [
    "df = pd.DataFrame(ser.values.reshape(7,5))\n",
    "print(df)"
   ]
  },
  {
   "cell_type": "markdown",
   "id": "d157270c",
   "metadata": {},
   "source": [
    "### 11. How to extract items at given positions from a series."
   ]
  },
  {
   "cell_type": "code",
   "execution_count": 42,
   "id": "70afb6ec",
   "metadata": {},
   "outputs": [],
   "source": [
    "ser = pd.Series(list('abcdefghijklmnopqrstuvwxyz'))\n",
    "pos = [0, 4, 8, 14, 20]"
   ]
  },
  {
   "cell_type": "code",
   "execution_count": 43,
   "id": "c5026c64",
   "metadata": {},
   "outputs": [
    {
     "data": {
      "text/plain": [
       "0     a\n",
       "4     e\n",
       "8     i\n",
       "14    o\n",
       "20    u\n",
       "dtype: object"
      ]
     },
     "execution_count": 43,
     "metadata": {},
     "output_type": "execute_result"
    }
   ],
   "source": [
    "ser.take(pos)"
   ]
  },
  {
   "cell_type": "markdown",
   "id": "0295e926",
   "metadata": {},
   "source": [
    "### 12. How to stack two series vertically and horizontally ?"
   ]
  },
  {
   "cell_type": "code",
   "execution_count": 44,
   "id": "b4fd7bd5",
   "metadata": {},
   "outputs": [],
   "source": [
    "ser1 = pd.Series(range(5))\n",
    "ser2 = pd.Series(list('abcde'))"
   ]
  },
  {
   "cell_type": "code",
   "execution_count": 45,
   "id": "39faad3a",
   "metadata": {},
   "outputs": [
    {
     "name": "stderr",
     "output_type": "stream",
     "text": [
      "C:\\Users\\aksha\\AppData\\Local\\Temp\\ipykernel_13080\\3087331134.py:2: FutureWarning: The series.append method is deprecated and will be removed from pandas in a future version. Use pandas.concat instead.\n",
      "  ser1.append(ser2)\n"
     ]
    },
    {
     "data": {
      "text/plain": [
       "0    0\n",
       "1    1\n",
       "2    2\n",
       "3    3\n",
       "4    4\n",
       "0    a\n",
       "1    b\n",
       "2    c\n",
       "3    d\n",
       "4    e\n",
       "dtype: object"
      ]
     },
     "execution_count": 45,
     "metadata": {},
     "output_type": "execute_result"
    }
   ],
   "source": [
    "# Vertical\n",
    "ser1.append(ser2)"
   ]
  },
  {
   "cell_type": "code",
   "execution_count": 46,
   "id": "4ee53421",
   "metadata": {},
   "outputs": [
    {
     "name": "stdout",
     "output_type": "stream",
     "text": [
      "   0  1\n",
      "0  0  a\n",
      "1  1  b\n",
      "2  2  c\n",
      "3  3  d\n",
      "4  4  e\n"
     ]
    }
   ],
   "source": [
    "# Horizontal\n",
    "df = pd.concat([ser1, ser2], axis=1)\n",
    "print(df)"
   ]
  },
  {
   "cell_type": "markdown",
   "id": "28faee2e",
   "metadata": {},
   "source": [
    "### 13. How to compute the mean squared error on a truth and predicted series?"
   ]
  },
  {
   "cell_type": "code",
   "execution_count": 47,
   "id": "adc5a286",
   "metadata": {},
   "outputs": [],
   "source": [
    "truth = pd.Series(range(10))\n",
    "pred = pd.Series(range(10)) + np.random.random(10)"
   ]
  },
  {
   "cell_type": "code",
   "execution_count": 48,
   "id": "8a2d4bf5",
   "metadata": {},
   "outputs": [
    {
     "data": {
      "text/plain": [
       "0.44874705493962497"
      ]
     },
     "execution_count": 48,
     "metadata": {},
     "output_type": "execute_result"
    }
   ],
   "source": [
    "np.mean((truth-pred)**2)"
   ]
  },
  {
   "cell_type": "markdown",
   "id": "46306d82",
   "metadata": {},
   "source": [
    "### 14. How to convert the first character of each element in a series to uppercase?"
   ]
  },
  {
   "cell_type": "code",
   "execution_count": 49,
   "id": "e3c7185c",
   "metadata": {},
   "outputs": [],
   "source": [
    "ser = pd.Series(['how', 'to', 'kick', 'ass?'])"
   ]
  },
  {
   "cell_type": "code",
   "execution_count": 50,
   "id": "58dab98e",
   "metadata": {},
   "outputs": [
    {
     "data": {
      "text/plain": [
       "0     How\n",
       "1      To\n",
       "2    Kick\n",
       "3    Ass?\n",
       "dtype: object"
      ]
     },
     "execution_count": 50,
     "metadata": {},
     "output_type": "execute_result"
    }
   ],
   "source": [
    "ser.map(lambda x: x.title())"
   ]
  },
  {
   "cell_type": "markdown",
   "id": "5cda4899",
   "metadata": {},
   "source": [
    "### 15. How to calculate the number of characters in each word in a series?"
   ]
  },
  {
   "cell_type": "code",
   "execution_count": 51,
   "id": "aaf0c196",
   "metadata": {},
   "outputs": [],
   "source": [
    "ser = pd.Series(['how', 'to', 'kick', 'ass?'])"
   ]
  },
  {
   "cell_type": "code",
   "execution_count": 52,
   "id": "3d3b3684",
   "metadata": {},
   "outputs": [
    {
     "data": {
      "text/plain": [
       "0    3\n",
       "1    2\n",
       "2    4\n",
       "3    4\n",
       "dtype: int64"
      ]
     },
     "execution_count": 52,
     "metadata": {},
     "output_type": "execute_result"
    }
   ],
   "source": [
    "ser.map(lambda x: len(x))"
   ]
  },
  {
   "cell_type": "markdown",
   "id": "4610382b",
   "metadata": {},
   "source": [
    "### 16. How to get the day of month, week number, day of year from a series of date strings?"
   ]
  },
  {
   "cell_type": "code",
   "execution_count": 53,
   "id": "4b7196f1",
   "metadata": {},
   "outputs": [],
   "source": [
    "ser = pd.Series(['01 Jan 2010', '02-02-2011', '20120303', '2013/04/04', '2014-05-05', '2015-06-06T12:20'])"
   ]
  },
  {
   "cell_type": "code",
   "execution_count": 55,
   "id": "aaea9e5a",
   "metadata": {},
   "outputs": [
    {
     "name": "stdout",
     "output_type": "stream",
     "text": [
      "Date:  [1, 2, 3, 4, 5, 6]\n",
      "Week number:  [53, 5, 9, 14, 19, 23]\n",
      "Day number of year:  [1, 33, 63, 94, 125, 157]\n"
     ]
    },
    {
     "name": "stderr",
     "output_type": "stream",
     "text": [
      "C:\\Users\\aksha\\AppData\\Local\\Temp\\ipykernel_13080\\1391436246.py:9: FutureWarning: Series.dt.weekofyear and Series.dt.week have been deprecated. Please use Series.dt.isocalendar().week instead.\n",
      "  print(\"Week number: \", ser_ts.dt.weekofyear.tolist())\n"
     ]
    }
   ],
   "source": [
    "# Solution\n",
    "from dateutil.parser import parse\n",
    "ser_ts = ser.map(lambda x: parse(x))\n",
    "\n",
    "# day of month\n",
    "print(\"Date: \", ser_ts.dt.day.tolist())\n",
    "\n",
    "# week number\n",
    "print(\"Week number: \", ser_ts.dt.weekofyear.tolist())\n",
    "\n",
    "# day of year\n",
    "print(\"Day number of year: \", ser_ts.dt.dayofyear.tolist())\n"
   ]
  },
  {
   "cell_type": "markdown",
   "id": "7607d988",
   "metadata": {},
   "source": [
    "### 17. How to filter words that contain atleast 2 vowels from a series?"
   ]
  },
  {
   "cell_type": "code",
   "execution_count": 56,
   "id": "0b4cf819",
   "metadata": {},
   "outputs": [],
   "source": [
    "ser = pd.Series(['Apple', 'Orange', 'Plan', 'Python', 'Money'])"
   ]
  },
  {
   "cell_type": "code",
   "execution_count": 57,
   "id": "f63bb18f",
   "metadata": {},
   "outputs": [
    {
     "data": {
      "text/plain": [
       "0     Apple\n",
       "1    Orange\n",
       "4     Money\n",
       "dtype: object"
      ]
     },
     "execution_count": 57,
     "metadata": {},
     "output_type": "execute_result"
    }
   ],
   "source": [
    "from collections import Counter\n",
    "mask = ser.map(lambda x: sum([Counter(x.lower()).get(i, 0) for i in list('aeiou')]) >= 2)\n",
    "ser[mask]"
   ]
  },
  {
   "cell_type": "markdown",
   "id": "b2dfb133",
   "metadata": {},
   "source": [
    "### 18. How to compute the euclidean distance between two series?"
   ]
  },
  {
   "cell_type": "code",
   "execution_count": 58,
   "id": "d7527e32",
   "metadata": {},
   "outputs": [],
   "source": [
    "p = pd.Series([1, 2, 3, 4, 5, 6, 7, 8, 9, 10])\n",
    "q = pd.Series([10, 9, 8, 7, 6, 5, 4, 3, 2, 1])"
   ]
  },
  {
   "cell_type": "code",
   "execution_count": 59,
   "id": "b071aa1a",
   "metadata": {},
   "outputs": [
    {
     "data": {
      "text/plain": [
       "18.16590212458495"
      ]
     },
     "execution_count": 59,
     "metadata": {},
     "output_type": "execute_result"
    }
   ],
   "source": [
    "sum((p - q)**2)**.5"
   ]
  },
  {
   "cell_type": "markdown",
   "id": "1ba011d8",
   "metadata": {},
   "source": [
    "### 19. How to create a dataframe with rows as strides from a given series?"
   ]
  },
  {
   "cell_type": "code",
   "execution_count": 60,
   "id": "dd09fc8c",
   "metadata": {},
   "outputs": [],
   "source": [
    "L = pd.Series(range(15))\n",
    "\n",
    "def gen_strides(a, stride_len=5, window_len=5):\n",
    "    n_strides = ((a.size-window_len)//stride_len) + 1\n",
    "    return np.array([a[s:(s+window_len)] for s in np.arange(0, a.size, stride_len)[:n_strides]])"
   ]
  },
  {
   "cell_type": "code",
   "execution_count": 61,
   "id": "5c32618c",
   "metadata": {},
   "outputs": [
    {
     "data": {
      "text/plain": [
       "array([[ 0,  1,  2,  3],\n",
       "       [ 2,  3,  4,  5],\n",
       "       [ 4,  5,  6,  7],\n",
       "       [ 6,  7,  8,  9],\n",
       "       [ 8,  9, 10, 11],\n",
       "       [10, 11, 12, 13]], dtype=int64)"
      ]
     },
     "execution_count": 61,
     "metadata": {},
     "output_type": "execute_result"
    }
   ],
   "source": [
    "gen_strides(L, stride_len=2, window_len=4)"
   ]
  },
  {
   "cell_type": "markdown",
   "id": "631d3092",
   "metadata": {},
   "source": [
    "### 20. How to get the nrows, ncolumns, datatype, summary stats of each column of a dataframe? "
   ]
  },
  {
   "cell_type": "code",
   "execution_count": 62,
   "id": "812b8d3d",
   "metadata": {},
   "outputs": [],
   "source": [
    "#read excle into dataframe\n",
    "dff2 = pd.read_excel(\"C:\\\\Users\\\\aksha\\\\OneDrive\\\\Desktop\\\\E-Drive\\\\Numpy Ninja\\\\Python Hackathon\\\\HospitalDatabase.xlsx\", sheet_name='Patients')"
   ]
  },
  {
   "cell_type": "code",
   "execution_count": 63,
   "id": "725971fa",
   "metadata": {},
   "outputs": [
    {
     "name": "stdout",
     "output_type": "stream",
     "text": [
      "PatientID               int64\n",
      "FirstName              object\n",
      "LastName               object\n",
      "DateOfBirth    datetime64[ns]\n",
      "Gender                 object\n",
      "Race                   object\n",
      "Language               object\n",
      "dtype: object\n"
     ]
    }
   ],
   "source": [
    "# datatypes\n",
    "print(dff2.dtypes)"
   ]
  },
  {
   "cell_type": "code",
   "execution_count": 66,
   "id": "71c12cf2",
   "metadata": {},
   "outputs": [
    {
     "name": "stdout",
     "output_type": "stream",
     "text": [
      "object            5\n",
      "int64             1\n",
      "datetime64[ns]    1\n",
      "dtype: int64\n"
     ]
    }
   ],
   "source": [
    "# how many columns under each dtype\n",
    "print(dff2.dtypes.value_counts())"
   ]
  },
  {
   "cell_type": "code",
   "execution_count": 65,
   "id": "880d4a6c",
   "metadata": {},
   "outputs": [
    {
     "name": "stdout",
     "output_type": "stream",
     "text": [
      "(945, 7)\n"
     ]
    }
   ],
   "source": [
    "#  number of rows and columns\n",
    "print(dff2.shape)"
   ]
  },
  {
   "cell_type": "code",
   "execution_count": 67,
   "id": "3229e509",
   "metadata": {},
   "outputs": [],
   "source": [
    "# summary statistics\n",
    "df_stats = dff2.describe()"
   ]
  },
  {
   "cell_type": "code",
   "execution_count": 68,
   "id": "4e834479",
   "metadata": {},
   "outputs": [
    {
     "data": {
      "text/html": [
       "<div>\n",
       "<style scoped>\n",
       "    .dataframe tbody tr th:only-of-type {\n",
       "        vertical-align: middle;\n",
       "    }\n",
       "\n",
       "    .dataframe tbody tr th {\n",
       "        vertical-align: top;\n",
       "    }\n",
       "\n",
       "    .dataframe thead th {\n",
       "        text-align: right;\n",
       "    }\n",
       "</style>\n",
       "<table border=\"1\" class=\"dataframe\">\n",
       "  <thead>\n",
       "    <tr style=\"text-align: right;\">\n",
       "      <th></th>\n",
       "      <th>PatientID</th>\n",
       "    </tr>\n",
       "  </thead>\n",
       "  <tbody>\n",
       "    <tr>\n",
       "      <th>count</th>\n",
       "      <td>945.000000</td>\n",
       "    </tr>\n",
       "    <tr>\n",
       "      <th>mean</th>\n",
       "      <td>473.000000</td>\n",
       "    </tr>\n",
       "    <tr>\n",
       "      <th>std</th>\n",
       "      <td>272.942302</td>\n",
       "    </tr>\n",
       "    <tr>\n",
       "      <th>min</th>\n",
       "      <td>1.000000</td>\n",
       "    </tr>\n",
       "    <tr>\n",
       "      <th>25%</th>\n",
       "      <td>237.000000</td>\n",
       "    </tr>\n",
       "    <tr>\n",
       "      <th>50%</th>\n",
       "      <td>473.000000</td>\n",
       "    </tr>\n",
       "    <tr>\n",
       "      <th>75%</th>\n",
       "      <td>709.000000</td>\n",
       "    </tr>\n",
       "    <tr>\n",
       "      <th>max</th>\n",
       "      <td>945.000000</td>\n",
       "    </tr>\n",
       "  </tbody>\n",
       "</table>\n",
       "</div>"
      ],
      "text/plain": [
       "        PatientID\n",
       "count  945.000000\n",
       "mean   473.000000\n",
       "std    272.942302\n",
       "min      1.000000\n",
       "25%    237.000000\n",
       "50%    473.000000\n",
       "75%    709.000000\n",
       "max    945.000000"
      ]
     },
     "execution_count": 68,
     "metadata": {},
     "output_type": "execute_result"
    }
   ],
   "source": [
    "df_stats"
   ]
  },
  {
   "cell_type": "markdown",
   "id": "c53dbbf3",
   "metadata": {},
   "source": [
    "### 21. How to check if a dataframe has any missing values?"
   ]
  },
  {
   "cell_type": "code",
   "execution_count": 74,
   "id": "2f26e6c6",
   "metadata": {},
   "outputs": [],
   "source": [
    "#read excle into dataframe\n",
    "dff3 = pd.read_excel(\"C:\\\\Users\\\\aksha\\\\OneDrive\\\\Desktop\\\\E-Drive\\\\Numpy Ninja\\\\Python Hackathon\\\\HospitalDatabase.xlsx\", sheet_name='Patients')"
   ]
  },
  {
   "cell_type": "code",
   "execution_count": 73,
   "id": "f70e1e9e",
   "metadata": {},
   "outputs": [
    {
     "data": {
      "text/plain": [
       "True"
      ]
     },
     "execution_count": 73,
     "metadata": {},
     "output_type": "execute_result"
    }
   ],
   "source": [
    "dff3.isnull().values.any()"
   ]
  },
  {
   "cell_type": "markdown",
   "id": "cc45c640",
   "metadata": {},
   "source": [
    "### 22. How to count the number of missing values in each column?"
   ]
  },
  {
   "cell_type": "code",
   "execution_count": 77,
   "id": "2ba4fe3d",
   "metadata": {},
   "outputs": [],
   "source": [
    "#read excle into dataframe\n",
    "dff4 = pd.read_excel(\"C:\\\\Users\\\\aksha\\\\OneDrive\\\\Desktop\\\\E-Drive\\\\Numpy Ninja\\\\Python Hackathon\\\\HospitalDatabase.xlsx\", sheet_name='ReAdmissionRegistry')"
   ]
  },
  {
   "cell_type": "code",
   "execution_count": 78,
   "id": "bc2f9d90",
   "metadata": {},
   "outputs": [
    {
     "data": {
      "text/plain": [
       "9"
      ]
     },
     "execution_count": 78,
     "metadata": {},
     "output_type": "execute_result"
    }
   ],
   "source": [
    "n_missings_each_col = dff4.apply(lambda x: x.isnull().sum())\n",
    "n_missings_each_col.argmax()"
   ]
  },
  {
   "cell_type": "markdown",
   "id": "19103b6c",
   "metadata": {},
   "source": [
    "### 23. How to change the order of columns of a dataframe?"
   ]
  },
  {
   "cell_type": "code",
   "execution_count": 82,
   "id": "bb47c6c7",
   "metadata": {},
   "outputs": [],
   "source": [
    "dff5 = pd.DataFrame(np.arange(20).reshape(-1, 5), columns=list('abcde'))"
   ]
  },
  {
   "cell_type": "code",
   "execution_count": 84,
   "id": "61fea5fe",
   "metadata": {},
   "outputs": [],
   "source": [
    "#Sort the columns in reverse alphabetical order\n",
    "dff5.sort_index(axis=1, ascending=False, inplace=True)"
   ]
  },
  {
   "cell_type": "markdown",
   "id": "3b0ad699",
   "metadata": {},
   "source": [
    "### 24. How to format or suppress scientific notations in a pandas dataframe?"
   ]
  },
  {
   "cell_type": "code",
   "execution_count": 89,
   "id": "009310d3",
   "metadata": {},
   "outputs": [],
   "source": [
    "dff6 = pd.DataFrame(np.random.random(4)**10, columns=['random'])"
   ]
  },
  {
   "cell_type": "code",
   "execution_count": 90,
   "id": "924f09ea",
   "metadata": {},
   "outputs": [
    {
     "data": {
      "text/plain": [
       "0    0.7258\n",
       "1    0.3360\n",
       "2    0.0182\n",
       "3    0.0261\n",
       "dtype: object"
      ]
     },
     "execution_count": 90,
     "metadata": {},
     "output_type": "execute_result"
    }
   ],
   "source": [
    "# Solution 1: Rounding\n",
    "dff6.round(4)\n",
    "\n",
    "# Solution 2: Use apply to change format\n",
    "dff6.apply(lambda x: '%.4f' % x, axis=1)"
   ]
  },
  {
   "cell_type": "markdown",
   "id": "7bf78281",
   "metadata": {},
   "source": [
    "### 25. How to format all the values in a dataframe as percentages?"
   ]
  },
  {
   "cell_type": "code",
   "execution_count": 91,
   "id": "fb68196c",
   "metadata": {},
   "outputs": [],
   "source": [
    "dff7 = pd.DataFrame(np.random.random(4), columns=['random'])"
   ]
  },
  {
   "cell_type": "code",
   "execution_count": 94,
   "id": "83953dde",
   "metadata": {},
   "outputs": [],
   "source": [
    "out = dff7.style.format({\n",
    "    'random': '{0:.2%}'.format,\n",
    "})"
   ]
  },
  {
   "cell_type": "code",
   "execution_count": 95,
   "id": "4bc1e29f",
   "metadata": {},
   "outputs": [
    {
     "data": {
      "text/html": [
       "<style type=\"text/css\">\n",
       "</style>\n",
       "<table id=\"T_74514\">\n",
       "  <thead>\n",
       "    <tr>\n",
       "      <th class=\"blank level0\" >&nbsp;</th>\n",
       "      <th id=\"T_74514_level0_col0\" class=\"col_heading level0 col0\" >random</th>\n",
       "    </tr>\n",
       "  </thead>\n",
       "  <tbody>\n",
       "    <tr>\n",
       "      <th id=\"T_74514_level0_row0\" class=\"row_heading level0 row0\" >0</th>\n",
       "      <td id=\"T_74514_row0_col0\" class=\"data row0 col0\" >82.17%</td>\n",
       "    </tr>\n",
       "    <tr>\n",
       "      <th id=\"T_74514_level0_row1\" class=\"row_heading level0 row1\" >1</th>\n",
       "      <td id=\"T_74514_row1_col0\" class=\"data row1 col0\" >85.77%</td>\n",
       "    </tr>\n",
       "    <tr>\n",
       "      <th id=\"T_74514_level0_row2\" class=\"row_heading level0 row2\" >2</th>\n",
       "      <td id=\"T_74514_row2_col0\" class=\"data row2 col0\" >35.13%</td>\n",
       "    </tr>\n",
       "    <tr>\n",
       "      <th id=\"T_74514_level0_row3\" class=\"row_heading level0 row3\" >3</th>\n",
       "      <td id=\"T_74514_row3_col0\" class=\"data row3 col0\" >52.77%</td>\n",
       "    </tr>\n",
       "  </tbody>\n",
       "</table>\n"
      ],
      "text/plain": [
       "<pandas.io.formats.style.Styler at 0x155ada56970>"
      ]
     },
     "execution_count": 95,
     "metadata": {},
     "output_type": "execute_result"
    }
   ],
   "source": [
    "out"
   ]
  },
  {
   "cell_type": "markdown",
   "id": "0a7be931",
   "metadata": {},
   "source": [
    "### 26. How to reverse the rows of a dataframe?"
   ]
  },
  {
   "cell_type": "code",
   "execution_count": 96,
   "id": "e4af8df0",
   "metadata": {},
   "outputs": [],
   "source": [
    "dff8 = pd.DataFrame(np.arange(25).reshape(5, -1))"
   ]
  },
  {
   "cell_type": "code",
   "execution_count": 98,
   "id": "b80f95b6",
   "metadata": {},
   "outputs": [
    {
     "data": {
      "text/html": [
       "<div>\n",
       "<style scoped>\n",
       "    .dataframe tbody tr th:only-of-type {\n",
       "        vertical-align: middle;\n",
       "    }\n",
       "\n",
       "    .dataframe tbody tr th {\n",
       "        vertical-align: top;\n",
       "    }\n",
       "\n",
       "    .dataframe thead th {\n",
       "        text-align: right;\n",
       "    }\n",
       "</style>\n",
       "<table border=\"1\" class=\"dataframe\">\n",
       "  <thead>\n",
       "    <tr style=\"text-align: right;\">\n",
       "      <th></th>\n",
       "      <th>0</th>\n",
       "      <th>1</th>\n",
       "      <th>2</th>\n",
       "      <th>3</th>\n",
       "      <th>4</th>\n",
       "    </tr>\n",
       "  </thead>\n",
       "  <tbody>\n",
       "    <tr>\n",
       "      <th>0</th>\n",
       "      <td>0</td>\n",
       "      <td>1</td>\n",
       "      <td>2</td>\n",
       "      <td>3</td>\n",
       "      <td>4</td>\n",
       "    </tr>\n",
       "    <tr>\n",
       "      <th>1</th>\n",
       "      <td>5</td>\n",
       "      <td>6</td>\n",
       "      <td>7</td>\n",
       "      <td>8</td>\n",
       "      <td>9</td>\n",
       "    </tr>\n",
       "    <tr>\n",
       "      <th>2</th>\n",
       "      <td>10</td>\n",
       "      <td>11</td>\n",
       "      <td>12</td>\n",
       "      <td>13</td>\n",
       "      <td>14</td>\n",
       "    </tr>\n",
       "    <tr>\n",
       "      <th>3</th>\n",
       "      <td>15</td>\n",
       "      <td>16</td>\n",
       "      <td>17</td>\n",
       "      <td>18</td>\n",
       "      <td>19</td>\n",
       "    </tr>\n",
       "    <tr>\n",
       "      <th>4</th>\n",
       "      <td>20</td>\n",
       "      <td>21</td>\n",
       "      <td>22</td>\n",
       "      <td>23</td>\n",
       "      <td>24</td>\n",
       "    </tr>\n",
       "  </tbody>\n",
       "</table>\n",
       "</div>"
      ],
      "text/plain": [
       "    0   1   2   3   4\n",
       "0   0   1   2   3   4\n",
       "1   5   6   7   8   9\n",
       "2  10  11  12  13  14\n",
       "3  15  16  17  18  19\n",
       "4  20  21  22  23  24"
      ]
     },
     "execution_count": 98,
     "metadata": {},
     "output_type": "execute_result"
    }
   ],
   "source": [
    "dff8"
   ]
  },
  {
   "cell_type": "code",
   "execution_count": 97,
   "id": "fff7937b",
   "metadata": {},
   "outputs": [
    {
     "name": "stdout",
     "output_type": "stream",
     "text": [
      "    0   1   2   3   4\n",
      "4  20  21  22  23  24\n",
      "3  15  16  17  18  19\n",
      "2  10  11  12  13  14\n",
      "1   5   6   7   8   9\n",
      "0   0   1   2   3   4\n"
     ]
    }
   ],
   "source": [
    "print(dff8.loc[dff8.index[::-1], :])"
   ]
  },
  {
   "cell_type": "markdown",
   "id": "44650428",
   "metadata": {},
   "source": [
    "### 27. How to join two dataframes by 2 columns so they have only the common rows?"
   ]
  },
  {
   "cell_type": "code",
   "execution_count": 106,
   "id": "21d5cd9b",
   "metadata": {},
   "outputs": [],
   "source": [
    "df1 = pd.DataFrame({'fruit': ['apple', 'banana', 'orange'] * 3,\n",
    "                    'weight': ['high', 'medium', 'low'] * 3,\n",
    "                    'price': np.random.randint(0, 15, 9)})\n",
    "\n",
    "df2 = pd.DataFrame({'pazham': ['apple', 'orange', 'pine'] * 2,\n",
    "                    'kilo': ['high', 'low'] * 3,\n",
    "                    'price': np.random.randint(0, 15, 6)})"
   ]
  },
  {
   "cell_type": "code",
   "execution_count": 107,
   "id": "136ea52a",
   "metadata": {},
   "outputs": [
    {
     "data": {
      "text/html": [
       "<div>\n",
       "<style scoped>\n",
       "    .dataframe tbody tr th:only-of-type {\n",
       "        vertical-align: middle;\n",
       "    }\n",
       "\n",
       "    .dataframe tbody tr th {\n",
       "        vertical-align: top;\n",
       "    }\n",
       "\n",
       "    .dataframe thead th {\n",
       "        text-align: right;\n",
       "    }\n",
       "</style>\n",
       "<table border=\"1\" class=\"dataframe\">\n",
       "  <thead>\n",
       "    <tr style=\"text-align: right;\">\n",
       "      <th></th>\n",
       "      <th>fruit</th>\n",
       "      <th>weight</th>\n",
       "      <th>price</th>\n",
       "    </tr>\n",
       "  </thead>\n",
       "  <tbody>\n",
       "    <tr>\n",
       "      <th>0</th>\n",
       "      <td>apple</td>\n",
       "      <td>high</td>\n",
       "      <td>8</td>\n",
       "    </tr>\n",
       "    <tr>\n",
       "      <th>1</th>\n",
       "      <td>banana</td>\n",
       "      <td>medium</td>\n",
       "      <td>4</td>\n",
       "    </tr>\n",
       "    <tr>\n",
       "      <th>2</th>\n",
       "      <td>orange</td>\n",
       "      <td>low</td>\n",
       "      <td>3</td>\n",
       "    </tr>\n",
       "    <tr>\n",
       "      <th>3</th>\n",
       "      <td>apple</td>\n",
       "      <td>high</td>\n",
       "      <td>8</td>\n",
       "    </tr>\n",
       "    <tr>\n",
       "      <th>4</th>\n",
       "      <td>banana</td>\n",
       "      <td>medium</td>\n",
       "      <td>11</td>\n",
       "    </tr>\n",
       "    <tr>\n",
       "      <th>5</th>\n",
       "      <td>orange</td>\n",
       "      <td>low</td>\n",
       "      <td>7</td>\n",
       "    </tr>\n",
       "    <tr>\n",
       "      <th>6</th>\n",
       "      <td>apple</td>\n",
       "      <td>high</td>\n",
       "      <td>11</td>\n",
       "    </tr>\n",
       "    <tr>\n",
       "      <th>7</th>\n",
       "      <td>banana</td>\n",
       "      <td>medium</td>\n",
       "      <td>1</td>\n",
       "    </tr>\n",
       "    <tr>\n",
       "      <th>8</th>\n",
       "      <td>orange</td>\n",
       "      <td>low</td>\n",
       "      <td>14</td>\n",
       "    </tr>\n",
       "  </tbody>\n",
       "</table>\n",
       "</div>"
      ],
      "text/plain": [
       "    fruit  weight  price\n",
       "0   apple    high      8\n",
       "1  banana  medium      4\n",
       "2  orange     low      3\n",
       "3   apple    high      8\n",
       "4  banana  medium     11\n",
       "5  orange     low      7\n",
       "6   apple    high     11\n",
       "7  banana  medium      1\n",
       "8  orange     low     14"
      ]
     },
     "execution_count": 107,
     "metadata": {},
     "output_type": "execute_result"
    }
   ],
   "source": [
    "df1"
   ]
  },
  {
   "cell_type": "code",
   "execution_count": 108,
   "id": "e2098dff",
   "metadata": {},
   "outputs": [
    {
     "data": {
      "text/html": [
       "<div>\n",
       "<style scoped>\n",
       "    .dataframe tbody tr th:only-of-type {\n",
       "        vertical-align: middle;\n",
       "    }\n",
       "\n",
       "    .dataframe tbody tr th {\n",
       "        vertical-align: top;\n",
       "    }\n",
       "\n",
       "    .dataframe thead th {\n",
       "        text-align: right;\n",
       "    }\n",
       "</style>\n",
       "<table border=\"1\" class=\"dataframe\">\n",
       "  <thead>\n",
       "    <tr style=\"text-align: right;\">\n",
       "      <th></th>\n",
       "      <th>pazham</th>\n",
       "      <th>kilo</th>\n",
       "      <th>price</th>\n",
       "    </tr>\n",
       "  </thead>\n",
       "  <tbody>\n",
       "    <tr>\n",
       "      <th>0</th>\n",
       "      <td>apple</td>\n",
       "      <td>high</td>\n",
       "      <td>6</td>\n",
       "    </tr>\n",
       "    <tr>\n",
       "      <th>1</th>\n",
       "      <td>orange</td>\n",
       "      <td>low</td>\n",
       "      <td>1</td>\n",
       "    </tr>\n",
       "    <tr>\n",
       "      <th>2</th>\n",
       "      <td>pine</td>\n",
       "      <td>high</td>\n",
       "      <td>7</td>\n",
       "    </tr>\n",
       "    <tr>\n",
       "      <th>3</th>\n",
       "      <td>apple</td>\n",
       "      <td>low</td>\n",
       "      <td>11</td>\n",
       "    </tr>\n",
       "    <tr>\n",
       "      <th>4</th>\n",
       "      <td>orange</td>\n",
       "      <td>high</td>\n",
       "      <td>11</td>\n",
       "    </tr>\n",
       "    <tr>\n",
       "      <th>5</th>\n",
       "      <td>pine</td>\n",
       "      <td>low</td>\n",
       "      <td>6</td>\n",
       "    </tr>\n",
       "  </tbody>\n",
       "</table>\n",
       "</div>"
      ],
      "text/plain": [
       "   pazham  kilo  price\n",
       "0   apple  high      6\n",
       "1  orange   low      1\n",
       "2    pine  high      7\n",
       "3   apple   low     11\n",
       "4  orange  high     11\n",
       "5    pine   low      6"
      ]
     },
     "execution_count": 108,
     "metadata": {},
     "output_type": "execute_result"
    }
   ],
   "source": [
    "df2"
   ]
  },
  {
   "cell_type": "code",
   "execution_count": 109,
   "id": "bf3fecff",
   "metadata": {},
   "outputs": [
    {
     "data": {
      "text/html": [
       "<div>\n",
       "<style scoped>\n",
       "    .dataframe tbody tr th:only-of-type {\n",
       "        vertical-align: middle;\n",
       "    }\n",
       "\n",
       "    .dataframe tbody tr th {\n",
       "        vertical-align: top;\n",
       "    }\n",
       "\n",
       "    .dataframe thead th {\n",
       "        text-align: right;\n",
       "    }\n",
       "</style>\n",
       "<table border=\"1\" class=\"dataframe\">\n",
       "  <thead>\n",
       "    <tr style=\"text-align: right;\">\n",
       "      <th></th>\n",
       "      <th>fruit</th>\n",
       "      <th>weight</th>\n",
       "      <th>price_left</th>\n",
       "      <th>pazham</th>\n",
       "      <th>kilo</th>\n",
       "      <th>price_right</th>\n",
       "    </tr>\n",
       "  </thead>\n",
       "  <tbody>\n",
       "    <tr>\n",
       "      <th>0</th>\n",
       "      <td>apple</td>\n",
       "      <td>high</td>\n",
       "      <td>8</td>\n",
       "      <td>apple</td>\n",
       "      <td>high</td>\n",
       "      <td>6</td>\n",
       "    </tr>\n",
       "    <tr>\n",
       "      <th>1</th>\n",
       "      <td>apple</td>\n",
       "      <td>high</td>\n",
       "      <td>8</td>\n",
       "      <td>apple</td>\n",
       "      <td>high</td>\n",
       "      <td>6</td>\n",
       "    </tr>\n",
       "    <tr>\n",
       "      <th>2</th>\n",
       "      <td>apple</td>\n",
       "      <td>high</td>\n",
       "      <td>11</td>\n",
       "      <td>apple</td>\n",
       "      <td>high</td>\n",
       "      <td>6</td>\n",
       "    </tr>\n",
       "    <tr>\n",
       "      <th>3</th>\n",
       "      <td>orange</td>\n",
       "      <td>low</td>\n",
       "      <td>3</td>\n",
       "      <td>orange</td>\n",
       "      <td>low</td>\n",
       "      <td>1</td>\n",
       "    </tr>\n",
       "    <tr>\n",
       "      <th>4</th>\n",
       "      <td>orange</td>\n",
       "      <td>low</td>\n",
       "      <td>7</td>\n",
       "      <td>orange</td>\n",
       "      <td>low</td>\n",
       "      <td>1</td>\n",
       "    </tr>\n",
       "    <tr>\n",
       "      <th>5</th>\n",
       "      <td>orange</td>\n",
       "      <td>low</td>\n",
       "      <td>14</td>\n",
       "      <td>orange</td>\n",
       "      <td>low</td>\n",
       "      <td>1</td>\n",
       "    </tr>\n",
       "  </tbody>\n",
       "</table>\n",
       "</div>"
      ],
      "text/plain": [
       "    fruit weight  price_left  pazham  kilo  price_right\n",
       "0   apple   high           8   apple  high            6\n",
       "1   apple   high           8   apple  high            6\n",
       "2   apple   high          11   apple  high            6\n",
       "3  orange    low           3  orange   low            1\n",
       "4  orange    low           7  orange   low            1\n",
       "5  orange    low          14  orange   low            1"
      ]
     },
     "execution_count": 109,
     "metadata": {},
     "output_type": "execute_result"
    }
   ],
   "source": [
    "pd.merge(df1, df2, how='inner', left_on=['fruit', 'weight'], right_on=['pazham', 'kilo'], suffixes=['_left', '_right'])"
   ]
  },
  {
   "cell_type": "markdown",
   "id": "f6a46fe8",
   "metadata": {},
   "source": [
    "### 28. How to remove rows from a dataframe that are present in another dataframe?"
   ]
  },
  {
   "cell_type": "code",
   "execution_count": 110,
   "id": "81f80261",
   "metadata": {},
   "outputs": [],
   "source": [
    "df11 = pd.DataFrame({'fruit': ['apple', 'orange', 'banana'] * 3,\n",
    "                    'weight': ['high', 'medium', 'low'] * 3,\n",
    "                    'price': np.arange(9)})\n",
    "\n",
    "df12 = pd.DataFrame({'fruit': ['apple', 'orange', 'pine'] * 2,\n",
    "                    'weight': ['high', 'medium'] * 3,\n",
    "                    'price': np.arange(6)})"
   ]
  },
  {
   "cell_type": "code",
   "execution_count": 112,
   "id": "48e24d01",
   "metadata": {},
   "outputs": [
    {
     "data": {
      "text/html": [
       "<div>\n",
       "<style scoped>\n",
       "    .dataframe tbody tr th:only-of-type {\n",
       "        vertical-align: middle;\n",
       "    }\n",
       "\n",
       "    .dataframe tbody tr th {\n",
       "        vertical-align: top;\n",
       "    }\n",
       "\n",
       "    .dataframe thead th {\n",
       "        text-align: right;\n",
       "    }\n",
       "</style>\n",
       "<table border=\"1\" class=\"dataframe\">\n",
       "  <thead>\n",
       "    <tr style=\"text-align: right;\">\n",
       "      <th></th>\n",
       "      <th>fruit</th>\n",
       "      <th>weight</th>\n",
       "      <th>price</th>\n",
       "    </tr>\n",
       "  </thead>\n",
       "  <tbody>\n",
       "    <tr>\n",
       "      <th>0</th>\n",
       "      <td>apple</td>\n",
       "      <td>high</td>\n",
       "      <td>0</td>\n",
       "    </tr>\n",
       "    <tr>\n",
       "      <th>1</th>\n",
       "      <td>orange</td>\n",
       "      <td>medium</td>\n",
       "      <td>1</td>\n",
       "    </tr>\n",
       "    <tr>\n",
       "      <th>2</th>\n",
       "      <td>banana</td>\n",
       "      <td>low</td>\n",
       "      <td>2</td>\n",
       "    </tr>\n",
       "    <tr>\n",
       "      <th>3</th>\n",
       "      <td>apple</td>\n",
       "      <td>high</td>\n",
       "      <td>3</td>\n",
       "    </tr>\n",
       "    <tr>\n",
       "      <th>4</th>\n",
       "      <td>orange</td>\n",
       "      <td>medium</td>\n",
       "      <td>4</td>\n",
       "    </tr>\n",
       "    <tr>\n",
       "      <th>5</th>\n",
       "      <td>banana</td>\n",
       "      <td>low</td>\n",
       "      <td>5</td>\n",
       "    </tr>\n",
       "    <tr>\n",
       "      <th>6</th>\n",
       "      <td>apple</td>\n",
       "      <td>high</td>\n",
       "      <td>6</td>\n",
       "    </tr>\n",
       "    <tr>\n",
       "      <th>7</th>\n",
       "      <td>orange</td>\n",
       "      <td>medium</td>\n",
       "      <td>7</td>\n",
       "    </tr>\n",
       "    <tr>\n",
       "      <th>8</th>\n",
       "      <td>banana</td>\n",
       "      <td>low</td>\n",
       "      <td>8</td>\n",
       "    </tr>\n",
       "  </tbody>\n",
       "</table>\n",
       "</div>"
      ],
      "text/plain": [
       "    fruit  weight  price\n",
       "0   apple    high      0\n",
       "1  orange  medium      1\n",
       "2  banana     low      2\n",
       "3   apple    high      3\n",
       "4  orange  medium      4\n",
       "5  banana     low      5\n",
       "6   apple    high      6\n",
       "7  orange  medium      7\n",
       "8  banana     low      8"
      ]
     },
     "execution_count": 112,
     "metadata": {},
     "output_type": "execute_result"
    }
   ],
   "source": [
    "df11"
   ]
  },
  {
   "cell_type": "code",
   "execution_count": 113,
   "id": "215cc65f",
   "metadata": {},
   "outputs": [
    {
     "data": {
      "text/html": [
       "<div>\n",
       "<style scoped>\n",
       "    .dataframe tbody tr th:only-of-type {\n",
       "        vertical-align: middle;\n",
       "    }\n",
       "\n",
       "    .dataframe tbody tr th {\n",
       "        vertical-align: top;\n",
       "    }\n",
       "\n",
       "    .dataframe thead th {\n",
       "        text-align: right;\n",
       "    }\n",
       "</style>\n",
       "<table border=\"1\" class=\"dataframe\">\n",
       "  <thead>\n",
       "    <tr style=\"text-align: right;\">\n",
       "      <th></th>\n",
       "      <th>fruit</th>\n",
       "      <th>weight</th>\n",
       "      <th>price</th>\n",
       "    </tr>\n",
       "  </thead>\n",
       "  <tbody>\n",
       "    <tr>\n",
       "      <th>0</th>\n",
       "      <td>apple</td>\n",
       "      <td>high</td>\n",
       "      <td>0</td>\n",
       "    </tr>\n",
       "    <tr>\n",
       "      <th>1</th>\n",
       "      <td>orange</td>\n",
       "      <td>medium</td>\n",
       "      <td>1</td>\n",
       "    </tr>\n",
       "    <tr>\n",
       "      <th>2</th>\n",
       "      <td>pine</td>\n",
       "      <td>high</td>\n",
       "      <td>2</td>\n",
       "    </tr>\n",
       "    <tr>\n",
       "      <th>3</th>\n",
       "      <td>apple</td>\n",
       "      <td>medium</td>\n",
       "      <td>3</td>\n",
       "    </tr>\n",
       "    <tr>\n",
       "      <th>4</th>\n",
       "      <td>orange</td>\n",
       "      <td>high</td>\n",
       "      <td>4</td>\n",
       "    </tr>\n",
       "    <tr>\n",
       "      <th>5</th>\n",
       "      <td>pine</td>\n",
       "      <td>medium</td>\n",
       "      <td>5</td>\n",
       "    </tr>\n",
       "  </tbody>\n",
       "</table>\n",
       "</div>"
      ],
      "text/plain": [
       "    fruit  weight  price\n",
       "0   apple    high      0\n",
       "1  orange  medium      1\n",
       "2    pine    high      2\n",
       "3   apple  medium      3\n",
       "4  orange    high      4\n",
       "5    pine  medium      5"
      ]
     },
     "execution_count": 113,
     "metadata": {},
     "output_type": "execute_result"
    }
   ],
   "source": [
    "df12"
   ]
  },
  {
   "cell_type": "code",
   "execution_count": 111,
   "id": "792620bb",
   "metadata": {},
   "outputs": [
    {
     "name": "stdout",
     "output_type": "stream",
     "text": [
      "    fruit  weight  price\n",
      "2  banana     low      2\n",
      "3   apple    high      3\n",
      "4  orange  medium      4\n",
      "5  banana     low      5\n",
      "6   apple    high      6\n",
      "7  orange  medium      7\n",
      "8  banana     low      8\n"
     ]
    }
   ],
   "source": [
    "print(df11[~df11.isin(df12).all(1)])"
   ]
  },
  {
   "cell_type": "code",
   "execution_count": null,
   "id": "fea6858e",
   "metadata": {},
   "outputs": [],
   "source": []
  }
 ],
 "metadata": {
  "kernelspec": {
   "display_name": "Python 3 (ipykernel)",
   "language": "python",
   "name": "python3"
  },
  "language_info": {
   "codemirror_mode": {
    "name": "ipython",
    "version": 3
   },
   "file_extension": ".py",
   "mimetype": "text/x-python",
   "name": "python",
   "nbconvert_exporter": "python",
   "pygments_lexer": "ipython3",
   "version": "3.9.7"
  }
 },
 "nbformat": 4,
 "nbformat_minor": 5
}
