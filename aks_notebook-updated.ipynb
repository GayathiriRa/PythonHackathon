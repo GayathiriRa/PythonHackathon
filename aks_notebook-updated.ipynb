{
 "cells": [
  {
   "cell_type": "markdown",
   "id": "942679bb",
   "metadata": {},
   "source": [
    "# Questions 21 - 30"
   ]
  },
  {
   "cell_type": "markdown",
   "id": "c49fbfdf",
   "metadata": {},
   "source": [
    "## Import all Libraries"
   ]
  },
  {
   "cell_type": "code",
   "execution_count": 284,
   "id": "d552a979",
   "metadata": {},
   "outputs": [],
   "source": [
    "import pandas as pd\n",
    "import numpy as np\n",
    "import matplotlib\n",
    "import matplotlib.pyplot as plt\n",
    "import math\n",
    "import datetime\n",
    "from datetime import datetime\n",
    "import re\n",
    "import matplotlib\n",
    "import matplotlib.pyplot as plt"
   ]
  },
  {
   "cell_type": "markdown",
   "id": "872d34b8",
   "metadata": {},
   "source": [
    "### 21. Function to find the center element in the list. (1 element in odd length list, 2 elements in even length list)"
   ]
  },
  {
   "cell_type": "code",
   "execution_count": 3,
   "id": "f301cd17",
   "metadata": {},
   "outputs": [],
   "source": [
    "#read excle into dataframe\n",
    "df1 = pd.read_excel(\"C:\\\\Users\\\\aksha\\\\OneDrive\\\\Desktop\\\\E-Drive\\\\Numpy Ninja\\\\Python Hackathon\\\\HospitalDatabase.xlsx\", sheet_name='Patients')"
   ]
  },
  {
   "cell_type": "code",
   "execution_count": 46,
   "id": "3e4514ba",
   "metadata": {},
   "outputs": [
    {
     "name": "stdout",
     "output_type": "stream",
     "text": [
      "2\n",
      "3\n",
      "The Median of the even List of Elements = c d\n"
     ]
    }
   ],
   "source": [
    "gvn_list = ['a', 'b', 'c', 'd', 'f','h']\n",
    "# Calculate the length of the list using the len() function and store it in a variable.\n",
    "lst_leng = len(gvn_list)\n",
    "# Find the middle element of the given List by using (total length of list-1)\n",
    "# divided by 2( zero indexing)and store it in a variable.\n",
    "mid_vlu_odd = (lst_leng-1)//2\n",
    "# Check if the given list is even or odd using the If conditional statement.\n",
    "if(lst_leng % 2 == 0):\n",
    "    # If the length of given list is even , get middle two elements.\n",
    "    even_mid_v1 = (lst_leng-1)//2\n",
    "    print(even_mid_v1)\n",
    "    even_mid_v2 = (lst_leng+1)//2\n",
    "    print(even_mid_v2)\n",
    "    eve_res_vlu1 = gvn_list[even_mid_v1]\n",
    "    eve_res_vlu2 = gvn_list[even_mid_v2]\n",
    "    print('The Median of the even List of Elements =', eve_res_vlu1,eve_res_vlu2)\n",
    "    \n",
    "else:\n",
    "    # If the length of given list is odd , Median  is the middle element.\n",
    "    odd_res_vlu = gvn_list[mid_vlu_odd]\n",
    "    print('The Median of the odd List of Elements =', odd_res_vlu)"
   ]
  },
  {
   "cell_type": "markdown",
   "id": "e64a4dcb",
   "metadata": {},
   "source": [
    "### 22. Get the count of number of patients based on ReasonForVisit and EDDisposition. Use stack/unstack functions"
   ]
  },
  {
   "cell_type": "code",
   "execution_count": 49,
   "id": "aa19c403",
   "metadata": {},
   "outputs": [
    {
     "data": {
      "text/html": [
       "<div>\n",
       "<style scoped>\n",
       "    .dataframe tbody tr th:only-of-type {\n",
       "        vertical-align: middle;\n",
       "    }\n",
       "\n",
       "    .dataframe tbody tr th {\n",
       "        vertical-align: top;\n",
       "    }\n",
       "\n",
       "    .dataframe thead th {\n",
       "        text-align: right;\n",
       "    }\n",
       "</style>\n",
       "<table border=\"1\" class=\"dataframe\">\n",
       "  <thead>\n",
       "    <tr style=\"text-align: right;\">\n",
       "      <th></th>\n",
       "      <th>EDVisitID</th>\n",
       "      <th>PatientID</th>\n",
       "      <th>VisitDate</th>\n",
       "      <th>EDDischargeTime</th>\n",
       "      <th>Acuity</th>\n",
       "      <th>ReasonForVisit</th>\n",
       "      <th>EDDisposition</th>\n",
       "    </tr>\n",
       "  </thead>\n",
       "  <tbody>\n",
       "    <tr>\n",
       "      <th>0</th>\n",
       "      <td>1</td>\n",
       "      <td>1</td>\n",
       "      <td>2020-01-01 00:00:00.000</td>\n",
       "      <td>2020-01-01 11:20:22.924</td>\n",
       "      <td>1</td>\n",
       "      <td>Stomach Ache</td>\n",
       "      <td>Admitted</td>\n",
       "    </tr>\n",
       "    <tr>\n",
       "      <th>1</th>\n",
       "      <td>12</td>\n",
       "      <td>12</td>\n",
       "      <td>2020-01-01 02:45:40.302</td>\n",
       "      <td>2020-01-02 02:00:00.517</td>\n",
       "      <td>2</td>\n",
       "      <td>Migraine</td>\n",
       "      <td>Admitted</td>\n",
       "    </tr>\n",
       "    <tr>\n",
       "      <th>2</th>\n",
       "      <td>13</td>\n",
       "      <td>13</td>\n",
       "      <td>2020-01-01 03:09:24.701</td>\n",
       "      <td>2020-01-01 05:00:20.852</td>\n",
       "      <td>3</td>\n",
       "      <td>Stomach Ache</td>\n",
       "      <td>Admitted</td>\n",
       "    </tr>\n",
       "    <tr>\n",
       "      <th>3</th>\n",
       "      <td>14</td>\n",
       "      <td>14</td>\n",
       "      <td>2020-01-01 03:12:19.349</td>\n",
       "      <td>2020-01-01 04:32:29.142</td>\n",
       "      <td>3</td>\n",
       "      <td>Migraine</td>\n",
       "      <td>Admitted</td>\n",
       "    </tr>\n",
       "    <tr>\n",
       "      <th>4</th>\n",
       "      <td>15</td>\n",
       "      <td>15</td>\n",
       "      <td>2020-01-01 03:46:32.698</td>\n",
       "      <td>2020-01-01 06:24:52.741</td>\n",
       "      <td>3</td>\n",
       "      <td>Chest Pain</td>\n",
       "      <td>Admitted</td>\n",
       "    </tr>\n",
       "    <tr>\n",
       "      <th>...</th>\n",
       "      <td>...</td>\n",
       "      <td>...</td>\n",
       "      <td>...</td>\n",
       "      <td>...</td>\n",
       "      <td>...</td>\n",
       "      <td>...</td>\n",
       "      <td>...</td>\n",
       "    </tr>\n",
       "    <tr>\n",
       "      <th>1194</th>\n",
       "      <td>1183</td>\n",
       "      <td>929</td>\n",
       "      <td>2020-01-15 10:38:42.570</td>\n",
       "      <td>2020-01-16 02:31:52.023</td>\n",
       "      <td>4</td>\n",
       "      <td>Chest Pain</td>\n",
       "      <td>Discharged</td>\n",
       "    </tr>\n",
       "    <tr>\n",
       "      <th>1195</th>\n",
       "      <td>1186</td>\n",
       "      <td>932</td>\n",
       "      <td>2020-01-15 11:52:37.540</td>\n",
       "      <td>2020-01-16 10:19:41.570</td>\n",
       "      <td>1</td>\n",
       "      <td>Pneumonia</td>\n",
       "      <td>Discharged</td>\n",
       "    </tr>\n",
       "    <tr>\n",
       "      <th>1196</th>\n",
       "      <td>1187</td>\n",
       "      <td>933</td>\n",
       "      <td>2020-01-15 12:11:11.678</td>\n",
       "      <td>2020-01-15 16:41:15.223</td>\n",
       "      <td>1</td>\n",
       "      <td>Pneumonia</td>\n",
       "      <td>Discharged</td>\n",
       "    </tr>\n",
       "    <tr>\n",
       "      <th>1197</th>\n",
       "      <td>1188</td>\n",
       "      <td>934</td>\n",
       "      <td>2020-01-15 12:21:46.006</td>\n",
       "      <td>2020-01-15 18:32:21.060</td>\n",
       "      <td>1</td>\n",
       "      <td>Pneumonia</td>\n",
       "      <td>Discharged</td>\n",
       "    </tr>\n",
       "    <tr>\n",
       "      <th>1198</th>\n",
       "      <td>1189</td>\n",
       "      <td>935</td>\n",
       "      <td>2020-01-15 12:51:14.875</td>\n",
       "      <td>2020-01-15 23:40:41.456</td>\n",
       "      <td>1</td>\n",
       "      <td>Pneumonia</td>\n",
       "      <td>Discharged</td>\n",
       "    </tr>\n",
       "  </tbody>\n",
       "</table>\n",
       "<p>1199 rows × 7 columns</p>\n",
       "</div>"
      ],
      "text/plain": [
       "      EDVisitID  PatientID               VisitDate         EDDischargeTime  \\\n",
       "0             1          1 2020-01-01 00:00:00.000 2020-01-01 11:20:22.924   \n",
       "1            12         12 2020-01-01 02:45:40.302 2020-01-02 02:00:00.517   \n",
       "2            13         13 2020-01-01 03:09:24.701 2020-01-01 05:00:20.852   \n",
       "3            14         14 2020-01-01 03:12:19.349 2020-01-01 04:32:29.142   \n",
       "4            15         15 2020-01-01 03:46:32.698 2020-01-01 06:24:52.741   \n",
       "...         ...        ...                     ...                     ...   \n",
       "1194       1183        929 2020-01-15 10:38:42.570 2020-01-16 02:31:52.023   \n",
       "1195       1186        932 2020-01-15 11:52:37.540 2020-01-16 10:19:41.570   \n",
       "1196       1187        933 2020-01-15 12:11:11.678 2020-01-15 16:41:15.223   \n",
       "1197       1188        934 2020-01-15 12:21:46.006 2020-01-15 18:32:21.060   \n",
       "1198       1189        935 2020-01-15 12:51:14.875 2020-01-15 23:40:41.456   \n",
       "\n",
       "      Acuity ReasonForVisit EDDisposition  \n",
       "0          1   Stomach Ache      Admitted  \n",
       "1          2       Migraine      Admitted  \n",
       "2          3   Stomach Ache      Admitted  \n",
       "3          3       Migraine      Admitted  \n",
       "4          3     Chest Pain      Admitted  \n",
       "...      ...            ...           ...  \n",
       "1194       4     Chest Pain    Discharged  \n",
       "1195       1      Pneumonia    Discharged  \n",
       "1196       1      Pneumonia    Discharged  \n",
       "1197       1      Pneumonia    Discharged  \n",
       "1198       1      Pneumonia    Discharged  \n",
       "\n",
       "[1199 rows x 7 columns]"
      ]
     },
     "execution_count": 49,
     "metadata": {},
     "output_type": "execute_result"
    }
   ],
   "source": [
    "#read excle into dataframe\n",
    "df2 = pd.read_excel(\"C:\\\\Users\\\\aksha\\\\OneDrive\\\\Desktop\\\\E-Drive\\\\Numpy Ninja\\\\Python Hackathon\\\\HospitalDatabase.xlsx\", sheet_name='EDVisits')\n",
    "df2"
   ]
  },
  {
   "cell_type": "code",
   "execution_count": 56,
   "id": "19535827",
   "metadata": {},
   "outputs": [],
   "source": [
    "g = df2.groupby(df2.EDDisposition.str[0])['EDDisposition']"
   ]
  },
  {
   "cell_type": "code",
   "execution_count": 65,
   "id": "68669790",
   "metadata": {},
   "outputs": [
    {
     "name": "stdout",
     "output_type": "stream",
     "text": [
      "<pandas.core.groupby.generic.SeriesGroupBy object at 0x000001BD7509AD60>\n"
     ]
    }
   ],
   "source": [
    "print(g)"
   ]
  },
  {
   "cell_type": "code",
   "execution_count": 63,
   "id": "74b4ae1b",
   "metadata": {},
   "outputs": [],
   "source": [
    "s = df2.groupby([df2.ReasonForVisit, g.transform('last')]).size().unstack()"
   ]
  },
  {
   "cell_type": "code",
   "execution_count": 64,
   "id": "9d7d5dd9",
   "metadata": {},
   "outputs": [
    {
     "name": "stdout",
     "output_type": "stream",
     "text": [
      "EDDisposition        Admitted  Discharged\n",
      "ReasonForVisit                           \n",
      "Accident                 39.0         NaN\n",
      "Bleeding                 16.0        15.0\n",
      "Car Accident             17.0         NaN\n",
      "Chest Pain               94.0        15.0\n",
      "Cough                     NaN         1.0\n",
      "Fever                    46.0       188.0\n",
      "Gun Shot                 16.0         NaN\n",
      "Intoxication              NaN        30.0\n",
      "Laceration                NaN        30.0\n",
      "Migraine                 47.0       109.0\n",
      "Pneumonia               136.0        65.0\n",
      "Shortness of Breath      72.0        77.0\n",
      "Stomach Ache             32.0       154.0\n"
     ]
    }
   ],
   "source": [
    "print(s)"
   ]
  },
  {
   "cell_type": "markdown",
   "id": "bf18a660",
   "metadata": {},
   "source": [
    "### 23 Plot a graph by counting the no. of patients in each department"
   ]
  },
  {
   "cell_type": "code",
   "execution_count": 66,
   "id": "ad63625d",
   "metadata": {},
   "outputs": [],
   "source": [
    "#read excle into dataframe\n",
    "df3 = pd.read_excel(\"C:\\\\Users\\\\aksha\\\\OneDrive\\\\Desktop\\\\E-Drive\\\\Numpy Ninja\\\\Python Hackathon\\\\HospitalDatabase.xlsx\", sheet_name='AmbulatoryVisits')"
   ]
  },
  {
   "cell_type": "code",
   "execution_count": 69,
   "id": "97c2b52c",
   "metadata": {},
   "outputs": [
    {
     "data": {
      "text/plain": [
       "Text(0, 0.5, 'Frequency')"
      ]
     },
     "execution_count": 69,
     "metadata": {},
     "output_type": "execute_result"
    },
    {
     "data": {
      "image/png": "[encoded data removed]",
      "text/plain": [
       "<Figure size 1008x576 with 1 Axes>"
      ]
     },
     "metadata": {
      "needs_background": "light"
     },
     "output_type": "display_data"
    }
   ],
   "source": [
    "ax = df3['VisitDepartmentID'].value_counts().plot(kind='bar',\n",
    "                                    figsize=(14,8),\n",
    "                                    title=\"Number of patients in each department\")\n",
    "ax.set_xlabel(\"Department Id's\")\n",
    "ax.set_ylabel(\"Frequency\")"
   ]
  },
  {
   "cell_type": "markdown",
   "id": "fa458eb2",
   "metadata": {},
   "source": [
    "### 24. Using Arrays and Loops, find the count of of patients based on gender"
   ]
  },
  {
   "cell_type": "code",
   "execution_count": 70,
   "id": "0938f505",
   "metadata": {},
   "outputs": [],
   "source": [
    "#read excle into dataframe\n",
    "df4 = pd.read_excel(\"C:\\\\Users\\\\aksha\\\\OneDrive\\\\Desktop\\\\E-Drive\\\\Numpy Ninja\\\\Python Hackathon\\\\HospitalDatabase.xlsx\", sheet_name='Patients')"
   ]
  },
  {
   "cell_type": "code",
   "execution_count": 74,
   "id": "917ca886",
   "metadata": {},
   "outputs": [
    {
     "name": "stdout",
     "output_type": "stream",
     "text": [
      "Male      537\n",
      "Female    408\n",
      "Name: Gender, dtype: int64\n"
     ]
    }
   ],
   "source": [
    "#the count of each of the distinct values of a specific column, you can use the pandas value_counts() function\n",
    "print(df4['Gender'].value_counts())"
   ]
  },
  {
   "cell_type": "markdown",
   "id": "968070cb",
   "metadata": {},
   "source": [
    "### 25. Plot a graph to count the patients based on discharge disposition"
   ]
  },
  {
   "cell_type": "code",
   "execution_count": 75,
   "id": "66c50186",
   "metadata": {},
   "outputs": [],
   "source": [
    "#read excle into dataframe\n",
    "df5 = pd.read_excel(\"C:\\\\Users\\\\aksha\\\\OneDrive\\\\Desktop\\\\E-Drive\\\\Numpy Ninja\\\\Python Hackathon\\\\HospitalDatabase.xlsx\", sheet_name='ReAdmissionRegistry')"
   ]
  },
  {
   "cell_type": "code",
   "execution_count": 77,
   "id": "18f1627b",
   "metadata": {},
   "outputs": [
    {
     "data": {
      "text/plain": [
       "Text(0, 0.5, 'Frequency')"
      ]
     },
     "execution_count": 77,
     "metadata": {},
     "output_type": "execute_result"
    },
    {
     "data": {
      "image/png": "[encoded data removed]",
      "text/plain": [
       "<Figure size 1008x576 with 1 Axes>"
      ]
     },
     "metadata": {
      "needs_background": "light"
     },
     "output_type": "display_data"
    }
   ],
   "source": [
    "dd = df5['DischargeDisposition'].value_counts().plot(kind='bar',\n",
    "                                    figsize=(14,8),\n",
    "                                    title=\"Number of patients in Discharge Disposition\")\n",
    "dd.set_xlabel(\"Discharge Disposition\")\n",
    "dd.set_ylabel(\"Frequency\")"
   ]
  },
  {
   "cell_type": "markdown",
   "id": "95c65b56",
   "metadata": {},
   "source": [
    "### 26. Which reason of visit has maximum mortality rate"
   ]
  },
  {
   "cell_type": "code",
   "execution_count": 79,
   "id": "45c5e214",
   "metadata": {},
   "outputs": [],
   "source": [
    "#read excle into dataframe\n",
    "df6 = pd.read_excel(\"C:\\\\Users\\\\aksha\\\\OneDrive\\\\Desktop\\\\E-Drive\\\\Numpy Ninja\\\\Python Hackathon\\\\HospitalDatabase.xlsx\", sheet_name='ReAdmissionRegistry')"
   ]
  },
  {
   "cell_type": "code",
   "execution_count": 87,
   "id": "d4012b13",
   "metadata": {},
   "outputs": [
    {
     "data": {
      "text/plain": [
       "PrimaryDiagnosis\n",
       "AMI                   11.287028\n",
       "Afib                   3.346590\n",
       "Broken Leg             2.478958\n",
       "Diabetes              18.334439\n",
       "Fever                  5.635418\n",
       "Flu                   21.838083\n",
       "Heart Failure         30.082879\n",
       "Hip Fracture           8.586140\n",
       "Hypertension          14.827774\n",
       "Kidney Failure         4.951837\n",
       "Knee Replacement       6.678844\n",
       "Laceration             7.917630\n",
       "Migraine               6.808469\n",
       "Pain                   3.837848\n",
       "Pneumonia             66.307360\n",
       "Spinal Cord Injury     0.400558\n",
       "Stroke                30.085412\n",
       "Name: ExpectedMortality, dtype: float64"
      ]
     },
     "execution_count": 87,
     "metadata": {},
     "output_type": "execute_result"
    }
   ],
   "source": [
    "mortality = df6.groupby('PrimaryDiagnosis')['ExpectedMortality'].sum()\n",
    "mortality"
   ]
  },
  {
   "cell_type": "markdown",
   "id": "f58063aa",
   "metadata": {},
   "source": [
    "### 27. Calculate average LOS"
   ]
  },
  {
   "cell_type": "code",
   "execution_count": 88,
   "id": "2b222985",
   "metadata": {},
   "outputs": [],
   "source": [
    "#read excle into dataframe\n",
    "df7 = pd.read_excel(\"C:\\\\Users\\\\aksha\\\\OneDrive\\\\Desktop\\\\E-Drive\\\\Numpy Ninja\\\\Python Hackathon\\\\HospitalDatabase.xlsx\", sheet_name='ReAdmissionRegistry')"
   ]
  },
  {
   "cell_type": "code",
   "execution_count": 89,
   "id": "92f17e6f",
   "metadata": {},
   "outputs": [
    {
     "data": {
      "text/plain": [
       "8.824589159156156"
      ]
     },
     "execution_count": 89,
     "metadata": {},
     "output_type": "execute_result"
    }
   ],
   "source": [
    "#Calculate average LOS\n",
    "avg_LOS = df7[\"ExpectedLOS\"].mean()\n",
    "avg_LOS"
   ]
  },
  {
   "cell_type": "markdown",
   "id": "ba697bbb",
   "metadata": {},
   "source": [
    "### 28. Which patient id has most entries in readmission registry "
   ]
  },
  {
   "cell_type": "code",
   "execution_count": 97,
   "id": "d5c67a68",
   "metadata": {},
   "outputs": [],
   "source": [
    "#read excle into dataframe\n",
    "df8 = pd.read_excel(\"C:\\\\Users\\\\aksha\\\\OneDrive\\\\Desktop\\\\E-Drive\\\\Numpy Ninja\\\\Python Hackathon\\\\HospitalDatabase.xlsx\", sheet_name='ReAdmissionRegistry')"
   ]
  },
  {
   "cell_type": "code",
   "execution_count": 172,
   "id": "3d717497",
   "metadata": {},
   "outputs": [
    {
     "name": "stdout",
     "output_type": "stream",
     "text": [
      "23    3\n",
      "Name: PatientID, dtype: int64\n"
     ]
    }
   ],
   "source": [
    "val_count = df8['PatientID'].value_counts().head(1)\n",
    "print(val_count)"
   ]
  },
  {
   "cell_type": "code",
   "execution_count": null,
   "id": "b6d687f8",
   "metadata": {},
   "outputs": [],
   "source": [
    "#patient ID 23 has most frequency of 3"
   ]
  },
  {
   "cell_type": "code",
   "execution_count": 107,
   "id": "b11852fe",
   "metadata": {},
   "outputs": [
    {
     "name": "stdout",
     "output_type": "stream",
     "text": [
      "3\n"
     ]
    }
   ],
   "source": [
    "print(df8['PatientID'].value_counts().max())"
   ]
  },
  {
   "cell_type": "markdown",
   "id": "5772a902",
   "metadata": {},
   "source": [
    "### 29. Find count of White Spanish Male ***"
   ]
  },
  {
   "cell_type": "code",
   "execution_count": 108,
   "id": "8b6261ab",
   "metadata": {},
   "outputs": [],
   "source": [
    "#read excle into dataframe\n",
    "df9 = pd.read_excel(\"C:\\\\Users\\\\aksha\\\\OneDrive\\\\Desktop\\\\E-Drive\\\\Numpy Ninja\\\\Python Hackathon\\\\HospitalDatabase.xlsx\", sheet_name='Patients')"
   ]
  },
  {
   "cell_type": "code",
   "execution_count": null,
   "id": "a024cab0",
   "metadata": {},
   "outputs": [],
   "source": [
    "w_s_m_count = df9.groupby('Courses')['Courses'].transform('count')\n",
    "print(df)"
   ]
  },
  {
   "cell_type": "code",
   "execution_count": 173,
   "id": "3b8933f4",
   "metadata": {},
   "outputs": [],
   "source": [
    "family = np.where((df9['Gender'] == 'Male', df9['Race'] == 'White', df9['Language'] == 'Spanish'))\n"
   ]
  },
  {
   "cell_type": "code",
   "execution_count": 175,
   "id": "67ecd5d8",
   "metadata": {},
   "outputs": [
    {
     "data": {
      "text/plain": [
       "(array([0, 0, 0, ..., 2, 2, 2], dtype=int64),\n",
       " array([  0,   1,   2, ..., 117, 118, 119], dtype=int64))"
      ]
     },
     "execution_count": 175,
     "metadata": {},
     "output_type": "execute_result"
    }
   ],
   "source": [
    "family"
   ]
  },
  {
   "cell_type": "code",
   "execution_count": 125,
   "id": "25c698e7",
   "metadata": {},
   "outputs": [],
   "source": [
    "#wsm = df9.groupby(family)['PatientID'].mean()\n",
    "#print (wsm)"
   ]
  },
  {
   "cell_type": "code",
   "execution_count": 176,
   "id": "b8810daf",
   "metadata": {},
   "outputs": [],
   "source": [
    "#wsmcount=df9.groupby(family)['PatientID'].count()"
   ]
  },
  {
   "cell_type": "code",
   "execution_count": 119,
   "id": "5a9b8998",
   "metadata": {},
   "outputs": [
    {
     "name": "stdout",
     "output_type": "stream",
     "text": [
      "Gender  Race                    Language\n",
      "Female  Black/African-American  English     119\n",
      "                                Spanish      15\n",
      "        White                   English     216\n",
      "                                Spanish      55\n",
      "Male    Black/African-American  English     306\n",
      "                                Spanish      25\n",
      "        White                   English     186\n",
      "                                Spanish      15\n",
      "Name: PatientID, dtype: int64\n"
     ]
    }
   ],
   "source": [
    "c = df9.groupby(['Gender','Race','Language'])['PatientID'].count()\n",
    "print(c)"
   ]
  },
  {
   "cell_type": "markdown",
   "id": "d78966f2",
   "metadata": {},
   "source": [
    "### 30. Write a function to print the table of the given number"
   ]
  },
  {
   "cell_type": "code",
   "execution_count": 126,
   "id": "ce697ecb",
   "metadata": {},
   "outputs": [
    {
     "name": "stdout",
     "output_type": "stream",
     "text": [
      "Enter The Number : 5\n",
      "5 x 1 = 5\n",
      "5 x 2 = 10\n",
      "5 x 3 = 15\n",
      "5 x 4 = 20\n",
      "5 x 5 = 25\n",
      "5 x 6 = 30\n",
      "5 x 7 = 35\n",
      "5 x 8 = 40\n",
      "5 x 9 = 45\n",
      "5 x 10 = 50\n"
     ]
    }
   ],
   "source": [
    "n=int(input(\"Enter The Number : \"))\n",
    "\n",
    "i=1\n",
    "\n",
    "while(i<=10):\n",
    "    t=n*i\n",
    "    print(n,\"x\",i,\"=\",t)\n",
    "    i=i+1"
   ]
  },
  {
   "cell_type": "markdown",
   "id": "59f39ac8",
   "metadata": {},
   "source": [
    "### 61. Show a graph by multiplotting on the same canvas ."
   ]
  },
  {
   "cell_type": "code",
   "execution_count": 132,
   "id": "0d75582d",
   "metadata": {},
   "outputs": [],
   "source": [
    "def multiplot_from_generator(g, num_columns, figsize_for_one_row=None):\n",
    "    # call 'next(g)' to get past the first 'yield'\n",
    "    next(g)\n",
    "    # default to 15-inch rows, with square subplots\n",
    "    if figsize_for_one_row is None:\n",
    "        figsize_for_one_row = (15, 15/num_columns)\n",
    "    try:\n",
    "        while True:\n",
    "            # call plt.figure once per row\n",
    "            plt.figure(figsize=figsize_for_one_row)\n",
    "            for col in range(num_columns):\n",
    "                ax = plt.subplot(1, num_columns, col+1)\n",
    "                next(g)\n",
    "    except StopIteration:\n",
    "        pass"
   ]
  },
  {
   "cell_type": "code",
   "execution_count": 133,
   "id": "8e8c9863",
   "metadata": {},
   "outputs": [
    {
     "data": {
      "image/png": "[encoded data removed]",
      "text/plain": [
       "<Figure size 1080x360 with 3 Axes>"
      ]
     },
     "metadata": {
      "needs_background": "light"
     },
     "output_type": "display_data"
    },
    {
     "data": {
      "image/png": "[encoded data removed]",
      "text/plain": [
       "<Figure size 1080x360 with 2 Axes>"
      ]
     },
     "metadata": {
      "needs_background": "light"
     },
     "output_type": "display_data"
    }
   ],
   "source": [
    "multiplot_from_generator(demo_plot_and_yield(), 3)"
   ]
  },
  {
   "cell_type": "markdown",
   "id": "33f86720",
   "metadata": {},
   "source": [
    "### 62. Display the data for all 'White Female' patients above the age of 50"
   ]
  },
  {
   "cell_type": "code",
   "execution_count": 134,
   "id": "6cdb24aa",
   "metadata": {},
   "outputs": [],
   "source": [
    "#read excle into dataframe\n",
    "df10 = pd.read_excel(\"C:\\\\Users\\\\aksha\\\\OneDrive\\\\Desktop\\\\E-Drive\\\\Numpy Ninja\\\\Python Hackathon\\\\HospitalDatabase.xlsx\", sheet_name='Patients')"
   ]
  },
  {
   "cell_type": "code",
   "execution_count": 158,
   "id": "33bf4aeb",
   "metadata": {},
   "outputs": [
    {
     "data": {
      "text/html": [
       "<div>\n",
       "<style scoped>\n",
       "    .dataframe tbody tr th:only-of-type {\n",
       "        vertical-align: middle;\n",
       "    }\n",
       "\n",
       "    .dataframe tbody tr th {\n",
       "        vertical-align: top;\n",
       "    }\n",
       "\n",
       "    .dataframe thead th {\n",
       "        text-align: right;\n",
       "    }\n",
       "</style>\n",
       "<table border=\"1\" class=\"dataframe\">\n",
       "  <thead>\n",
       "    <tr style=\"text-align: right;\">\n",
       "      <th></th>\n",
       "      <th>PatientID</th>\n",
       "      <th>FirstName</th>\n",
       "      <th>LastName</th>\n",
       "      <th>DateOfBirth</th>\n",
       "      <th>Gender</th>\n",
       "      <th>Race</th>\n",
       "      <th>Language</th>\n",
       "      <th>Age</th>\n",
       "    </tr>\n",
       "  </thead>\n",
       "  <tbody>\n",
       "    <tr>\n",
       "      <th>0</th>\n",
       "      <td>1</td>\n",
       "      <td>Lanni</td>\n",
       "      <td>Sue</td>\n",
       "      <td>1960-01-01 00:00:00.000</td>\n",
       "      <td>Male</td>\n",
       "      <td>White</td>\n",
       "      <td>English</td>\n",
       "      <td>1960-01-01 00:00:00.000</td>\n",
       "    </tr>\n",
       "    <tr>\n",
       "      <th>1</th>\n",
       "      <td>2</td>\n",
       "      <td>Far</td>\n",
       "      <td>Myers</td>\n",
       "      <td>1985-11-15 02:08:42.090</td>\n",
       "      <td>Male</td>\n",
       "      <td>White</td>\n",
       "      <td>English</td>\n",
       "      <td>1985-11-15 02:08:42.090</td>\n",
       "    </tr>\n",
       "    <tr>\n",
       "      <th>2</th>\n",
       "      <td>3</td>\n",
       "      <td>Devlin</td>\n",
       "      <td>Michael</td>\n",
       "      <td>1976-04-15 02:52:09.762</td>\n",
       "      <td>Male</td>\n",
       "      <td>White</td>\n",
       "      <td>English</td>\n",
       "      <td>1976-04-15 02:52:09.762</td>\n",
       "    </tr>\n",
       "    <tr>\n",
       "      <th>3</th>\n",
       "      <td>4</td>\n",
       "      <td>Carmine</td>\n",
       "      <td>Texas</td>\n",
       "      <td>1968-10-15 03:32:13.635</td>\n",
       "      <td>Male</td>\n",
       "      <td>White</td>\n",
       "      <td>English</td>\n",
       "      <td>1968-10-15 03:32:13.635</td>\n",
       "    </tr>\n",
       "    <tr>\n",
       "      <th>4</th>\n",
       "      <td>5</td>\n",
       "      <td>Tann</td>\n",
       "      <td>Bama</td>\n",
       "      <td>1962-05-01 19:12:58.950</td>\n",
       "      <td>Male</td>\n",
       "      <td>White</td>\n",
       "      <td>English</td>\n",
       "      <td>1962-05-01 19:12:58.950</td>\n",
       "    </tr>\n",
       "    <tr>\n",
       "      <th>...</th>\n",
       "      <td>...</td>\n",
       "      <td>...</td>\n",
       "      <td>...</td>\n",
       "      <td>...</td>\n",
       "      <td>...</td>\n",
       "      <td>...</td>\n",
       "      <td>...</td>\n",
       "      <td>...</td>\n",
       "    </tr>\n",
       "    <tr>\n",
       "      <th>940</th>\n",
       "      <td>941</td>\n",
       "      <td>Wat</td>\n",
       "      <td>Fideler</td>\n",
       "      <td>1986-05-26 00:01:19.761</td>\n",
       "      <td>Male</td>\n",
       "      <td>Black/African-American</td>\n",
       "      <td>English</td>\n",
       "      <td>1986-05-26 00:01:19.761</td>\n",
       "    </tr>\n",
       "    <tr>\n",
       "      <th>941</th>\n",
       "      <td>942</td>\n",
       "      <td>Wandie</td>\n",
       "      <td>Baythrop</td>\n",
       "      <td>1970-06-10 21:41:03.814</td>\n",
       "      <td>Male</td>\n",
       "      <td>Black/African-American</td>\n",
       "      <td>English</td>\n",
       "      <td>1970-06-10 21:41:03.814</td>\n",
       "    </tr>\n",
       "    <tr>\n",
       "      <th>942</th>\n",
       "      <td>943</td>\n",
       "      <td>Diahann</td>\n",
       "      <td>Smeeton</td>\n",
       "      <td>1983-01-08 21:49:27.884</td>\n",
       "      <td>Male</td>\n",
       "      <td>Black/African-American</td>\n",
       "      <td>English</td>\n",
       "      <td>1983-01-08 21:49:27.884</td>\n",
       "    </tr>\n",
       "    <tr>\n",
       "      <th>943</th>\n",
       "      <td>944</td>\n",
       "      <td>Panchito</td>\n",
       "      <td>Sharple</td>\n",
       "      <td>1963-06-05 07:57:05.569</td>\n",
       "      <td>Male</td>\n",
       "      <td>Black/African-American</td>\n",
       "      <td>English</td>\n",
       "      <td>1963-06-05 07:57:05.569</td>\n",
       "    </tr>\n",
       "    <tr>\n",
       "      <th>944</th>\n",
       "      <td>945</td>\n",
       "      <td>Walsh</td>\n",
       "      <td>Calvie</td>\n",
       "      <td>1972-08-06 03:40:03.454</td>\n",
       "      <td>Male</td>\n",
       "      <td>Black/African-American</td>\n",
       "      <td>English</td>\n",
       "      <td>1972-08-06 03:40:03.454</td>\n",
       "    </tr>\n",
       "  </tbody>\n",
       "</table>\n",
       "<p>945 rows × 8 columns</p>\n",
       "</div>"
      ],
      "text/plain": [
       "     PatientID FirstName  LastName             DateOfBirth Gender  \\\n",
       "0            1     Lanni       Sue 1960-01-01 00:00:00.000   Male   \n",
       "1            2       Far     Myers 1985-11-15 02:08:42.090   Male   \n",
       "2            3   Devlin    Michael 1976-04-15 02:52:09.762   Male   \n",
       "3            4   Carmine     Texas 1968-10-15 03:32:13.635   Male   \n",
       "4            5     Tann       Bama 1962-05-01 19:12:58.950   Male   \n",
       "..         ...       ...       ...                     ...    ...   \n",
       "940        941       Wat   Fideler 1986-05-26 00:01:19.761   Male   \n",
       "941        942    Wandie  Baythrop 1970-06-10 21:41:03.814   Male   \n",
       "942        943   Diahann   Smeeton 1983-01-08 21:49:27.884   Male   \n",
       "943        944  Panchito   Sharple 1963-06-05 07:57:05.569   Male   \n",
       "944        945     Walsh    Calvie 1972-08-06 03:40:03.454   Male   \n",
       "\n",
       "                       Race Language                     Age  \n",
       "0                     White  English 1960-01-01 00:00:00.000  \n",
       "1                     White  English 1985-11-15 02:08:42.090  \n",
       "2                     White  English 1976-04-15 02:52:09.762  \n",
       "3                     White  English 1968-10-15 03:32:13.635  \n",
       "4                     White  English 1962-05-01 19:12:58.950  \n",
       "..                      ...      ...                     ...  \n",
       "940  Black/African-American  English 1986-05-26 00:01:19.761  \n",
       "941  Black/African-American  English 1970-06-10 21:41:03.814  \n",
       "942  Black/African-American  English 1983-01-08 21:49:27.884  \n",
       "943  Black/African-American  English 1963-06-05 07:57:05.569  \n",
       "944  Black/African-American  English 1972-08-06 03:40:03.454  \n",
       "\n",
       "[945 rows x 8 columns]"
      ]
     },
     "execution_count": 158,
     "metadata": {},
     "output_type": "execute_result"
    }
   ],
   "source": [
    "df10['Age'] = pd.to_datetime(df10.DateOfBirth)\n",
    "df10['Age']\n",
    "df10"
   ]
  },
  {
   "cell_type": "code",
   "execution_count": 159,
   "id": "08ad53cc",
   "metadata": {},
   "outputs": [
    {
     "name": "stdout",
     "output_type": "stream",
     "text": [
      "<class 'pandas.core.series.Series'>\n"
     ]
    }
   ],
   "source": [
    "print(type(df10['Age']))"
   ]
  },
  {
   "cell_type": "code",
   "execution_count": 160,
   "id": "db598ac1",
   "metadata": {},
   "outputs": [],
   "source": [
    "#function to calculate age\n",
    "def from_dob_to_age(born):\n",
    "    today = datetime.date.today()\n",
    "    return today.year - born.year - ((today.month, today.day) < (born.month, born.day))"
   ]
  },
  {
   "cell_type": "code",
   "execution_count": 166,
   "id": "5dd8507a",
   "metadata": {},
   "outputs": [
    {
     "data": {
      "text/plain": [
       "0      62\n",
       "1      36\n",
       "2      46\n",
       "3      53\n",
       "4      60\n",
       "       ..\n",
       "940    35\n",
       "941    51\n",
       "942    39\n",
       "943    58\n",
       "944    49\n",
       "Name: Age, Length: 945, dtype: int64"
      ]
     },
     "execution_count": 166,
     "metadata": {},
     "output_type": "execute_result"
    }
   ],
   "source": [
    "df10['Age'].apply(lambda x: from_dob_to_age(x))"
   ]
  },
  {
   "cell_type": "code",
   "execution_count": 168,
   "id": "46e27f5b",
   "metadata": {},
   "outputs": [],
   "source": [
    "#calculate the age\n",
    "df10['result_Age']=df10['Age'].apply(lambda x: from_dob_to_age(x))"
   ]
  },
  {
   "cell_type": "code",
   "execution_count": 171,
   "id": "9788b776",
   "metadata": {},
   "outputs": [
    {
     "data": {
      "text/html": [
       "<div>\n",
       "<style scoped>\n",
       "    .dataframe tbody tr th:only-of-type {\n",
       "        vertical-align: middle;\n",
       "    }\n",
       "\n",
       "    .dataframe tbody tr th {\n",
       "        vertical-align: top;\n",
       "    }\n",
       "\n",
       "    .dataframe thead th {\n",
       "        text-align: right;\n",
       "    }\n",
       "</style>\n",
       "<table border=\"1\" class=\"dataframe\">\n",
       "  <thead>\n",
       "    <tr style=\"text-align: right;\">\n",
       "      <th></th>\n",
       "      <th>PatientID</th>\n",
       "      <th>FirstName</th>\n",
       "      <th>LastName</th>\n",
       "      <th>DateOfBirth</th>\n",
       "      <th>Gender</th>\n",
       "      <th>Race</th>\n",
       "      <th>Language</th>\n",
       "      <th>Age</th>\n",
       "      <th>result_Age</th>\n",
       "    </tr>\n",
       "  </thead>\n",
       "  <tbody>\n",
       "    <tr>\n",
       "      <th>28</th>\n",
       "      <td>29</td>\n",
       "      <td>Ted</td>\n",
       "      <td>Scott</td>\n",
       "      <td>1967-12-09 05:01:37.892</td>\n",
       "      <td>Female</td>\n",
       "      <td>White</td>\n",
       "      <td>Spanish</td>\n",
       "      <td>1967-12-09 05:01:37.892</td>\n",
       "      <td>54</td>\n",
       "    </tr>\n",
       "    <tr>\n",
       "      <th>30</th>\n",
       "      <td>31</td>\n",
       "      <td>Harry</td>\n",
       "      <td>Ding</td>\n",
       "      <td>1960-10-08 01:42:51.212</td>\n",
       "      <td>Female</td>\n",
       "      <td>White</td>\n",
       "      <td>Spanish</td>\n",
       "      <td>1960-10-08 01:42:51.212</td>\n",
       "      <td>61</td>\n",
       "    </tr>\n",
       "    <tr>\n",
       "      <th>33</th>\n",
       "      <td>34</td>\n",
       "      <td>Ted</td>\n",
       "      <td>Hue</td>\n",
       "      <td>1960-11-28 18:05:11.459</td>\n",
       "      <td>Female</td>\n",
       "      <td>White</td>\n",
       "      <td>Spanish</td>\n",
       "      <td>1960-11-28 18:05:11.459</td>\n",
       "      <td>61</td>\n",
       "    </tr>\n",
       "    <tr>\n",
       "      <th>34</th>\n",
       "      <td>35</td>\n",
       "      <td>Fred</td>\n",
       "      <td>Tye</td>\n",
       "      <td>1966-04-14 06:01:07.169</td>\n",
       "      <td>Female</td>\n",
       "      <td>White</td>\n",
       "      <td>Spanish</td>\n",
       "      <td>1966-04-14 06:01:07.169</td>\n",
       "      <td>56</td>\n",
       "    </tr>\n",
       "    <tr>\n",
       "      <th>44</th>\n",
       "      <td>45</td>\n",
       "      <td>Barret</td>\n",
       "      <td>Doubrava</td>\n",
       "      <td>1962-10-18 08:23:23.478</td>\n",
       "      <td>Female</td>\n",
       "      <td>White</td>\n",
       "      <td>Spanish</td>\n",
       "      <td>1962-10-18 08:23:23.478</td>\n",
       "      <td>59</td>\n",
       "    </tr>\n",
       "    <tr>\n",
       "      <th>...</th>\n",
       "      <td>...</td>\n",
       "      <td>...</td>\n",
       "      <td>...</td>\n",
       "      <td>...</td>\n",
       "      <td>...</td>\n",
       "      <td>...</td>\n",
       "      <td>...</td>\n",
       "      <td>...</td>\n",
       "      <td>...</td>\n",
       "    </tr>\n",
       "    <tr>\n",
       "      <th>864</th>\n",
       "      <td>865</td>\n",
       "      <td>Giovanni</td>\n",
       "      <td>Borland</td>\n",
       "      <td>1960-12-01 13:16:18.100</td>\n",
       "      <td>Female</td>\n",
       "      <td>White</td>\n",
       "      <td>English</td>\n",
       "      <td>1960-12-01 13:16:18.100</td>\n",
       "      <td>61</td>\n",
       "    </tr>\n",
       "    <tr>\n",
       "      <th>865</th>\n",
       "      <td>866</td>\n",
       "      <td>Jermayne</td>\n",
       "      <td>Lowndes</td>\n",
       "      <td>1970-12-09 04:49:48.933</td>\n",
       "      <td>Female</td>\n",
       "      <td>White</td>\n",
       "      <td>English</td>\n",
       "      <td>1970-12-09 04:49:48.933</td>\n",
       "      <td>51</td>\n",
       "    </tr>\n",
       "    <tr>\n",
       "      <th>866</th>\n",
       "      <td>867</td>\n",
       "      <td>Gail</td>\n",
       "      <td>Inc</td>\n",
       "      <td>1967-03-10 08:18:47.908</td>\n",
       "      <td>Female</td>\n",
       "      <td>White</td>\n",
       "      <td>English</td>\n",
       "      <td>1967-03-10 08:18:47.908</td>\n",
       "      <td>55</td>\n",
       "    </tr>\n",
       "    <tr>\n",
       "      <th>867</th>\n",
       "      <td>868</td>\n",
       "      <td>Des</td>\n",
       "      <td>Heindrick</td>\n",
       "      <td>1969-08-15 11:05:30.165</td>\n",
       "      <td>Female</td>\n",
       "      <td>White</td>\n",
       "      <td>English</td>\n",
       "      <td>1969-08-15 11:05:30.165</td>\n",
       "      <td>52</td>\n",
       "    </tr>\n",
       "    <tr>\n",
       "      <th>869</th>\n",
       "      <td>870</td>\n",
       "      <td>Hauck</td>\n",
       "      <td>Rubbens</td>\n",
       "      <td>1963-11-16 03:31:38.929</td>\n",
       "      <td>Female</td>\n",
       "      <td>White</td>\n",
       "      <td>English</td>\n",
       "      <td>1963-11-16 03:31:38.929</td>\n",
       "      <td>58</td>\n",
       "    </tr>\n",
       "  </tbody>\n",
       "</table>\n",
       "<p>108 rows × 9 columns</p>\n",
       "</div>"
      ],
      "text/plain": [
       "     PatientID FirstName   LastName             DateOfBirth  Gender   Race  \\\n",
       "28          29       Ted      Scott 1967-12-09 05:01:37.892  Female  White   \n",
       "30          31     Harry       Ding 1960-10-08 01:42:51.212  Female  White   \n",
       "33          34       Ted        Hue 1960-11-28 18:05:11.459  Female  White   \n",
       "34          35      Fred        Tye 1966-04-14 06:01:07.169  Female  White   \n",
       "44          45    Barret   Doubrava 1962-10-18 08:23:23.478  Female  White   \n",
       "..         ...       ...        ...                     ...     ...    ...   \n",
       "864        865  Giovanni    Borland 1960-12-01 13:16:18.100  Female  White   \n",
       "865        866  Jermayne    Lowndes 1970-12-09 04:49:48.933  Female  White   \n",
       "866        867      Gail        Inc 1967-03-10 08:18:47.908  Female  White   \n",
       "867        868       Des  Heindrick 1969-08-15 11:05:30.165  Female  White   \n",
       "869        870     Hauck    Rubbens 1963-11-16 03:31:38.929  Female  White   \n",
       "\n",
       "    Language                     Age  result_Age  \n",
       "28   Spanish 1967-12-09 05:01:37.892          54  \n",
       "30   Spanish 1960-10-08 01:42:51.212          61  \n",
       "33   Spanish 1960-11-28 18:05:11.459          61  \n",
       "34   Spanish 1966-04-14 06:01:07.169          56  \n",
       "44   Spanish 1962-10-18 08:23:23.478          59  \n",
       "..       ...                     ...         ...  \n",
       "864  English 1960-12-01 13:16:18.100          61  \n",
       "865  English 1970-12-09 04:49:48.933          51  \n",
       "866  English 1967-03-10 08:18:47.908          55  \n",
       "867  English 1969-08-15 11:05:30.165          52  \n",
       "869  English 1963-11-16 03:31:38.929          58  \n",
       "\n",
       "[108 rows x 9 columns]"
      ]
     },
     "execution_count": 171,
     "metadata": {},
     "output_type": "execute_result"
    }
   ],
   "source": [
    "# After age above 50\n",
    "df10[(df10['Race'] == 'White') & (df10['Gender'] == 'Female') & (df10['result_Age'] > 50)]"
   ]
  },
  {
   "cell_type": "markdown",
   "id": "b5fe2de0",
   "metadata": {},
   "source": [
    "### 63. Using loc, retrieve the firstname and lastname of patients between indices 101 and 200"
   ]
  },
  {
   "cell_type": "code",
   "execution_count": 177,
   "id": "0bc45234",
   "metadata": {},
   "outputs": [],
   "source": [
    "#read excle into dataframe\n",
    "df11 = pd.read_excel(\"C:\\\\Users\\\\aksha\\\\OneDrive\\\\Desktop\\\\E-Drive\\\\Numpy Ninja\\\\Python Hackathon\\\\HospitalDatabase.xlsx\", sheet_name='Patients')"
   ]
  },
  {
   "cell_type": "code",
   "execution_count": 178,
   "id": "f355ab71",
   "metadata": {},
   "outputs": [],
   "source": [
    "#read excle into dataframe\n",
    "df12 = pd.read_excel(\"C:\\\\Users\\\\aksha\\\\OneDrive\\\\Desktop\\\\E-Drive\\\\Numpy Ninja\\\\Python Hackathon\\\\HospitalDatabase.xlsx\", sheet_name='ReAdmissionRegistry')"
   ]
  },
  {
   "cell_type": "code",
   "execution_count": 179,
   "id": "5677bd94",
   "metadata": {},
   "outputs": [],
   "source": [
    "# merge the two dataframes\n",
    "res = pd.merge(df11, df12, how='inner', on=['PatientID', 'PatientID'])"
   ]
  },
  {
   "cell_type": "code",
   "execution_count": 187,
   "id": "f332b5d9",
   "metadata": {},
   "outputs": [],
   "source": [
    "#get the indices from 101 and 200\n",
    "res1=res.iloc[101:201]"
   ]
  },
  {
   "cell_type": "code",
   "execution_count": 189,
   "id": "2ec302ca",
   "metadata": {},
   "outputs": [
    {
     "data": {
      "text/html": [
       "<div>\n",
       "<style scoped>\n",
       "    .dataframe tbody tr th:only-of-type {\n",
       "        vertical-align: middle;\n",
       "    }\n",
       "\n",
       "    .dataframe tbody tr th {\n",
       "        vertical-align: top;\n",
       "    }\n",
       "\n",
       "    .dataframe thead th {\n",
       "        text-align: right;\n",
       "    }\n",
       "</style>\n",
       "<table border=\"1\" class=\"dataframe\">\n",
       "  <thead>\n",
       "    <tr style=\"text-align: right;\">\n",
       "      <th></th>\n",
       "      <th>FirstName</th>\n",
       "      <th>LastName</th>\n",
       "      <th>ExpectedLOS</th>\n",
       "    </tr>\n",
       "  </thead>\n",
       "  <tbody>\n",
       "    <tr>\n",
       "      <th>101</th>\n",
       "      <td>Far</td>\n",
       "      <td>Rudinger</td>\n",
       "      <td>9.810658</td>\n",
       "    </tr>\n",
       "    <tr>\n",
       "      <th>102</th>\n",
       "      <td>Skippie</td>\n",
       "      <td>Breagan</td>\n",
       "      <td>12.700672</td>\n",
       "    </tr>\n",
       "    <tr>\n",
       "      <th>103</th>\n",
       "      <td>Calla</td>\n",
       "      <td>Scupham</td>\n",
       "      <td>6.390662</td>\n",
       "    </tr>\n",
       "    <tr>\n",
       "      <th>104</th>\n",
       "      <td>Gan</td>\n",
       "      <td>Harrild</td>\n",
       "      <td>4.842255</td>\n",
       "    </tr>\n",
       "    <tr>\n",
       "      <th>105</th>\n",
       "      <td>Pollyanna</td>\n",
       "      <td>Bonifant</td>\n",
       "      <td>12.680417</td>\n",
       "    </tr>\n",
       "    <tr>\n",
       "      <th>...</th>\n",
       "      <td>...</td>\n",
       "      <td>...</td>\n",
       "      <td>...</td>\n",
       "    </tr>\n",
       "    <tr>\n",
       "      <th>196</th>\n",
       "      <td>Nata</td>\n",
       "      <td>Liddle</td>\n",
       "      <td>10.653874</td>\n",
       "    </tr>\n",
       "    <tr>\n",
       "      <th>197</th>\n",
       "      <td>Maryl</td>\n",
       "      <td>Genders</td>\n",
       "      <td>15.442762</td>\n",
       "    </tr>\n",
       "    <tr>\n",
       "      <th>198</th>\n",
       "      <td>Cummings</td>\n",
       "      <td>Malbon</td>\n",
       "      <td>10.507869</td>\n",
       "    </tr>\n",
       "    <tr>\n",
       "      <th>199</th>\n",
       "      <td>Cathlene</td>\n",
       "      <td>Kidwell</td>\n",
       "      <td>9.045995</td>\n",
       "    </tr>\n",
       "    <tr>\n",
       "      <th>200</th>\n",
       "      <td>Noam</td>\n",
       "      <td>Laguerre</td>\n",
       "      <td>10.685085</td>\n",
       "    </tr>\n",
       "  </tbody>\n",
       "</table>\n",
       "<p>100 rows × 3 columns</p>\n",
       "</div>"
      ],
      "text/plain": [
       "     FirstName  LastName  ExpectedLOS\n",
       "101        Far  Rudinger     9.810658\n",
       "102    Skippie   Breagan    12.700672\n",
       "103      Calla   Scupham     6.390662\n",
       "104        Gan   Harrild     4.842255\n",
       "105  Pollyanna  Bonifant    12.680417\n",
       "..         ...       ...          ...\n",
       "196       Nata    Liddle    10.653874\n",
       "197      Maryl   Genders    15.442762\n",
       "198   Cummings    Malbon    10.507869\n",
       "199   Cathlene   Kidwell     9.045995\n",
       "200       Noam  Laguerre    10.685085\n",
       "\n",
       "[100 rows x 3 columns]"
      ]
     },
     "execution_count": 189,
     "metadata": {},
     "output_type": "execute_result"
    }
   ],
   "source": [
    "#get First name, last name and LOC\n",
    "res1[['FirstName', 'LastName', 'ExpectedLOS']]"
   ]
  },
  {
   "cell_type": "markdown",
   "id": "e2af7d34",
   "metadata": {},
   "source": [
    "### 64. Using numpy functions, multiply the following arrays\n",
    "### a=np.arange(6).reshape(2,3)\n",
    "### b=np.arange(6).reshape(3,2)"
   ]
  },
  {
   "cell_type": "code",
   "execution_count": 190,
   "id": "a45b790d",
   "metadata": {},
   "outputs": [],
   "source": [
    "a=np.arange(6).reshape(2,3)"
   ]
  },
  {
   "cell_type": "code",
   "execution_count": 191,
   "id": "450c5b76",
   "metadata": {},
   "outputs": [
    {
     "data": {
      "text/plain": [
       "array([[0, 1, 2],\n",
       "       [3, 4, 5]])"
      ]
     },
     "execution_count": 191,
     "metadata": {},
     "output_type": "execute_result"
    }
   ],
   "source": [
    "a"
   ]
  },
  {
   "cell_type": "code",
   "execution_count": 192,
   "id": "1128ba20",
   "metadata": {},
   "outputs": [],
   "source": [
    "b=np.arange(6).reshape(3,2)"
   ]
  },
  {
   "cell_type": "code",
   "execution_count": 193,
   "id": "4c5c2719",
   "metadata": {},
   "outputs": [
    {
     "data": {
      "text/plain": [
       "array([[0, 1],\n",
       "       [2, 3],\n",
       "       [4, 5]])"
      ]
     },
     "execution_count": 193,
     "metadata": {},
     "output_type": "execute_result"
    }
   ],
   "source": [
    "b"
   ]
  },
  {
   "cell_type": "code",
   "execution_count": 194,
   "id": "4d7a880d",
   "metadata": {},
   "outputs": [],
   "source": [
    "#dot() function is used to multiply\n",
    "result_multi = np.dot(a,b)"
   ]
  },
  {
   "cell_type": "code",
   "execution_count": 195,
   "id": "d1d1e4d5",
   "metadata": {},
   "outputs": [
    {
     "data": {
      "text/plain": [
       "array([[10, 13],\n",
       "       [28, 40]])"
      ]
     },
     "execution_count": 195,
     "metadata": {},
     "output_type": "execute_result"
    }
   ],
   "source": [
    "result_multi"
   ]
  },
  {
   "cell_type": "markdown",
   "id": "4ccf1762",
   "metadata": {},
   "source": [
    "### 65. Get the count of number of patients based on service and primary diagnosis"
   ]
  },
  {
   "cell_type": "code",
   "execution_count": 196,
   "id": "e0859784",
   "metadata": {},
   "outputs": [],
   "source": [
    "#read excle into dataframe\n",
    "df13 = pd.read_excel(\"C:\\\\Users\\\\aksha\\\\OneDrive\\\\Desktop\\\\E-Drive\\\\Numpy Ninja\\\\Python Hackathon\\\\HospitalDatabase.xlsx\", sheet_name='ReAdmissionRegistry')"
   ]
  },
  {
   "cell_type": "code",
   "execution_count": 197,
   "id": "778a71c9",
   "metadata": {},
   "outputs": [],
   "source": [
    "cnt_pait = df13.groupby(['Service','PrimaryDiagnosis'])['PatientID'].count()"
   ]
  },
  {
   "cell_type": "code",
   "execution_count": 198,
   "id": "46f6643c",
   "metadata": {},
   "outputs": [
    {
     "data": {
      "text/plain": [
       "Service           PrimaryDiagnosis  \n",
       "Cardiology        AMI                   40\n",
       "                  Afib                  10\n",
       "                  Broken Leg             3\n",
       "                  Flu                    2\n",
       "                  Heart Failure         39\n",
       "                  Kidney Failure         1\n",
       "General Medicine  Broken Leg             3\n",
       "                  Diabetes              38\n",
       "                  Fever                 13\n",
       "                  Flu                   54\n",
       "                  Hypertension          35\n",
       "                  Kidney Failure        12\n",
       "                  Laceration            21\n",
       "                  Pneumonia             67\n",
       "                  Stroke                20\n",
       "Hospitalist       AMI                    1\n",
       "                  Broken Leg             3\n",
       "                  Diabetes              26\n",
       "                  Fever                  3\n",
       "                  Flu                   19\n",
       "                  Hypertension           6\n",
       "                  Kidney Failure         6\n",
       "                  Knee Replacement       1\n",
       "                  Laceration             7\n",
       "                  Pneumonia             28\n",
       "                  Stroke                 1\n",
       "ICU               AMI                    5\n",
       "                  Afib                   1\n",
       "                  Fever                  3\n",
       "                  Flu                    3\n",
       "                  Heart Failure         33\n",
       "                  Hypertension           4\n",
       "                  Kidney Failure         1\n",
       "                  Laceration             1\n",
       "                  Pneumonia             77\n",
       "                  Spinal Cord Injury     2\n",
       "                  Stroke                21\n",
       "Neurology         AMI                    2\n",
       "                  Flu                    2\n",
       "                  Heart Failure          6\n",
       "                  Hypertension           5\n",
       "                  Migraine              12\n",
       "                  Pain                   7\n",
       "                  Pneumonia              5\n",
       "                  Stroke                26\n",
       "Orthopeadics      Hip Fracture          23\n",
       "                  Knee Replacement      22\n",
       "Name: PatientID, dtype: int64"
      ]
     },
     "execution_count": 198,
     "metadata": {},
     "output_type": "execute_result"
    }
   ],
   "source": [
    "cnt_pait"
   ]
  },
  {
   "cell_type": "markdown",
   "id": "6e620a5b",
   "metadata": {},
   "source": [
    "### 66. np.arange(1,31).reshape(6,5), find array slicing to get the elements 4,5,24,25,29,30"
   ]
  },
  {
   "cell_type": "code",
   "execution_count": 201,
   "id": "7cd3f0c7",
   "metadata": {},
   "outputs": [],
   "source": [
    "arr=np.arange(1,31).reshape(6,5)"
   ]
  },
  {
   "cell_type": "code",
   "execution_count": 202,
   "id": "a6e725ee",
   "metadata": {},
   "outputs": [
    {
     "data": {
      "text/plain": [
       "array([[ 1,  2,  3,  4,  5],\n",
       "       [ 6,  7,  8,  9, 10],\n",
       "       [11, 12, 13, 14, 15],\n",
       "       [16, 17, 18, 19, 20],\n",
       "       [21, 22, 23, 24, 25],\n",
       "       [26, 27, 28, 29, 30]])"
      ]
     },
     "execution_count": 202,
     "metadata": {},
     "output_type": "execute_result"
    }
   ],
   "source": [
    "arr"
   ]
  },
  {
   "cell_type": "code",
   "execution_count": 205,
   "id": "3e8ec766",
   "metadata": {},
   "outputs": [],
   "source": [
    "y = arr[[[0],[4],[5]],[3,4]]"
   ]
  },
  {
   "cell_type": "code",
   "execution_count": 206,
   "id": "85541500",
   "metadata": {},
   "outputs": [
    {
     "data": {
      "text/plain": [
       "array([[ 4,  5],\n",
       "       [24, 25],\n",
       "       [29, 30]])"
      ]
     },
     "execution_count": 206,
     "metadata": {},
     "output_type": "execute_result"
    }
   ],
   "source": [
    "y"
   ]
  },
  {
   "cell_type": "markdown",
   "id": "240c8e17",
   "metadata": {},
   "source": [
    "### 67. Make a pivot table by counts the no. of patients from the admission date till discharge date"
   ]
  },
  {
   "cell_type": "code",
   "execution_count": 207,
   "id": "46da5e97",
   "metadata": {},
   "outputs": [],
   "source": [
    "#read excle into dataframe\n",
    "df14 = pd.read_excel(\"C:\\\\Users\\\\aksha\\\\OneDrive\\\\Desktop\\\\E-Drive\\\\Numpy Ninja\\\\Python Hackathon\\\\HospitalDatabase.xlsx\", sheet_name='Discharges')"
   ]
  },
  {
   "cell_type": "code",
   "execution_count": 210,
   "id": "19d3511d",
   "metadata": {},
   "outputs": [],
   "source": [
    "pivot1 = pd.pivot_table(\n",
    "    data=df14,\n",
    "    index=['AdmissionDate','DischargeDate'],\n",
    "    values='PatientID',\n",
    "    aggfunc='sum'\n",
    ")"
   ]
  },
  {
   "cell_type": "code",
   "execution_count": 211,
   "id": "fce97957",
   "metadata": {},
   "outputs": [
    {
     "data": {
      "text/html": [
       "<div>\n",
       "<style scoped>\n",
       "    .dataframe tbody tr th:only-of-type {\n",
       "        vertical-align: middle;\n",
       "    }\n",
       "\n",
       "    .dataframe tbody tr th {\n",
       "        vertical-align: top;\n",
       "    }\n",
       "\n",
       "    .dataframe thead th {\n",
       "        text-align: right;\n",
       "    }\n",
       "</style>\n",
       "<table border=\"1\" class=\"dataframe\">\n",
       "  <thead>\n",
       "    <tr style=\"text-align: right;\">\n",
       "      <th></th>\n",
       "      <th></th>\n",
       "      <th>PatientID</th>\n",
       "    </tr>\n",
       "    <tr>\n",
       "      <th>AdmissionDate</th>\n",
       "      <th>DischargeDate</th>\n",
       "      <th></th>\n",
       "    </tr>\n",
       "  </thead>\n",
       "  <tbody>\n",
       "    <tr>\n",
       "      <th rowspan=\"5\" valign=\"top\">2018-01-01</th>\n",
       "      <th>2018-01-04 19:59:31.391</th>\n",
       "      <td>1</td>\n",
       "    </tr>\n",
       "    <tr>\n",
       "      <th>2018-01-04 21:28:51.898</th>\n",
       "      <td>2</td>\n",
       "    </tr>\n",
       "    <tr>\n",
       "      <th>2018-01-04 22:28:23.672</th>\n",
       "      <td>3</td>\n",
       "    </tr>\n",
       "    <tr>\n",
       "      <th>2018-01-05 05:47:04.933</th>\n",
       "      <td>5</td>\n",
       "    </tr>\n",
       "    <tr>\n",
       "      <th>2018-01-05 14:18:30.029</th>\n",
       "      <td>6</td>\n",
       "    </tr>\n",
       "    <tr>\n",
       "      <th>...</th>\n",
       "      <th>...</th>\n",
       "      <td>...</td>\n",
       "    </tr>\n",
       "    <tr>\n",
       "      <th rowspan=\"5\" valign=\"top\">2018-02-22</th>\n",
       "      <th>2018-03-07 21:22:10.061</th>\n",
       "      <td>738</td>\n",
       "    </tr>\n",
       "    <tr>\n",
       "      <th>2018-03-08 02:43:18.749</th>\n",
       "      <td>739</td>\n",
       "    </tr>\n",
       "    <tr>\n",
       "      <th>2018-03-08 09:27:18.377</th>\n",
       "      <td>740</td>\n",
       "    </tr>\n",
       "    <tr>\n",
       "      <th>2018-03-10 06:06:12.068</th>\n",
       "      <td>741</td>\n",
       "    </tr>\n",
       "    <tr>\n",
       "      <th>2018-03-10 20:38:30.568</th>\n",
       "      <td>742</td>\n",
       "    </tr>\n",
       "  </tbody>\n",
       "</table>\n",
       "<p>720 rows × 1 columns</p>\n",
       "</div>"
      ],
      "text/plain": [
       "                                       PatientID\n",
       "AdmissionDate DischargeDate                     \n",
       "2018-01-01    2018-01-04 19:59:31.391          1\n",
       "              2018-01-04 21:28:51.898          2\n",
       "              2018-01-04 22:28:23.672          3\n",
       "              2018-01-05 05:47:04.933          5\n",
       "              2018-01-05 14:18:30.029          6\n",
       "...                                          ...\n",
       "2018-02-22    2018-03-07 21:22:10.061        738\n",
       "              2018-03-08 02:43:18.749        739\n",
       "              2018-03-08 09:27:18.377        740\n",
       "              2018-03-10 06:06:12.068        741\n",
       "              2018-03-10 20:38:30.568        742\n",
       "\n",
       "[720 rows x 1 columns]"
      ]
     },
     "execution_count": 211,
     "metadata": {},
     "output_type": "execute_result"
    }
   ],
   "source": [
    "pivot1"
   ]
  },
  {
   "cell_type": "markdown",
   "id": "1bc19549",
   "metadata": {},
   "source": [
    "### 68. Display the data where actual LOS is greater than expected LOS"
   ]
  },
  {
   "cell_type": "code",
   "execution_count": 212,
   "id": "d1e3df09",
   "metadata": {},
   "outputs": [],
   "source": [
    "#read excle into dataframe\n",
    "df15 = pd.read_excel(\"C:\\\\Users\\\\aksha\\\\OneDrive\\\\Desktop\\\\E-Drive\\\\Numpy Ninja\\\\Python Hackathon\\\\HospitalDatabase.xlsx\", sheet_name='Discharges')"
   ]
  },
  {
   "cell_type": "code",
   "execution_count": 260,
   "id": "7b8b0c42",
   "metadata": {},
   "outputs": [],
   "source": [
    "#calculate actual LOS\n",
    "df15['diff_days'] = df15['DischargeDate']- df15['AdmissionDate']"
   ]
  },
  {
   "cell_type": "code",
   "execution_count": 261,
   "id": "72623014",
   "metadata": {},
   "outputs": [
    {
     "data": {
      "text/plain": [
       "0      6 days 18:06:06.408000\n",
       "1     12 days 02:59:04.667000\n",
       "2      4 days 16:16:06.782000\n",
       "3      8 days 04:48:33.134000\n",
       "4      8 days 13:32:36.157000\n",
       "                ...          \n",
       "715   13 days 03:31:05.262000\n",
       "716    4 days 15:09:02.584000\n",
       "717    5 days 07:59:32.385000\n",
       "718   11 days 12:31:55.958000\n",
       "719   16 days 20:38:30.568000\n",
       "Name: diff_days, Length: 720, dtype: timedelta64[ns]"
      ]
     },
     "execution_count": 261,
     "metadata": {},
     "output_type": "execute_result"
    }
   ],
   "source": [
    "df15['diff_days']"
   ]
  },
  {
   "cell_type": "code",
   "execution_count": 263,
   "id": "736f8ee4",
   "metadata": {
    "scrolled": true
   },
   "outputs": [
    {
     "data": {
      "text/html": [
       "<div>\n",
       "<style scoped>\n",
       "    .dataframe tbody tr th:only-of-type {\n",
       "        vertical-align: middle;\n",
       "    }\n",
       "\n",
       "    .dataframe tbody tr th {\n",
       "        vertical-align: top;\n",
       "    }\n",
       "\n",
       "    .dataframe thead th {\n",
       "        text-align: right;\n",
       "    }\n",
       "</style>\n",
       "<table border=\"1\" class=\"dataframe\">\n",
       "  <thead>\n",
       "    <tr style=\"text-align: right;\">\n",
       "      <th></th>\n",
       "      <th>AdmissionID</th>\n",
       "      <th>PatientID</th>\n",
       "      <th>AdmissionDate</th>\n",
       "      <th>DischargeDate</th>\n",
       "      <th>DischargeDisposition</th>\n",
       "      <th>Service</th>\n",
       "      <th>PrimaryDiagnosis</th>\n",
       "      <th>ExpectedLOS</th>\n",
       "      <th>ExpectedMortality</th>\n",
       "      <th>diff_days</th>\n",
       "    </tr>\n",
       "  </thead>\n",
       "  <tbody>\n",
       "    <tr>\n",
       "      <th>0</th>\n",
       "      <td>1</td>\n",
       "      <td>9</td>\n",
       "      <td>2018-01-01</td>\n",
       "      <td>2018-01-07 18:06:06.408</td>\n",
       "      <td>Expired</td>\n",
       "      <td>Cardiology</td>\n",
       "      <td>AMI</td>\n",
       "      <td>9.646857</td>\n",
       "      <td>0.061540</td>\n",
       "      <td>6 days 18:06:06.408000</td>\n",
       "    </tr>\n",
       "    <tr>\n",
       "      <th>1</th>\n",
       "      <td>257</td>\n",
       "      <td>93</td>\n",
       "      <td>2018-01-06</td>\n",
       "      <td>2018-01-18 02:59:04.667</td>\n",
       "      <td>Expired</td>\n",
       "      <td>Cardiology</td>\n",
       "      <td>Broken Leg</td>\n",
       "      <td>6.816558</td>\n",
       "      <td>0.628827</td>\n",
       "      <td>12 days 02:59:04.667000</td>\n",
       "    </tr>\n",
       "    <tr>\n",
       "      <th>2</th>\n",
       "      <td>152</td>\n",
       "      <td>101</td>\n",
       "      <td>2018-01-07</td>\n",
       "      <td>2018-01-11 16:16:06.782</td>\n",
       "      <td>Expired</td>\n",
       "      <td>Cardiology</td>\n",
       "      <td>Kidney Failure</td>\n",
       "      <td>6.580273</td>\n",
       "      <td>0.573887</td>\n",
       "      <td>4 days 16:16:06.782000</td>\n",
       "    </tr>\n",
       "    <tr>\n",
       "      <th>3</th>\n",
       "      <td>361</td>\n",
       "      <td>102</td>\n",
       "      <td>2018-01-07</td>\n",
       "      <td>2018-01-15 04:48:33.134</td>\n",
       "      <td>Expired</td>\n",
       "      <td>Cardiology</td>\n",
       "      <td>Afib</td>\n",
       "      <td>12.794536</td>\n",
       "      <td>0.222163</td>\n",
       "      <td>8 days 04:48:33.134000</td>\n",
       "    </tr>\n",
       "    <tr>\n",
       "      <th>4</th>\n",
       "      <td>258</td>\n",
       "      <td>103</td>\n",
       "      <td>2018-01-07</td>\n",
       "      <td>2018-01-15 13:32:36.157</td>\n",
       "      <td>Expired</td>\n",
       "      <td>Cardiology</td>\n",
       "      <td>Broken Leg</td>\n",
       "      <td>2.639297</td>\n",
       "      <td>0.055468</td>\n",
       "      <td>8 days 13:32:36.157000</td>\n",
       "    </tr>\n",
       "    <tr>\n",
       "      <th>...</th>\n",
       "      <td>...</td>\n",
       "      <td>...</td>\n",
       "      <td>...</td>\n",
       "      <td>...</td>\n",
       "      <td>...</td>\n",
       "      <td>...</td>\n",
       "      <td>...</td>\n",
       "      <td>...</td>\n",
       "      <td>...</td>\n",
       "      <td>...</td>\n",
       "    </tr>\n",
       "    <tr>\n",
       "      <th>715</th>\n",
       "      <td>715</td>\n",
       "      <td>716</td>\n",
       "      <td>2018-02-21</td>\n",
       "      <td>2018-03-06 03:31:05.262</td>\n",
       "      <td>Transfer</td>\n",
       "      <td>ICU</td>\n",
       "      <td>Heart Failure</td>\n",
       "      <td>11.362095</td>\n",
       "      <td>0.370695</td>\n",
       "      <td>13 days 03:31:05.262000</td>\n",
       "    </tr>\n",
       "    <tr>\n",
       "      <th>716</th>\n",
       "      <td>698</td>\n",
       "      <td>723</td>\n",
       "      <td>2018-02-22</td>\n",
       "      <td>2018-02-26 15:09:02.584</td>\n",
       "      <td>Transfer</td>\n",
       "      <td>ICU</td>\n",
       "      <td>Heart Failure</td>\n",
       "      <td>10.262312</td>\n",
       "      <td>0.812930</td>\n",
       "      <td>4 days 15:09:02.584000</td>\n",
       "    </tr>\n",
       "    <tr>\n",
       "      <th>717</th>\n",
       "      <td>704</td>\n",
       "      <td>724</td>\n",
       "      <td>2018-02-22</td>\n",
       "      <td>2018-02-27 07:59:32.385</td>\n",
       "      <td>Transfer</td>\n",
       "      <td>General Medicine</td>\n",
       "      <td>Pneumonia</td>\n",
       "      <td>6.036234</td>\n",
       "      <td>0.094128</td>\n",
       "      <td>5 days 07:59:32.385000</td>\n",
       "    </tr>\n",
       "    <tr>\n",
       "      <th>718</th>\n",
       "      <td>716</td>\n",
       "      <td>733</td>\n",
       "      <td>2018-02-22</td>\n",
       "      <td>2018-03-05 12:31:55.958</td>\n",
       "      <td>Transfer</td>\n",
       "      <td>ICU</td>\n",
       "      <td>Heart Failure</td>\n",
       "      <td>13.323413</td>\n",
       "      <td>0.490892</td>\n",
       "      <td>11 days 12:31:55.958000</td>\n",
       "    </tr>\n",
       "    <tr>\n",
       "      <th>719</th>\n",
       "      <td>710</td>\n",
       "      <td>742</td>\n",
       "      <td>2018-02-22</td>\n",
       "      <td>2018-03-10 20:38:30.568</td>\n",
       "      <td>Transfer</td>\n",
       "      <td>General Medicine</td>\n",
       "      <td>Diabetes</td>\n",
       "      <td>7.195441</td>\n",
       "      <td>0.286439</td>\n",
       "      <td>16 days 20:38:30.568000</td>\n",
       "    </tr>\n",
       "  </tbody>\n",
       "</table>\n",
       "<p>720 rows × 10 columns</p>\n",
       "</div>"
      ],
      "text/plain": [
       "     AdmissionID  PatientID AdmissionDate           DischargeDate  \\\n",
       "0              1          9    2018-01-01 2018-01-07 18:06:06.408   \n",
       "1            257         93    2018-01-06 2018-01-18 02:59:04.667   \n",
       "2            152        101    2018-01-07 2018-01-11 16:16:06.782   \n",
       "3            361        102    2018-01-07 2018-01-15 04:48:33.134   \n",
       "4            258        103    2018-01-07 2018-01-15 13:32:36.157   \n",
       "..           ...        ...           ...                     ...   \n",
       "715          715        716    2018-02-21 2018-03-06 03:31:05.262   \n",
       "716          698        723    2018-02-22 2018-02-26 15:09:02.584   \n",
       "717          704        724    2018-02-22 2018-02-27 07:59:32.385   \n",
       "718          716        733    2018-02-22 2018-03-05 12:31:55.958   \n",
       "719          710        742    2018-02-22 2018-03-10 20:38:30.568   \n",
       "\n",
       "    DischargeDisposition           Service PrimaryDiagnosis  ExpectedLOS  \\\n",
       "0                Expired        Cardiology              AMI     9.646857   \n",
       "1                Expired        Cardiology       Broken Leg     6.816558   \n",
       "2                Expired        Cardiology   Kidney Failure     6.580273   \n",
       "3                Expired        Cardiology             Afib    12.794536   \n",
       "4                Expired        Cardiology       Broken Leg     2.639297   \n",
       "..                   ...               ...              ...          ...   \n",
       "715             Transfer               ICU    Heart Failure    11.362095   \n",
       "716             Transfer               ICU    Heart Failure    10.262312   \n",
       "717             Transfer  General Medicine        Pneumonia     6.036234   \n",
       "718             Transfer               ICU    Heart Failure    13.323413   \n",
       "719             Transfer  General Medicine         Diabetes     7.195441   \n",
       "\n",
       "     ExpectedMortality               diff_days  \n",
       "0             0.061540  6 days 18:06:06.408000  \n",
       "1             0.628827 12 days 02:59:04.667000  \n",
       "2             0.573887  4 days 16:16:06.782000  \n",
       "3             0.222163  8 days 04:48:33.134000  \n",
       "4             0.055468  8 days 13:32:36.157000  \n",
       "..                 ...                     ...  \n",
       "715           0.370695 13 days 03:31:05.262000  \n",
       "716           0.812930  4 days 15:09:02.584000  \n",
       "717           0.094128  5 days 07:59:32.385000  \n",
       "718           0.490892 11 days 12:31:55.958000  \n",
       "719           0.286439 16 days 20:38:30.568000  \n",
       "\n",
       "[720 rows x 10 columns]"
      ]
     },
     "execution_count": 263,
     "metadata": {},
     "output_type": "execute_result"
    }
   ],
   "source": [
    "df15"
   ]
  },
  {
   "cell_type": "code",
   "execution_count": 271,
   "id": "c13e1f82",
   "metadata": {},
   "outputs": [],
   "source": [
    "#convert to float\n",
    "df15['number_of_days'] = pd.DataFrame(df15['diff_days']).apply(np.float32)"
   ]
  },
  {
   "cell_type": "code",
   "execution_count": 272,
   "id": "31aa0184",
   "metadata": {},
   "outputs": [
    {
     "data": {
      "text/html": [
       "<div>\n",
       "<style scoped>\n",
       "    .dataframe tbody tr th:only-of-type {\n",
       "        vertical-align: middle;\n",
       "    }\n",
       "\n",
       "    .dataframe tbody tr th {\n",
       "        vertical-align: top;\n",
       "    }\n",
       "\n",
       "    .dataframe thead th {\n",
       "        text-align: right;\n",
       "    }\n",
       "</style>\n",
       "<table border=\"1\" class=\"dataframe\">\n",
       "  <thead>\n",
       "    <tr style=\"text-align: right;\">\n",
       "      <th></th>\n",
       "      <th>AdmissionID</th>\n",
       "      <th>PatientID</th>\n",
       "      <th>AdmissionDate</th>\n",
       "      <th>DischargeDate</th>\n",
       "      <th>DischargeDisposition</th>\n",
       "      <th>Service</th>\n",
       "      <th>PrimaryDiagnosis</th>\n",
       "      <th>ExpectedLOS</th>\n",
       "      <th>ExpectedMortality</th>\n",
       "      <th>diff_days</th>\n",
       "      <th>number_of_days</th>\n",
       "    </tr>\n",
       "  </thead>\n",
       "  <tbody>\n",
       "    <tr>\n",
       "      <th>0</th>\n",
       "      <td>1</td>\n",
       "      <td>9</td>\n",
       "      <td>2018-01-01</td>\n",
       "      <td>2018-01-07 18:06:06.408</td>\n",
       "      <td>Expired</td>\n",
       "      <td>Cardiology</td>\n",
       "      <td>AMI</td>\n",
       "      <td>9.646857</td>\n",
       "      <td>0.061540</td>\n",
       "      <td>6 days 18:06:06.408000</td>\n",
       "      <td>5.835664e+14</td>\n",
       "    </tr>\n",
       "    <tr>\n",
       "      <th>1</th>\n",
       "      <td>257</td>\n",
       "      <td>93</td>\n",
       "      <td>2018-01-06</td>\n",
       "      <td>2018-01-18 02:59:04.667</td>\n",
       "      <td>Expired</td>\n",
       "      <td>Cardiology</td>\n",
       "      <td>Broken Leg</td>\n",
       "      <td>6.816558</td>\n",
       "      <td>0.628827</td>\n",
       "      <td>12 days 02:59:04.667000</td>\n",
       "      <td>1.047545e+15</td>\n",
       "    </tr>\n",
       "    <tr>\n",
       "      <th>2</th>\n",
       "      <td>152</td>\n",
       "      <td>101</td>\n",
       "      <td>2018-01-07</td>\n",
       "      <td>2018-01-11 16:16:06.782</td>\n",
       "      <td>Expired</td>\n",
       "      <td>Cardiology</td>\n",
       "      <td>Kidney Failure</td>\n",
       "      <td>6.580273</td>\n",
       "      <td>0.573887</td>\n",
       "      <td>4 days 16:16:06.782000</td>\n",
       "      <td>4.041668e+14</td>\n",
       "    </tr>\n",
       "    <tr>\n",
       "      <th>3</th>\n",
       "      <td>361</td>\n",
       "      <td>102</td>\n",
       "      <td>2018-01-07</td>\n",
       "      <td>2018-01-15 04:48:33.134</td>\n",
       "      <td>Expired</td>\n",
       "      <td>Cardiology</td>\n",
       "      <td>Afib</td>\n",
       "      <td>12.794536</td>\n",
       "      <td>0.222163</td>\n",
       "      <td>8 days 04:48:33.134000</td>\n",
       "      <td>7.085131e+14</td>\n",
       "    </tr>\n",
       "    <tr>\n",
       "      <th>4</th>\n",
       "      <td>258</td>\n",
       "      <td>103</td>\n",
       "      <td>2018-01-07</td>\n",
       "      <td>2018-01-15 13:32:36.157</td>\n",
       "      <td>Expired</td>\n",
       "      <td>Cardiology</td>\n",
       "      <td>Broken Leg</td>\n",
       "      <td>2.639297</td>\n",
       "      <td>0.055468</td>\n",
       "      <td>8 days 13:32:36.157000</td>\n",
       "      <td>7.399562e+14</td>\n",
       "    </tr>\n",
       "    <tr>\n",
       "      <th>...</th>\n",
       "      <td>...</td>\n",
       "      <td>...</td>\n",
       "      <td>...</td>\n",
       "      <td>...</td>\n",
       "      <td>...</td>\n",
       "      <td>...</td>\n",
       "      <td>...</td>\n",
       "      <td>...</td>\n",
       "      <td>...</td>\n",
       "      <td>...</td>\n",
       "      <td>...</td>\n",
       "    </tr>\n",
       "    <tr>\n",
       "      <th>715</th>\n",
       "      <td>715</td>\n",
       "      <td>716</td>\n",
       "      <td>2018-02-21</td>\n",
       "      <td>2018-03-06 03:31:05.262</td>\n",
       "      <td>Transfer</td>\n",
       "      <td>ICU</td>\n",
       "      <td>Heart Failure</td>\n",
       "      <td>11.362095</td>\n",
       "      <td>0.370695</td>\n",
       "      <td>13 days 03:31:05.262000</td>\n",
       "      <td>1.135865e+15</td>\n",
       "    </tr>\n",
       "    <tr>\n",
       "      <th>716</th>\n",
       "      <td>698</td>\n",
       "      <td>723</td>\n",
       "      <td>2018-02-22</td>\n",
       "      <td>2018-02-26 15:09:02.584</td>\n",
       "      <td>Transfer</td>\n",
       "      <td>ICU</td>\n",
       "      <td>Heart Failure</td>\n",
       "      <td>10.262312</td>\n",
       "      <td>0.812930</td>\n",
       "      <td>4 days 15:09:02.584000</td>\n",
       "      <td>4.001426e+14</td>\n",
       "    </tr>\n",
       "    <tr>\n",
       "      <th>717</th>\n",
       "      <td>704</td>\n",
       "      <td>724</td>\n",
       "      <td>2018-02-22</td>\n",
       "      <td>2018-02-27 07:59:32.385</td>\n",
       "      <td>Transfer</td>\n",
       "      <td>General Medicine</td>\n",
       "      <td>Pneumonia</td>\n",
       "      <td>6.036234</td>\n",
       "      <td>0.094128</td>\n",
       "      <td>5 days 07:59:32.385000</td>\n",
       "      <td>4.607724e+14</td>\n",
       "    </tr>\n",
       "    <tr>\n",
       "      <th>718</th>\n",
       "      <td>716</td>\n",
       "      <td>733</td>\n",
       "      <td>2018-02-22</td>\n",
       "      <td>2018-03-05 12:31:55.958</td>\n",
       "      <td>Transfer</td>\n",
       "      <td>ICU</td>\n",
       "      <td>Heart Failure</td>\n",
       "      <td>13.323413</td>\n",
       "      <td>0.490892</td>\n",
       "      <td>11 days 12:31:55.958000</td>\n",
       "      <td>9.955160e+14</td>\n",
       "    </tr>\n",
       "    <tr>\n",
       "      <th>719</th>\n",
       "      <td>710</td>\n",
       "      <td>742</td>\n",
       "      <td>2018-02-22</td>\n",
       "      <td>2018-03-10 20:38:30.568</td>\n",
       "      <td>Transfer</td>\n",
       "      <td>General Medicine</td>\n",
       "      <td>Diabetes</td>\n",
       "      <td>7.195441</td>\n",
       "      <td>0.286439</td>\n",
       "      <td>16 days 20:38:30.568000</td>\n",
       "      <td>1.456711e+15</td>\n",
       "    </tr>\n",
       "  </tbody>\n",
       "</table>\n",
       "<p>720 rows × 11 columns</p>\n",
       "</div>"
      ],
      "text/plain": [
       "     AdmissionID  PatientID AdmissionDate           DischargeDate  \\\n",
       "0              1          9    2018-01-01 2018-01-07 18:06:06.408   \n",
       "1            257         93    2018-01-06 2018-01-18 02:59:04.667   \n",
       "2            152        101    2018-01-07 2018-01-11 16:16:06.782   \n",
       "3            361        102    2018-01-07 2018-01-15 04:48:33.134   \n",
       "4            258        103    2018-01-07 2018-01-15 13:32:36.157   \n",
       "..           ...        ...           ...                     ...   \n",
       "715          715        716    2018-02-21 2018-03-06 03:31:05.262   \n",
       "716          698        723    2018-02-22 2018-02-26 15:09:02.584   \n",
       "717          704        724    2018-02-22 2018-02-27 07:59:32.385   \n",
       "718          716        733    2018-02-22 2018-03-05 12:31:55.958   \n",
       "719          710        742    2018-02-22 2018-03-10 20:38:30.568   \n",
       "\n",
       "    DischargeDisposition           Service PrimaryDiagnosis  ExpectedLOS  \\\n",
       "0                Expired        Cardiology              AMI     9.646857   \n",
       "1                Expired        Cardiology       Broken Leg     6.816558   \n",
       "2                Expired        Cardiology   Kidney Failure     6.580273   \n",
       "3                Expired        Cardiology             Afib    12.794536   \n",
       "4                Expired        Cardiology       Broken Leg     2.639297   \n",
       "..                   ...               ...              ...          ...   \n",
       "715             Transfer               ICU    Heart Failure    11.362095   \n",
       "716             Transfer               ICU    Heart Failure    10.262312   \n",
       "717             Transfer  General Medicine        Pneumonia     6.036234   \n",
       "718             Transfer               ICU    Heart Failure    13.323413   \n",
       "719             Transfer  General Medicine         Diabetes     7.195441   \n",
       "\n",
       "     ExpectedMortality               diff_days  number_of_days  \n",
       "0             0.061540  6 days 18:06:06.408000    5.835664e+14  \n",
       "1             0.628827 12 days 02:59:04.667000    1.047545e+15  \n",
       "2             0.573887  4 days 16:16:06.782000    4.041668e+14  \n",
       "3             0.222163  8 days 04:48:33.134000    7.085131e+14  \n",
       "4             0.055468  8 days 13:32:36.157000    7.399562e+14  \n",
       "..                 ...                     ...             ...  \n",
       "715           0.370695 13 days 03:31:05.262000    1.135865e+15  \n",
       "716           0.812930  4 days 15:09:02.584000    4.001426e+14  \n",
       "717           0.094128  5 days 07:59:32.385000    4.607724e+14  \n",
       "718           0.490892 11 days 12:31:55.958000    9.955160e+14  \n",
       "719           0.286439 16 days 20:38:30.568000    1.456711e+15  \n",
       "\n",
       "[720 rows x 11 columns]"
      ]
     },
     "execution_count": 272,
     "metadata": {},
     "output_type": "execute_result"
    }
   ],
   "source": [
    "#comparing atual LOS and expected LOS\n",
    "df15[(df15['number_of_days'] > df15['ExpectedLOS'])]"
   ]
  },
  {
   "cell_type": "markdown",
   "id": "8fd9fea5",
   "metadata": {},
   "source": [
    "### 69. Details of the patients whose firstname or lastname contains string \"lau\" , should be case insensitive"
   ]
  },
  {
   "cell_type": "code",
   "execution_count": 273,
   "id": "f4968313",
   "metadata": {},
   "outputs": [],
   "source": [
    "#read excle into dataframe\n",
    "df16 = pd.read_excel(\"C:\\\\Users\\\\aksha\\\\OneDrive\\\\Desktop\\\\E-Drive\\\\Numpy Ninja\\\\Python Hackathon\\\\HospitalDatabase.xlsx\", sheet_name='Patients')"
   ]
  },
  {
   "cell_type": "code",
   "execution_count": 280,
   "id": "beb474b8",
   "metadata": {},
   "outputs": [
    {
     "data": {
      "text/html": [
       "<div>\n",
       "<style scoped>\n",
       "    .dataframe tbody tr th:only-of-type {\n",
       "        vertical-align: middle;\n",
       "    }\n",
       "\n",
       "    .dataframe tbody tr th {\n",
       "        vertical-align: top;\n",
       "    }\n",
       "\n",
       "    .dataframe thead th {\n",
       "        text-align: right;\n",
       "    }\n",
       "</style>\n",
       "<table border=\"1\" class=\"dataframe\">\n",
       "  <thead>\n",
       "    <tr style=\"text-align: right;\">\n",
       "      <th></th>\n",
       "      <th>PatientID</th>\n",
       "      <th>FirstName</th>\n",
       "      <th>LastName</th>\n",
       "      <th>DateOfBirth</th>\n",
       "      <th>Gender</th>\n",
       "      <th>Race</th>\n",
       "      <th>Language</th>\n",
       "    </tr>\n",
       "  </thead>\n",
       "  <tbody>\n",
       "  </tbody>\n",
       "</table>\n",
       "</div>"
      ],
      "text/plain": [
       "Empty DataFrame\n",
       "Columns: [PatientID, FirstName, LastName, DateOfBirth, Gender, Race, Language]\n",
       "Index: []"
      ]
     },
     "execution_count": 280,
     "metadata": {},
     "output_type": "execute_result"
    }
   ],
   "source": [
    "df16[(df16['LastName'].str.contains('lua')) | (df16['FirstName'].str.contains('lua'))]"
   ]
  },
  {
   "cell_type": "markdown",
   "id": "1acff0f3",
   "metadata": {},
   "source": [
    "### 70. Plot a graph to show the distribution of expected mortality"
   ]
  },
  {
   "cell_type": "code",
   "execution_count": 283,
   "id": "d4afa5ad",
   "metadata": {},
   "outputs": [],
   "source": [
    "#read excle into dataframe\n",
    "df17 = pd.read_excel(\"C:\\\\Users\\\\aksha\\\\OneDrive\\\\Desktop\\\\E-Drive\\\\Numpy Ninja\\\\Python Hackathon\\\\HospitalDatabase.xlsx\", sheet_name='Discharges')"
   ]
  },
  {
   "cell_type": "code",
   "execution_count": 287,
   "id": "20f7b387",
   "metadata": {},
   "outputs": [
    {
     "data": {
      "image/png": "[encoded data removed]",
      "text/plain": [
       "<Figure size 432x288 with 1 Axes>"
      ]
     },
     "metadata": {
      "needs_background": "light"
     },
     "output_type": "display_data"
    }
   ],
   "source": [
    "\n",
    "x = df17['ExpectedMortality']\n",
    "plt.hist(x, bins=20)\n",
    "plt.gca().set(title='ExpectedMortality Histogram', ylabel='ExpectedMortality');"
   ]
  },
  {
   "cell_type": "markdown",
   "id": "e8790b8c",
   "metadata": {},
   "source": [
    "### 81. Display full name of patients"
   ]
  },
  {
   "cell_type": "code",
   "execution_count": 288,
   "id": "7e7b842d",
   "metadata": {},
   "outputs": [],
   "source": [
    "#read excle into dataframe\n",
    "df18 = pd.read_excel(\"C:\\\\Users\\\\aksha\\\\OneDrive\\\\Desktop\\\\E-Drive\\\\Numpy Ninja\\\\Python Hackathon\\\\HospitalDatabase.xlsx\", sheet_name='Patients')"
   ]
  },
  {
   "cell_type": "code",
   "execution_count": 293,
   "id": "7a84cddb",
   "metadata": {},
   "outputs": [],
   "source": [
    "df18['FullName'] = df18.FirstName + ' ' + df18.LastName\n"
   ]
  },
  {
   "cell_type": "code",
   "execution_count": 294,
   "id": "39d31c85",
   "metadata": {},
   "outputs": [
    {
     "data": {
      "text/html": [
       "<div>\n",
       "<style scoped>\n",
       "    .dataframe tbody tr th:only-of-type {\n",
       "        vertical-align: middle;\n",
       "    }\n",
       "\n",
       "    .dataframe tbody tr th {\n",
       "        vertical-align: top;\n",
       "    }\n",
       "\n",
       "    .dataframe thead th {\n",
       "        text-align: right;\n",
       "    }\n",
       "</style>\n",
       "<table border=\"1\" class=\"dataframe\">\n",
       "  <thead>\n",
       "    <tr style=\"text-align: right;\">\n",
       "      <th></th>\n",
       "      <th>PatientID</th>\n",
       "      <th>FirstName</th>\n",
       "      <th>LastName</th>\n",
       "      <th>DateOfBirth</th>\n",
       "      <th>Gender</th>\n",
       "      <th>Race</th>\n",
       "      <th>Language</th>\n",
       "      <th>FullName</th>\n",
       "    </tr>\n",
       "  </thead>\n",
       "  <tbody>\n",
       "    <tr>\n",
       "      <th>0</th>\n",
       "      <td>1</td>\n",
       "      <td>Lanni</td>\n",
       "      <td>Sue</td>\n",
       "      <td>1960-01-01 00:00:00.000</td>\n",
       "      <td>Male</td>\n",
       "      <td>White</td>\n",
       "      <td>English</td>\n",
       "      <td>Lanni Sue</td>\n",
       "    </tr>\n",
       "    <tr>\n",
       "      <th>1</th>\n",
       "      <td>2</td>\n",
       "      <td>Far</td>\n",
       "      <td>Myers</td>\n",
       "      <td>1985-11-15 02:08:42.090</td>\n",
       "      <td>Male</td>\n",
       "      <td>White</td>\n",
       "      <td>English</td>\n",
       "      <td>Far Myers</td>\n",
       "    </tr>\n",
       "    <tr>\n",
       "      <th>2</th>\n",
       "      <td>3</td>\n",
       "      <td>Devlin</td>\n",
       "      <td>Michael</td>\n",
       "      <td>1976-04-15 02:52:09.762</td>\n",
       "      <td>Male</td>\n",
       "      <td>White</td>\n",
       "      <td>English</td>\n",
       "      <td>Devlin  Michael</td>\n",
       "    </tr>\n",
       "    <tr>\n",
       "      <th>3</th>\n",
       "      <td>4</td>\n",
       "      <td>Carmine</td>\n",
       "      <td>Texas</td>\n",
       "      <td>1968-10-15 03:32:13.635</td>\n",
       "      <td>Male</td>\n",
       "      <td>White</td>\n",
       "      <td>English</td>\n",
       "      <td>Carmine Texas</td>\n",
       "    </tr>\n",
       "    <tr>\n",
       "      <th>4</th>\n",
       "      <td>5</td>\n",
       "      <td>Tann</td>\n",
       "      <td>Bama</td>\n",
       "      <td>1962-05-01 19:12:58.950</td>\n",
       "      <td>Male</td>\n",
       "      <td>White</td>\n",
       "      <td>English</td>\n",
       "      <td>Tann  Bama</td>\n",
       "    </tr>\n",
       "    <tr>\n",
       "      <th>...</th>\n",
       "      <td>...</td>\n",
       "      <td>...</td>\n",
       "      <td>...</td>\n",
       "      <td>...</td>\n",
       "      <td>...</td>\n",
       "      <td>...</td>\n",
       "      <td>...</td>\n",
       "      <td>...</td>\n",
       "    </tr>\n",
       "    <tr>\n",
       "      <th>940</th>\n",
       "      <td>941</td>\n",
       "      <td>Wat</td>\n",
       "      <td>Fideler</td>\n",
       "      <td>1986-05-26 00:01:19.761</td>\n",
       "      <td>Male</td>\n",
       "      <td>Black/African-American</td>\n",
       "      <td>English</td>\n",
       "      <td>Wat Fideler</td>\n",
       "    </tr>\n",
       "    <tr>\n",
       "      <th>941</th>\n",
       "      <td>942</td>\n",
       "      <td>Wandie</td>\n",
       "      <td>Baythrop</td>\n",
       "      <td>1970-06-10 21:41:03.814</td>\n",
       "      <td>Male</td>\n",
       "      <td>Black/African-American</td>\n",
       "      <td>English</td>\n",
       "      <td>Wandie Baythrop</td>\n",
       "    </tr>\n",
       "    <tr>\n",
       "      <th>942</th>\n",
       "      <td>943</td>\n",
       "      <td>Diahann</td>\n",
       "      <td>Smeeton</td>\n",
       "      <td>1983-01-08 21:49:27.884</td>\n",
       "      <td>Male</td>\n",
       "      <td>Black/African-American</td>\n",
       "      <td>English</td>\n",
       "      <td>Diahann Smeeton</td>\n",
       "    </tr>\n",
       "    <tr>\n",
       "      <th>943</th>\n",
       "      <td>944</td>\n",
       "      <td>Panchito</td>\n",
       "      <td>Sharple</td>\n",
       "      <td>1963-06-05 07:57:05.569</td>\n",
       "      <td>Male</td>\n",
       "      <td>Black/African-American</td>\n",
       "      <td>English</td>\n",
       "      <td>Panchito Sharple</td>\n",
       "    </tr>\n",
       "    <tr>\n",
       "      <th>944</th>\n",
       "      <td>945</td>\n",
       "      <td>Walsh</td>\n",
       "      <td>Calvie</td>\n",
       "      <td>1972-08-06 03:40:03.454</td>\n",
       "      <td>Male</td>\n",
       "      <td>Black/African-American</td>\n",
       "      <td>English</td>\n",
       "      <td>Walsh Calvie</td>\n",
       "    </tr>\n",
       "  </tbody>\n",
       "</table>\n",
       "<p>945 rows × 8 columns</p>\n",
       "</div>"
      ],
      "text/plain": [
       "     PatientID FirstName  LastName             DateOfBirth Gender  \\\n",
       "0            1     Lanni       Sue 1960-01-01 00:00:00.000   Male   \n",
       "1            2       Far     Myers 1985-11-15 02:08:42.090   Male   \n",
       "2            3   Devlin    Michael 1976-04-15 02:52:09.762   Male   \n",
       "3            4   Carmine     Texas 1968-10-15 03:32:13.635   Male   \n",
       "4            5     Tann       Bama 1962-05-01 19:12:58.950   Male   \n",
       "..         ...       ...       ...                     ...    ...   \n",
       "940        941       Wat   Fideler 1986-05-26 00:01:19.761   Male   \n",
       "941        942    Wandie  Baythrop 1970-06-10 21:41:03.814   Male   \n",
       "942        943   Diahann   Smeeton 1983-01-08 21:49:27.884   Male   \n",
       "943        944  Panchito   Sharple 1963-06-05 07:57:05.569   Male   \n",
       "944        945     Walsh    Calvie 1972-08-06 03:40:03.454   Male   \n",
       "\n",
       "                       Race Language          FullName  \n",
       "0                     White  English         Lanni Sue  \n",
       "1                     White  English         Far Myers  \n",
       "2                     White  English   Devlin  Michael  \n",
       "3                     White  English     Carmine Texas  \n",
       "4                     White  English        Tann  Bama  \n",
       "..                      ...      ...               ...  \n",
       "940  Black/African-American  English       Wat Fideler  \n",
       "941  Black/African-American  English   Wandie Baythrop  \n",
       "942  Black/African-American  English   Diahann Smeeton  \n",
       "943  Black/African-American  English  Panchito Sharple  \n",
       "944  Black/African-American  English      Walsh Calvie  \n",
       "\n",
       "[945 rows x 8 columns]"
      ]
     },
     "execution_count": 294,
     "metadata": {},
     "output_type": "execute_result"
    }
   ],
   "source": [
    "df18"
   ]
  },
  {
   "cell_type": "markdown",
   "id": "ddb83633",
   "metadata": {},
   "source": [
    "### 82. Retrieve the rows where SBP<140 and DBP<80"
   ]
  },
  {
   "cell_type": "code",
   "execution_count": 295,
   "id": "45501203",
   "metadata": {},
   "outputs": [],
   "source": [
    "#read excle into dataframe\n",
    "df19 = pd.read_excel(\"C:\\\\Users\\\\aksha\\\\OneDrive\\\\Desktop\\\\E-Drive\\\\Numpy Ninja\\\\Python Hackathon\\\\HospitalDatabase.xlsx\", sheet_name='AmbulatoryVisits')"
   ]
  },
  {
   "cell_type": "code",
   "execution_count": 296,
   "id": "64b830a9",
   "metadata": {},
   "outputs": [
    {
     "data": {
      "text/html": [
       "<div>\n",
       "<style scoped>\n",
       "    .dataframe tbody tr th:only-of-type {\n",
       "        vertical-align: middle;\n",
       "    }\n",
       "\n",
       "    .dataframe tbody tr th {\n",
       "        vertical-align: top;\n",
       "    }\n",
       "\n",
       "    .dataframe thead th {\n",
       "        text-align: right;\n",
       "    }\n",
       "</style>\n",
       "<table border=\"1\" class=\"dataframe\">\n",
       "  <thead>\n",
       "    <tr style=\"text-align: right;\">\n",
       "      <th></th>\n",
       "      <th>VisitID</th>\n",
       "      <th>PatientMRN</th>\n",
       "      <th>ProviderID</th>\n",
       "      <th>DateofVisit</th>\n",
       "      <th>DateScheduled</th>\n",
       "      <th>VisitDepartmentID</th>\n",
       "      <th>VisitType</th>\n",
       "      <th>BloodPressureSystolic</th>\n",
       "      <th>BloodPressureDiastolic</th>\n",
       "      <th>Pulse</th>\n",
       "      <th>VisitStatus</th>\n",
       "    </tr>\n",
       "  </thead>\n",
       "  <tbody>\n",
       "  </tbody>\n",
       "</table>\n",
       "</div>"
      ],
      "text/plain": [
       "Empty DataFrame\n",
       "Columns: [VisitID, PatientMRN, ProviderID, DateofVisit, DateScheduled, VisitDepartmentID, VisitType, BloodPressureSystolic, BloodPressureDiastolic, Pulse, VisitStatus]\n",
       "Index: []"
      ]
     },
     "execution_count": 296,
     "metadata": {},
     "output_type": "execute_result"
    }
   ],
   "source": [
    "df19[(df19['BloodPressureSystolic'] < 40) & (df19['BloodPressureDiastolic'] < 80)]"
   ]
  },
  {
   "cell_type": "markdown",
   "id": "3afd3958",
   "metadata": {},
   "source": [
    "### 83. Create the plot below by adding two axes to a figure object at [0.1,0.1,0.9,0.9] & [0.2,0.6,0.3,0.3]"
   ]
  },
  {
   "cell_type": "code",
   "execution_count": 297,
   "id": "8d7af3b6",
   "metadata": {},
   "outputs": [
    {
     "data": {
      "image/png": "[encoded data removed]",
      "text/plain": [
       "<Figure size 432x288 with 2 Axes>"
      ]
     },
     "metadata": {
      "needs_background": "light"
     },
     "output_type": "display_data"
    }
   ],
   "source": [
    "# Creating an empty object\n",
    "fig = plt.figure()\n",
    " \n",
    "# Creation of multiple axes\n",
    "# main axes\n",
    "axes1 = fig.add_axes([0.1, 0.1, 0.9, 0.9]) \n",
    " \n",
    "# secondary axes\n",
    "axes2 = fig.add_axes([0.2, 0.6, 0.3, 0.3]) "
   ]
  },
  {
   "cell_type": "markdown",
   "id": "837fa0c1",
   "metadata": {},
   "source": [
    "### 84. Find the list of patients whose ExpectedLOS is greater than the value given by the user"
   ]
  },
  {
   "cell_type": "code",
   "execution_count": 298,
   "id": "8224548a",
   "metadata": {},
   "outputs": [],
   "source": [
    "#read excle into dataframe\n",
    "df20 = pd.read_excel(\"C:\\\\Users\\\\aksha\\\\OneDrive\\\\Desktop\\\\E-Drive\\\\Numpy Ninja\\\\Python Hackathon\\\\HospitalDatabase.xlsx\", sheet_name='Discharges')"
   ]
  },
  {
   "cell_type": "code",
   "execution_count": 299,
   "id": "c0b63a5e",
   "metadata": {},
   "outputs": [
    {
     "name": "stdout",
     "output_type": "stream",
     "text": [
      "Enter a number\n",
      "2.2\n"
     ]
    }
   ],
   "source": [
    "print(\"Enter a number\")\n",
    "a_input=float(input())"
   ]
  },
  {
   "cell_type": "code",
   "execution_count": 300,
   "id": "f7071834",
   "metadata": {},
   "outputs": [
    {
     "data": {
      "text/html": [
       "<div>\n",
       "<style scoped>\n",
       "    .dataframe tbody tr th:only-of-type {\n",
       "        vertical-align: middle;\n",
       "    }\n",
       "\n",
       "    .dataframe tbody tr th {\n",
       "        vertical-align: top;\n",
       "    }\n",
       "\n",
       "    .dataframe thead th {\n",
       "        text-align: right;\n",
       "    }\n",
       "</style>\n",
       "<table border=\"1\" class=\"dataframe\">\n",
       "  <thead>\n",
       "    <tr style=\"text-align: right;\">\n",
       "      <th></th>\n",
       "      <th>AdmissionID</th>\n",
       "      <th>PatientID</th>\n",
       "      <th>AdmissionDate</th>\n",
       "      <th>DischargeDate</th>\n",
       "      <th>DischargeDisposition</th>\n",
       "      <th>Service</th>\n",
       "      <th>PrimaryDiagnosis</th>\n",
       "      <th>ExpectedLOS</th>\n",
       "      <th>ExpectedMortality</th>\n",
       "    </tr>\n",
       "  </thead>\n",
       "  <tbody>\n",
       "    <tr>\n",
       "      <th>0</th>\n",
       "      <td>1</td>\n",
       "      <td>9</td>\n",
       "      <td>2018-01-01</td>\n",
       "      <td>2018-01-07 18:06:06.408</td>\n",
       "      <td>Expired</td>\n",
       "      <td>Cardiology</td>\n",
       "      <td>AMI</td>\n",
       "      <td>9.646857</td>\n",
       "      <td>0.061540</td>\n",
       "    </tr>\n",
       "    <tr>\n",
       "      <th>1</th>\n",
       "      <td>257</td>\n",
       "      <td>93</td>\n",
       "      <td>2018-01-06</td>\n",
       "      <td>2018-01-18 02:59:04.667</td>\n",
       "      <td>Expired</td>\n",
       "      <td>Cardiology</td>\n",
       "      <td>Broken Leg</td>\n",
       "      <td>6.816558</td>\n",
       "      <td>0.628827</td>\n",
       "    </tr>\n",
       "    <tr>\n",
       "      <th>2</th>\n",
       "      <td>152</td>\n",
       "      <td>101</td>\n",
       "      <td>2018-01-07</td>\n",
       "      <td>2018-01-11 16:16:06.782</td>\n",
       "      <td>Expired</td>\n",
       "      <td>Cardiology</td>\n",
       "      <td>Kidney Failure</td>\n",
       "      <td>6.580273</td>\n",
       "      <td>0.573887</td>\n",
       "    </tr>\n",
       "    <tr>\n",
       "      <th>3</th>\n",
       "      <td>361</td>\n",
       "      <td>102</td>\n",
       "      <td>2018-01-07</td>\n",
       "      <td>2018-01-15 04:48:33.134</td>\n",
       "      <td>Expired</td>\n",
       "      <td>Cardiology</td>\n",
       "      <td>Afib</td>\n",
       "      <td>12.794536</td>\n",
       "      <td>0.222163</td>\n",
       "    </tr>\n",
       "    <tr>\n",
       "      <th>4</th>\n",
       "      <td>258</td>\n",
       "      <td>103</td>\n",
       "      <td>2018-01-07</td>\n",
       "      <td>2018-01-15 13:32:36.157</td>\n",
       "      <td>Expired</td>\n",
       "      <td>Cardiology</td>\n",
       "      <td>Broken Leg</td>\n",
       "      <td>2.639297</td>\n",
       "      <td>0.055468</td>\n",
       "    </tr>\n",
       "    <tr>\n",
       "      <th>...</th>\n",
       "      <td>...</td>\n",
       "      <td>...</td>\n",
       "      <td>...</td>\n",
       "      <td>...</td>\n",
       "      <td>...</td>\n",
       "      <td>...</td>\n",
       "      <td>...</td>\n",
       "      <td>...</td>\n",
       "      <td>...</td>\n",
       "    </tr>\n",
       "    <tr>\n",
       "      <th>715</th>\n",
       "      <td>715</td>\n",
       "      <td>716</td>\n",
       "      <td>2018-02-21</td>\n",
       "      <td>2018-03-06 03:31:05.262</td>\n",
       "      <td>Transfer</td>\n",
       "      <td>ICU</td>\n",
       "      <td>Heart Failure</td>\n",
       "      <td>11.362095</td>\n",
       "      <td>0.370695</td>\n",
       "    </tr>\n",
       "    <tr>\n",
       "      <th>716</th>\n",
       "      <td>698</td>\n",
       "      <td>723</td>\n",
       "      <td>2018-02-22</td>\n",
       "      <td>2018-02-26 15:09:02.584</td>\n",
       "      <td>Transfer</td>\n",
       "      <td>ICU</td>\n",
       "      <td>Heart Failure</td>\n",
       "      <td>10.262312</td>\n",
       "      <td>0.812930</td>\n",
       "    </tr>\n",
       "    <tr>\n",
       "      <th>717</th>\n",
       "      <td>704</td>\n",
       "      <td>724</td>\n",
       "      <td>2018-02-22</td>\n",
       "      <td>2018-02-27 07:59:32.385</td>\n",
       "      <td>Transfer</td>\n",
       "      <td>General Medicine</td>\n",
       "      <td>Pneumonia</td>\n",
       "      <td>6.036234</td>\n",
       "      <td>0.094128</td>\n",
       "    </tr>\n",
       "    <tr>\n",
       "      <th>718</th>\n",
       "      <td>716</td>\n",
       "      <td>733</td>\n",
       "      <td>2018-02-22</td>\n",
       "      <td>2018-03-05 12:31:55.958</td>\n",
       "      <td>Transfer</td>\n",
       "      <td>ICU</td>\n",
       "      <td>Heart Failure</td>\n",
       "      <td>13.323413</td>\n",
       "      <td>0.490892</td>\n",
       "    </tr>\n",
       "    <tr>\n",
       "      <th>719</th>\n",
       "      <td>710</td>\n",
       "      <td>742</td>\n",
       "      <td>2018-02-22</td>\n",
       "      <td>2018-03-10 20:38:30.568</td>\n",
       "      <td>Transfer</td>\n",
       "      <td>General Medicine</td>\n",
       "      <td>Diabetes</td>\n",
       "      <td>7.195441</td>\n",
       "      <td>0.286439</td>\n",
       "    </tr>\n",
       "  </tbody>\n",
       "</table>\n",
       "<p>709 rows × 9 columns</p>\n",
       "</div>"
      ],
      "text/plain": [
       "     AdmissionID  PatientID AdmissionDate           DischargeDate  \\\n",
       "0              1          9    2018-01-01 2018-01-07 18:06:06.408   \n",
       "1            257         93    2018-01-06 2018-01-18 02:59:04.667   \n",
       "2            152        101    2018-01-07 2018-01-11 16:16:06.782   \n",
       "3            361        102    2018-01-07 2018-01-15 04:48:33.134   \n",
       "4            258        103    2018-01-07 2018-01-15 13:32:36.157   \n",
       "..           ...        ...           ...                     ...   \n",
       "715          715        716    2018-02-21 2018-03-06 03:31:05.262   \n",
       "716          698        723    2018-02-22 2018-02-26 15:09:02.584   \n",
       "717          704        724    2018-02-22 2018-02-27 07:59:32.385   \n",
       "718          716        733    2018-02-22 2018-03-05 12:31:55.958   \n",
       "719          710        742    2018-02-22 2018-03-10 20:38:30.568   \n",
       "\n",
       "    DischargeDisposition           Service PrimaryDiagnosis  ExpectedLOS  \\\n",
       "0                Expired        Cardiology              AMI     9.646857   \n",
       "1                Expired        Cardiology       Broken Leg     6.816558   \n",
       "2                Expired        Cardiology   Kidney Failure     6.580273   \n",
       "3                Expired        Cardiology             Afib    12.794536   \n",
       "4                Expired        Cardiology       Broken Leg     2.639297   \n",
       "..                   ...               ...              ...          ...   \n",
       "715             Transfer               ICU    Heart Failure    11.362095   \n",
       "716             Transfer               ICU    Heart Failure    10.262312   \n",
       "717             Transfer  General Medicine        Pneumonia     6.036234   \n",
       "718             Transfer               ICU    Heart Failure    13.323413   \n",
       "719             Transfer  General Medicine         Diabetes     7.195441   \n",
       "\n",
       "     ExpectedMortality  \n",
       "0             0.061540  \n",
       "1             0.628827  \n",
       "2             0.573887  \n",
       "3             0.222163  \n",
       "4             0.055468  \n",
       "..                 ...  \n",
       "715           0.370695  \n",
       "716           0.812930  \n",
       "717           0.094128  \n",
       "718           0.490892  \n",
       "719           0.286439  \n",
       "\n",
       "[709 rows x 9 columns]"
      ]
     },
     "execution_count": 300,
     "metadata": {},
     "output_type": "execute_result"
    }
   ],
   "source": [
    "df20[(df15['ExpectedLOS'] > a_input)]"
   ]
  },
  {
   "cell_type": "markdown",
   "id": "270cd321",
   "metadata": {},
   "source": [
    "### 85. Find count of Black/African American, English Females"
   ]
  },
  {
   "cell_type": "code",
   "execution_count": 301,
   "id": "dfc76bd9",
   "metadata": {},
   "outputs": [],
   "source": [
    "#read excle into dataframe\n",
    "df21 = pd.read_excel(\"C:\\\\Users\\\\aksha\\\\OneDrive\\\\Desktop\\\\E-Drive\\\\Numpy Ninja\\\\Python Hackathon\\\\HospitalDatabase.xlsx\", sheet_name='Patients')"
   ]
  },
  {
   "cell_type": "code",
   "execution_count": 302,
   "id": "4a800ad8",
   "metadata": {},
   "outputs": [
    {
     "data": {
      "text/plain": [
       "PatientID      119\n",
       "FirstName      119\n",
       "LastName       119\n",
       "DateOfBirth    119\n",
       "Gender         119\n",
       "Race           119\n",
       "Language       119\n",
       "dtype: int64"
      ]
     },
     "execution_count": 302,
     "metadata": {},
     "output_type": "execute_result"
    }
   ],
   "source": [
    "df21[(df21['Race'] == 'Black/African-American') & (df21['Gender'] == 'Female') & (df21['Language'] == 'English')].count()"
   ]
  },
  {
   "cell_type": "code",
   "execution_count": null,
   "id": "51ba7dbe",
   "metadata": {},
   "outputs": [],
   "source": []
  }
 ],
 "metadata": {
  "kernelspec": {
   "display_name": "Python 3 (ipykernel)",
   "language": "python",
   "name": "python3"
  },
  "language_info": {
   "codemirror_mode": {
    "name": "ipython",
    "version": 3
   },
   "file_extension": ".py",
   "mimetype": "text/x-python",
   "name": "python",
   "nbconvert_exporter": "python",
   "pygments_lexer": "ipython3",
   "version": "3.9.7"
  }
 },
 "nbformat": 4,
 "nbformat_minor": 5
}
