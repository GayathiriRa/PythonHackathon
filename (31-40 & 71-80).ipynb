{
 "cells": [
  {
   "cell_type": "code",
   "execution_count": null,
   "id": "ae7eab8a",
   "metadata": {},
   "outputs": [],
   "source": [
    "pip install openpyxl"
   ]
  },
  {
   "cell_type": "code",
   "execution_count": 2,
   "id": "26fb07e4",
   "metadata": {
    "scrolled": true
   },
   "outputs": [],
   "source": [
    " import pandas as pd\n",
    "    \n",
    "    \n",
    "from pandas import ExcelWriter\n",
    "from pandas import ExcelFile\n",
    "\n",
    "\n",
    "import numpy as np\n",
    "data = pd.read_excel('HospitalDatabase.xlsx')\n"
   ]
  },
  {
   "cell_type": "code",
   "execution_count": 35,
   "id": "735638bb",
   "metadata": {},
   "outputs": [
    {
     "data": {
      "text/plain": [
       "<AxesSubplot:xlabel='Service'>"
      ]
     },
     "execution_count": 35,
     "metadata": {},
     "output_type": "execute_result"
    },
    {
     "data": {
      "image/png": "[encoded data removed]",
      "text/plain": [
       "<Figure size 432x288 with 1 Axes>"
      ]
     },
     "metadata": {
      "needs_background": "light"
     },
     "output_type": "display_data"
    }
   ],
   "source": [
    "#31.Using a bar chart, which Service had the lowest count of Expected Mortality?\n",
    "Read_data = pd.read_excel('HospitalDatabase.xlsx',sheet_name='ReAdmissionRegistry',usecols='F,I')\n",
    "#print(Read_data)\n",
    "\n",
    "Low_ctMortality = Read_data.groupby('Service')['ExpectedMortality'].nunique()\n",
    "#print(Low_ctMortality)\n",
    "Low_ctMortality.plot.bar()"
   ]
  },
  {
   "cell_type": "code",
   "execution_count": 47,
   "id": "807bd869",
   "metadata": {},
   "outputs": [
    {
     "name": "stdout",
     "output_type": "stream",
     "text": [
      "[ 1  2  3  4  5  6  7  8  9 10 11 12 13 14 15 16 17 18 19 20 21 22 23 24\n",
      " 25 26 27 28 29 30]\n",
      "[[ 1  2  3  4  5]\n",
      " [ 6  7  8  9 10]\n",
      " [11 12 13 14 15]\n",
      " [16 17 18 19 20]\n",
      " [21 22 23 24 25]\n",
      " [26 27 28 29 30]]\n",
      "(6, 5)\n",
      "[[11 12]\n",
      " [16 17]]\n"
     ]
    }
   ],
   "source": [
    "\n",
    "#32.np.arange(1,31).reshape(6,5) Find the array slicing to get the elements with values 11,12,16,17\n",
    "\n",
    "\n",
    "import numpy as np\n",
    "a =np.arange(1,31)\n",
    "print(a)\n",
    "b = a.reshape(6,5)\n",
    "print(b)\n",
    "\n",
    "print(c.shape)\n",
    "c = np.array(b)\n",
    "\n",
    "\n",
    "\n",
    "\n",
    "d = np.array ([ [ 1 , 2,  3 , 4 , 5], [ 6 , 7 , 8 , 9, 10], [11 ,12 ,13, 14 ,15], [16, 17, 18, 19 ,20], \n",
    "               [21, 22 ,23 ,24 ,25], [26, 27 ,28, 29 ,30] ])\n",
    "print(d[2:4,0:2])"
   ]
  },
  {
   "cell_type": "code",
   "execution_count": null,
   "id": "8038a73b",
   "metadata": {},
   "outputs": [],
   "source": []
  },
  {
   "cell_type": "code",
   "execution_count": 45,
   "id": "654f3d0f",
   "metadata": {},
   "outputs": [
    {
     "name": "stdout",
     "output_type": "stream",
     "text": [
      "[ 1  2  3  4  5  6  7  8  9 10 11 12 13 14 15 16 17 18 19 20 21 22 23 24\n",
      " 25 26 27 28 29 30]\n",
      "[[ 1  2  3  4  5]\n",
      " [ 6  7  8  9 10]\n",
      " [11 12 13 14 15]\n",
      " [16 17 18 19 20]\n",
      " [21 22 23 24 25]\n",
      " [26 27 28 29 30]]\n",
      "Array slicing for Elements: 2,8,14,20\n",
      "[ 2  8 14 20]\n"
     ]
    }
   ],
   "source": [
    "#33.np.arange(1,31).reshape(6,5), find array slicing for elements 2,8,14,20\n",
    "\n",
    "\n",
    "import numpy as np\n",
    "a =np.arange(1,31)\n",
    "print(a)\n",
    "\n",
    "\n",
    "b = a.reshape(6,5)\n",
    "print(b)\n",
    "\n",
    "\n",
    "c = np.array(b)\n",
    "#print(c.shape)\n",
    "\n",
    "\n",
    "d = np.array ([ [ 1 , 2,  3 , 4 , 5], [ 6 , 7 , 8 , 9, 10], [11 ,12 ,13, 14 ,15], [16, 17, 18, 19 ,20], \n",
    "               [21, 22 ,23 ,24 ,25], [26, 27 ,28, 29 ,30] ])\n",
    "\n",
    "print(\"Array slicing for Elements: 2,8,14,20\")\n",
    "print(a[1:21:6])"
   ]
  },
  {
   "cell_type": "code",
   "execution_count": null,
   "id": "313692cd",
   "metadata": {},
   "outputs": [],
   "source": [
    "#34.Create a correlation matrix on EDVisits"
   ]
  },
  {
   "cell_type": "code",
   "execution_count": 33,
   "id": "8574d3fc",
   "metadata": {},
   "outputs": [
    {
     "name": "stdout",
     "output_type": "stream",
     "text": [
      "Correlation matrix on EDVisits\n"
     ]
    },
    {
     "data": {
      "text/html": [
       "<div>\n",
       "<style scoped>\n",
       "    .dataframe tbody tr th:only-of-type {\n",
       "        vertical-align: middle;\n",
       "    }\n",
       "\n",
       "    .dataframe tbody tr th {\n",
       "        vertical-align: top;\n",
       "    }\n",
       "\n",
       "    .dataframe thead th {\n",
       "        text-align: right;\n",
       "    }\n",
       "</style>\n",
       "<table border=\"1\" class=\"dataframe\">\n",
       "  <thead>\n",
       "    <tr style=\"text-align: right;\">\n",
       "      <th></th>\n",
       "      <th>EDVisitID</th>\n",
       "      <th>PatientID</th>\n",
       "      <th>Acuity</th>\n",
       "    </tr>\n",
       "  </thead>\n",
       "  <tbody>\n",
       "    <tr>\n",
       "      <th>EDVisitID</th>\n",
       "      <td>1.000000</td>\n",
       "      <td>0.975477</td>\n",
       "      <td>0.005813</td>\n",
       "    </tr>\n",
       "    <tr>\n",
       "      <th>PatientID</th>\n",
       "      <td>0.975477</td>\n",
       "      <td>1.000000</td>\n",
       "      <td>0.003545</td>\n",
       "    </tr>\n",
       "    <tr>\n",
       "      <th>Acuity</th>\n",
       "      <td>0.005813</td>\n",
       "      <td>0.003545</td>\n",
       "      <td>1.000000</td>\n",
       "    </tr>\n",
       "  </tbody>\n",
       "</table>\n",
       "</div>"
      ],
      "text/plain": [
       "           EDVisitID  PatientID    Acuity\n",
       "EDVisitID   1.000000   0.975477  0.005813\n",
       "PatientID   0.975477   1.000000  0.003545\n",
       "Acuity      0.005813   0.003545  1.000000"
      ]
     },
     "execution_count": 33,
     "metadata": {},
     "output_type": "execute_result"
    }
   ],
   "source": [
    "#34.Create a correlation matrix on EDVisits\n",
    "\n",
    "import pandas as pd\n",
    "\n",
    "EDVisit_data = pd.read_excel('HospitalDatabase.xlsx',sheet_name='EDVisits')\n",
    "\n",
    "matrix = EDVisit_data.corr()\n",
    "print(\"Correlation matrix on EDVisits\")\n",
    "matrix\n",
    "\n",
    "\n"
   ]
  },
  {
   "cell_type": "code",
   "execution_count": 5,
   "id": "cbd0cfb6",
   "metadata": {},
   "outputs": [
    {
     "name": "stdout",
     "output_type": "stream",
     "text": [
      "The sentence is : Numpy Ninja :: Python Hackathon\n",
      "upper case letters ::['N', 'N', 'P', 'H']\n",
      "upper case letters ::4\n",
      "Lower case letters ::['u', 'm', 'p', 'y', 'i', 'n', 'j', 'a', 'y', 't', 'h', 'o', 'n', 'a', 'c', 'k', 'a', 't', 'h', 'o', 'n']\n",
      "Lower case letters ::21\n"
     ]
    }
   ],
   "source": [
    " #35.Write a function to print all the upper case letter of a given sentence\n",
    " # Extract Upper case characters using List Comprehension and isupper()\n",
    "\n",
    "\n",
    "\n",
    "\n",
    "test_sentence = \"Numpy Ninja :: Python Hackathon\"\n",
    "\n",
    "print(\"The sentence is : \" + str(test_sentence))\n",
    "\n",
    "upper_letters = [char for char in test_sentence if char.isupper()]\n",
    "\n",
    "Lower_letters = [char for char in test_sentence if char.islower()]\n",
    "ll = len(Lower_letters)\n",
    "ul = len(upper_letters)\n",
    "print(\"upper case letters ::\" + str(upper_letters))\n",
    "print(\"upper case letters ::\" + str(ul))\n",
    "\n",
    "print(\"Lower case letters ::\" + str (Lower_letters))\n",
    "\n",
    "print(\"Lower case letters ::\" + str (ll))\n"
   ]
  },
  {
   "cell_type": "code",
   "execution_count": 38,
   "id": "8cb147dd",
   "metadata": {},
   "outputs": [
    {
     "data": {
      "text/plain": [
       "DischargeDisposition\n",
       "Expired     104\n",
       "Home        577\n",
       "Transfer     39\n",
       "Name: AdmissionID, dtype: int64"
      ]
     },
     "execution_count": 38,
     "metadata": {},
     "output_type": "execute_result"
    }
   ],
   "source": [
    "#36.Number of patients on 'Transfer' based on primary diagnosis\n",
    "\n",
    "\n",
    "Discharge_data = pd.read_excel('HospitalDatabase.xlsx',sheet_name='Discharges',usecols='A,E,G')\n",
    "#print(Discharge_data)\n",
    "df= pd.DataFrame(Discharge_data)\n",
    "Dis_position = ['Transfer']\n",
    "num_patient = df.groupby('DischargeDisposition')['AdmissionID'].nunique()\n",
    "num_patient\n"
   ]
  },
  {
   "cell_type": "code",
   "execution_count": 31,
   "id": "d0607323",
   "metadata": {},
   "outputs": [
    {
     "data": {
      "text/html": [
       "<div>\n",
       "<style scoped>\n",
       "    .dataframe tbody tr th:only-of-type {\n",
       "        vertical-align: middle;\n",
       "    }\n",
       "\n",
       "    .dataframe tbody tr th {\n",
       "        vertical-align: top;\n",
       "    }\n",
       "\n",
       "    .dataframe thead th {\n",
       "        text-align: right;\n",
       "    }\n",
       "</style>\n",
       "<table border=\"1\" class=\"dataframe\">\n",
       "  <thead>\n",
       "    <tr style=\"text-align: right;\">\n",
       "      <th></th>\n",
       "      <th>PatientID</th>\n",
       "      <th>ReasonForVisit</th>\n",
       "      <th>FirstName</th>\n",
       "      <th>LastName</th>\n",
       "      <th>DateOfBirth</th>\n",
       "    </tr>\n",
       "  </thead>\n",
       "  <tbody>\n",
       "    <tr>\n",
       "      <th>1</th>\n",
       "      <td>12</td>\n",
       "      <td>Migraine</td>\n",
       "      <td>Zonnya</td>\n",
       "      <td>Ab</td>\n",
       "      <td>1963-05-23 10:04:33.074</td>\n",
       "    </tr>\n",
       "    <tr>\n",
       "      <th>3</th>\n",
       "      <td>14</td>\n",
       "      <td>Migraine</td>\n",
       "      <td>Gan</td>\n",
       "      <td>Yu</td>\n",
       "      <td>1970-06-02 06:22:54.675</td>\n",
       "    </tr>\n",
       "    <tr>\n",
       "      <th>22</th>\n",
       "      <td>3</td>\n",
       "      <td>Migraine</td>\n",
       "      <td>Devlin</td>\n",
       "      <td>Michael</td>\n",
       "      <td>1976-04-15 02:52:09.762</td>\n",
       "    </tr>\n",
       "    <tr>\n",
       "      <th>44</th>\n",
       "      <td>22</td>\n",
       "      <td>Migraine</td>\n",
       "      <td>Joesph</td>\n",
       "      <td>Long</td>\n",
       "      <td>1979-12-04 16:45:56.080</td>\n",
       "    </tr>\n",
       "    <tr>\n",
       "      <th>46</th>\n",
       "      <td>24</td>\n",
       "      <td>Migraine</td>\n",
       "      <td>Gabriel</td>\n",
       "      <td>Joseph</td>\n",
       "      <td>1986-05-31 09:36:05.716</td>\n",
       "    </tr>\n",
       "    <tr>\n",
       "      <th>...</th>\n",
       "      <td>...</td>\n",
       "      <td>...</td>\n",
       "      <td>...</td>\n",
       "      <td>...</td>\n",
       "      <td>...</td>\n",
       "    </tr>\n",
       "    <tr>\n",
       "      <th>908</th>\n",
       "      <td>870</td>\n",
       "      <td>Migraine</td>\n",
       "      <td>Hauck</td>\n",
       "      <td>Rubbens</td>\n",
       "      <td>1963-11-16 03:31:38.929</td>\n",
       "    </tr>\n",
       "    <tr>\n",
       "      <th>921</th>\n",
       "      <td>897</td>\n",
       "      <td>Migraine</td>\n",
       "      <td>Barrows</td>\n",
       "      <td>Coupland</td>\n",
       "      <td>1979-10-31 18:28:35.483</td>\n",
       "    </tr>\n",
       "    <tr>\n",
       "      <th>928</th>\n",
       "      <td>908</td>\n",
       "      <td>Migraine</td>\n",
       "      <td>Knox</td>\n",
       "      <td>Group</td>\n",
       "      <td>1975-08-25 22:27:50.177</td>\n",
       "    </tr>\n",
       "    <tr>\n",
       "      <th>930</th>\n",
       "      <td>910</td>\n",
       "      <td>Migraine</td>\n",
       "      <td>Kuvalis</td>\n",
       "      <td>Coupland</td>\n",
       "      <td>1986-05-23 19:23:27.752</td>\n",
       "    </tr>\n",
       "    <tr>\n",
       "      <th>935</th>\n",
       "      <td>924</td>\n",
       "      <td>Migraine</td>\n",
       "      <td>Daniel</td>\n",
       "      <td>Shakesby</td>\n",
       "      <td>1980-11-28 17:57:03.702</td>\n",
       "    </tr>\n",
       "  </tbody>\n",
       "</table>\n",
       "<p>116 rows × 5 columns</p>\n",
       "</div>"
      ],
      "text/plain": [
       "     PatientID ReasonForVisit FirstName  LastName             DateOfBirth\n",
       "1           12       Migraine    Zonnya        Ab 1963-05-23 10:04:33.074\n",
       "3           14       Migraine       Gan        Yu 1970-06-02 06:22:54.675\n",
       "22           3       Migraine   Devlin    Michael 1976-04-15 02:52:09.762\n",
       "44          22       Migraine    Joesph      Long 1979-12-04 16:45:56.080\n",
       "46          24       Migraine  Gabriel     Joseph 1986-05-31 09:36:05.716\n",
       "..         ...            ...       ...       ...                     ...\n",
       "908        870       Migraine     Hauck   Rubbens 1963-11-16 03:31:38.929\n",
       "921        897       Migraine   Barrows  Coupland 1979-10-31 18:28:35.483\n",
       "928        908       Migraine      Knox     Group 1975-08-25 22:27:50.177\n",
       "930        910       Migraine   Kuvalis  Coupland 1986-05-23 19:23:27.752\n",
       "935        924       Migraine    Daniel  Shakesby 1980-11-28 17:57:03.702\n",
       "\n",
       "[116 rows x 5 columns]"
      ]
     },
     "execution_count": 31,
     "metadata": {},
     "output_type": "execute_result"
    }
   ],
   "source": [
    "#37.Get the FirstName, LastName,DateOfBirth of the Patients\n",
    "# whose reason for visit is Migraine. \n",
    "#Use EDUnique Sheet for reason for visit\n",
    "\n",
    "\n",
    "EDU_data = pd.read_excel('HospitalDatabase.xlsx',sheet_name='EDUnique',usecols='B,F')\n",
    "pat_data = pd.read_excel('HospitalDatabase.xlsx', sheet_name='Patients',usecols='A,B,C,D')\n",
    "df = pd.DataFrame(EDU_data)\n",
    "df1 =pd.DataFrame(pat_data)\n",
    "\n",
    "\n",
    "Visit_list = ['Migraine']\n",
    "merged_data = pd.merge(df,df1, on='PatientID', how='inner')\n",
    "migra_df = merged_data[ merged_data.ReasonForVisit.isin(Visit_list)]\n",
    "\n",
    "migra_df\n",
    "\n"
   ]
  },
  {
   "cell_type": "code",
   "execution_count": 30,
   "id": "5c3feb70",
   "metadata": {},
   "outputs": [
    {
     "data": {
      "text/plain": [
       "<AxesSubplot:xlabel='ReasonForVisit'>"
      ]
     },
     "execution_count": 30,
     "metadata": {},
     "output_type": "execute_result"
    },
    {
     "data": {
      "image/png": "[encoded data removed]",
      "text/plain": [
       "<Figure size 432x288 with 1 Axes>"
      ]
     },
     "metadata": {
      "needs_background": "light"
     },
     "output_type": "display_data"
    }
   ],
   "source": [
    "#38.Plot a graph showing the count of patients for the reason visited the hospital.\n",
    "EDVisit_data = pd.read_excel('HospitalDatabase.xlsx',sheet_name='EDVisits',usecols='B,F')\n",
    "\n",
    "reason_visit = EDVisit_data.groupby('ReasonForVisit')['PatientID'].nunique()\n",
    "reason_visit\n",
    "reason_visit.plot.bar()"
   ]
  },
  {
   "cell_type": "code",
   "execution_count": 5,
   "id": "59f1755f",
   "metadata": {},
   "outputs": [
    {
     "data": {
      "text/html": [
       "<div>\n",
       "<style scoped>\n",
       "    .dataframe tbody tr th:only-of-type {\n",
       "        vertical-align: middle;\n",
       "    }\n",
       "\n",
       "    .dataframe tbody tr th {\n",
       "        vertical-align: top;\n",
       "    }\n",
       "\n",
       "    .dataframe thead th {\n",
       "        text-align: right;\n",
       "    }\n",
       "</style>\n",
       "<table border=\"1\" class=\"dataframe\">\n",
       "  <thead>\n",
       "    <tr style=\"text-align: right;\">\n",
       "      <th>VisitStatus</th>\n",
       "      <th>Canceled</th>\n",
       "      <th>Completed</th>\n",
       "      <th>No Show</th>\n",
       "    </tr>\n",
       "    <tr>\n",
       "      <th>VisitType</th>\n",
       "      <th></th>\n",
       "      <th></th>\n",
       "      <th></th>\n",
       "    </tr>\n",
       "  </thead>\n",
       "  <tbody>\n",
       "    <tr>\n",
       "      <th>Follow Up</th>\n",
       "      <td>29</td>\n",
       "      <td>266</td>\n",
       "      <td>41</td>\n",
       "    </tr>\n",
       "    <tr>\n",
       "      <th>New</th>\n",
       "      <td>5</td>\n",
       "      <td>120</td>\n",
       "      <td>0</td>\n",
       "    </tr>\n",
       "    <tr>\n",
       "      <th>Physical</th>\n",
       "      <td>11</td>\n",
       "      <td>155</td>\n",
       "      <td>39</td>\n",
       "    </tr>\n",
       "    <tr>\n",
       "      <th>Telemedicine</th>\n",
       "      <td>15</td>\n",
       "      <td>195</td>\n",
       "      <td>74</td>\n",
       "    </tr>\n",
       "  </tbody>\n",
       "</table>\n",
       "</div>"
      ],
      "text/plain": [
       "VisitStatus   Canceled  Completed  No Show\n",
       "VisitType                                 \n",
       "Follow Up           29        266       41\n",
       "New                  5        120        0\n",
       "Physical            11        155       39\n",
       "Telemedicine        15        195       74"
      ]
     },
     "execution_count": 5,
     "metadata": {},
     "output_type": "execute_result"
    }
   ],
   "source": [
    "# 39.Find the visit type with maximum 'No Show'\n",
    "\n",
    "\n",
    "Ambu_data = pd.read_excel('HospitalDatabase.xlsx',sheet_name='AmbulatoryVisits',usecols='A,B,G,K')\n",
    "\n",
    "#Ambu_data.sort_values([\"VisitType\",\"VisitStatus\"],axis=0,ascending=True,inplace=True)\n",
    "\n",
    "#print(Ambu_data[ (Ambu_data['VisitStatus']=='No Show') ])\n",
    "Max_noshow = Ambu_data.groupby(['VisitType', 'VisitStatus']).size().unstack(fill_value=0)\n",
    "#Max_noshow = Ambu_data.groupby('VisitStatus')['VisitType'].max().unique()\n",
    "\n",
    "Max_noshow\n",
    "\n",
    "\n",
    "\n",
    "\n",
    "\n"
   ]
  },
  {
   "cell_type": "code",
   "execution_count": 3,
   "id": "de24e1ca",
   "metadata": {},
   "outputs": [
    {
     "data": {
      "text/html": [
       "<div>\n",
       "<style scoped>\n",
       "    .dataframe tbody tr th:only-of-type {\n",
       "        vertical-align: middle;\n",
       "    }\n",
       "\n",
       "    .dataframe tbody tr th {\n",
       "        vertical-align: top;\n",
       "    }\n",
       "\n",
       "    .dataframe thead th {\n",
       "        text-align: right;\n",
       "    }\n",
       "</style>\n",
       "<table border=\"1\" class=\"dataframe\">\n",
       "  <thead>\n",
       "    <tr style=\"text-align: right;\">\n",
       "      <th></th>\n",
       "      <th>ProviderID</th>\n",
       "      <th>ProviderName</th>\n",
       "      <th>ProviderSpecialty</th>\n",
       "      <th>ProviderDateOnStaff</th>\n",
       "    </tr>\n",
       "  </thead>\n",
       "  <tbody>\n",
       "    <tr>\n",
       "      <th>10</th>\n",
       "      <td>11</td>\n",
       "      <td>Kim Kimberly</td>\n",
       "      <td>Surgery</td>\n",
       "      <td>1998-05-10 14:47:29.468</td>\n",
       "    </tr>\n",
       "    <tr>\n",
       "      <th>11</th>\n",
       "      <td>12</td>\n",
       "      <td>Sarah Ab</td>\n",
       "      <td>Surgery</td>\n",
       "      <td>1998-08-18 05:22:40.762</td>\n",
       "    </tr>\n",
       "    <tr>\n",
       "      <th>12</th>\n",
       "      <td>13</td>\n",
       "      <td>Abigail Marriot</td>\n",
       "      <td>Surgery</td>\n",
       "      <td>1998-11-08 12:25:45.705</td>\n",
       "    </tr>\n",
       "    <tr>\n",
       "      <th>13</th>\n",
       "      <td>14</td>\n",
       "      <td>Dave Yu</td>\n",
       "      <td>Surgery</td>\n",
       "      <td>1999-06-26 16:18:57.436</td>\n",
       "    </tr>\n",
       "    <tr>\n",
       "      <th>14</th>\n",
       "      <td>15</td>\n",
       "      <td>Christian Saint</td>\n",
       "      <td>Surgery</td>\n",
       "      <td>2000-08-27 00:12:40.326</td>\n",
       "    </tr>\n",
       "    <tr>\n",
       "      <th>15</th>\n",
       "      <td>16</td>\n",
       "      <td>Perry Pardon</td>\n",
       "      <td>Surgery</td>\n",
       "      <td>2001-02-13 11:49:17.862</td>\n",
       "    </tr>\n",
       "  </tbody>\n",
       "</table>\n",
       "</div>"
      ],
      "text/plain": [
       "    ProviderID     ProviderName ProviderSpecialty     ProviderDateOnStaff\n",
       "10          11     Kim Kimberly           Surgery 1998-05-10 14:47:29.468\n",
       "11          12         Sarah Ab           Surgery 1998-08-18 05:22:40.762\n",
       "12          13  Abigail Marriot           Surgery 1998-11-08 12:25:45.705\n",
       "13          14          Dave Yu           Surgery 1999-06-26 16:18:57.436\n",
       "14          15  Christian Saint           Surgery 2000-08-27 00:12:40.326\n",
       "15          16     Perry Pardon           Surgery 2001-02-13 11:49:17.862"
      ]
     },
     "execution_count": 3,
     "metadata": {},
     "output_type": "execute_result"
    }
   ],
   "source": [
    "#40.Using loc , get the details of the providers where providerId is between 11 and 20 and ProviderSpecialty is Surgery\n",
    "\n",
    "\n",
    "import pandas as pd\n",
    "import numpy as ny\n",
    "\n",
    "provider_data = pd.read_excel('HospitalDatabase.xlsx',sheet_name='Providers',usecols='A,B,C,D')\n",
    "\n",
    "df = pd.DataFrame(provider_data)\n",
    "\n",
    "provider_speciality = ['Surgery']\n",
    "\n",
    "df.loc[(df['ProviderID']>=11) & (df['ProviderID'] <=20) & (df['ProviderSpecialty'].isin(provider_speciality)) ]\n"
   ]
  },
  {
   "cell_type": "code",
   "execution_count": null,
   "id": "596d02a2",
   "metadata": {},
   "outputs": [],
   "source": []
  },
  {
   "cell_type": "code",
   "execution_count": 29,
   "id": "ff58bae8",
   "metadata": {},
   "outputs": [
    {
     "ename": "IndentationError",
     "evalue": "unindent does not match any outer indentation level (<tokenize>, line 14)",
     "output_type": "error",
     "traceback": [
      "\u001b[1;36m  File \u001b[1;32m\"<tokenize>\"\u001b[1;36m, line \u001b[1;32m14\u001b[0m\n\u001b[1;33m    age =df['DateOfBirth'].apply(lambda x: from_calculate_age(x))\u001b[0m\n\u001b[1;37m    ^\u001b[0m\n\u001b[1;31mIndentationError\u001b[0m\u001b[1;31m:\u001b[0m unindent does not match any outer indentation level\n"
     ]
    }
   ],
   "source": [
    "\n",
    "#72\tList male patients over the age of 60 who have undergone surgery from January-March 2019\n",
    "from datetime import date\n",
    "pat_data = pd.read_excel('HospitalDatabase.xlsx', sheet_name='Patients',usecols='A,D,E')\n",
    "df = pd.DataFrame(pat_data)\n",
    "df\n",
    "\n",
    "\n",
    "\n",
    "\n",
    "def calculate_age(born):\n",
    "  today = date.today()\n",
    "    return today.year - born.year - ((today.month, today.day) < (born.month, born.day))\n",
    "\n",
    " age = df['DateOfBirth'].apply(lambda x: from_calculate_age(x))\n",
    "\n",
    "age\n",
    "\n",
    "#Pat_detail = df[(df['Gender'] =='Male') ]\n",
    "#Pat_detail\n",
    "\n",
    "\n",
    "#df10[(df10['Race'] == 'White') & (df10['Gender'] == 'Female') & (df10['result_Age'] > 50)]\n",
    "\n",
    "#from datetime import date\n",
    "#def from_dob_to_age(born):\n",
    " #   today = date.today()\n",
    "  #  return today.year - born.year - ((today.month, today.day) < (born.month, born.day))\n",
    "\n",
    "\n",
    "#df['result_Age']=df['DateOfBirth'].apply(lambda x: from_dob_to_age(x))\n",
    "\n",
    "\n",
    "\n",
    "\n",
    "#from datetime import date\n",
    "\n",
    "#def calculate_age(born):\n",
    " #   today = date.today()\n",
    "  #  return today.year - born.year - ((today.month, today.day) < (born.month, born.day))\n",
    "\n",
    "# df.loc[(df['Gender'] =='Male')  & (df['result_Age'] > 60)]\n",
    "\n",
    "#Identify given date as date month and year\n",
    "born = datetime.strptime(born, \"%d/%m/%Y\").date()\n",
    "  \n",
    "#Get today's date\n",
    "today = date.today()\n",
    "  \n",
    "print(\"Age :\",\n",
    "      today.year - born.year - ((today.month,\n",
    "                                          today.day) < (born.month,\n",
    "                                                        born.day)))\n",
    "  "
   ]
  },
  {
   "cell_type": "code",
   "execution_count": 104,
   "id": "abf301a1",
   "metadata": {},
   "outputs": [
    {
     "data": {
      "text/plain": [
       "<AxesSubplot:xlabel='PrimaryDiagnosis'>"
      ]
     },
     "execution_count": 104,
     "metadata": {},
     "output_type": "execute_result"
    },
    {
     "data": {
      "image/png": "[encoded data removed]",
      "text/plain": [
       "<Figure size 432x288 with 1 Axes>"
      ]
     },
     "metadata": {
      "needs_background": "light"
     },
     "output_type": "display_data"
    }
   ],
   "source": [
    "\n",
    "# 71\tCreate a visualization on the count the no. of patients based on primary diagnosis\n",
    "\n",
    "\n",
    "Read_data = pd.read_excel('HospitalDatabase.xlsx',sheet_name='ReAdmissionRegistry',usecols='B,G')\n",
    "df = pd.DataFrame(Read_data)\n",
    "\n",
    "Pat_primaryDiag = Read_data.groupby('PrimaryDiagnosis')['PatientID'].nunique()\n",
    "Pat_primaryDiag.plot.bar()\n",
    "\n",
    "    \n"
   ]
  },
  {
   "cell_type": "code",
   "execution_count": 57,
   "id": "bebb2138",
   "metadata": {},
   "outputs": [
    {
     "data": {
      "text/html": [
       "<div>\n",
       "<style scoped>\n",
       "    .dataframe tbody tr th:only-of-type {\n",
       "        vertical-align: middle;\n",
       "    }\n",
       "\n",
       "    .dataframe tbody tr th {\n",
       "        vertical-align: top;\n",
       "    }\n",
       "\n",
       "    .dataframe thead th {\n",
       "        text-align: right;\n",
       "    }\n",
       "</style>\n",
       "<table border=\"1\" class=\"dataframe\">\n",
       "  <thead>\n",
       "    <tr style=\"text-align: right;\">\n",
       "      <th></th>\n",
       "    </tr>\n",
       "  </thead>\n",
       "  <tbody>\n",
       "    <tr>\n",
       "      <th>0</th>\n",
       "    </tr>\n",
       "    <tr>\n",
       "      <th>1</th>\n",
       "    </tr>\n",
       "    <tr>\n",
       "      <th>2</th>\n",
       "    </tr>\n",
       "    <tr>\n",
       "      <th>3</th>\n",
       "    </tr>\n",
       "    <tr>\n",
       "      <th>4</th>\n",
       "    </tr>\n",
       "    <tr>\n",
       "      <th>...</th>\n",
       "    </tr>\n",
       "    <tr>\n",
       "      <th>715</th>\n",
       "    </tr>\n",
       "    <tr>\n",
       "      <th>716</th>\n",
       "    </tr>\n",
       "    <tr>\n",
       "      <th>717</th>\n",
       "    </tr>\n",
       "    <tr>\n",
       "      <th>718</th>\n",
       "    </tr>\n",
       "    <tr>\n",
       "      <th>719</th>\n",
       "    </tr>\n",
       "  </tbody>\n",
       "</table>\n",
       "<p>720 rows × 0 columns</p>\n",
       "</div>"
      ],
      "text/plain": [
       "Empty DataFrame\n",
       "Columns: []\n",
       "Index: [0, 1, 2, 3, 4, 5, 6, 7, 8, 9, 10, 11, 12, 13, 14, 15, 16, 17, 18, 19, 20, 21, 22, 23, 24, 25, 26, 27, 28, 29, 30, 31, 32, 33, 34, 35, 36, 37, 38, 39, 40, 41, 42, 43, 44, 45, 46, 47, 48, 49, 50, 51, 52, 53, 54, 55, 56, 57, 58, 59, 60, 61, 62, 63, 64, 65, 66, 67, 68, 69, 70, 71, 72, 73, 74, 75, 76, 77, 78, 79, 80, 81, 82, 83, 84, 85, 86, 87, 88, 89, 90, 91, 92, 93, 94, 95, 96, 97, 98, 99, ...]\n",
       "\n",
       "[720 rows x 0 columns]"
      ]
     },
     "execution_count": 57,
     "metadata": {},
     "output_type": "execute_result"
    }
   ],
   "source": [
    "# 73\tDelete the column 'DischargeDispostion' iteratively\n",
    "Read_data = pd.read_excel('HospitalDatabase.xlsx',sheet_name='ReAdmissionRegistry',usecols='E')\n",
    "df = pd.DataFrame(Read_data)\n",
    "#df = pd.DataFrame(Read_data)\n",
    "df.drop(df.columns[0], axis=1, inplace=True)\n",
    "\n",
    "df\n"
   ]
  },
  {
   "cell_type": "code",
   "execution_count": 24,
   "id": "6d548cbc",
   "metadata": {},
   "outputs": [
    {
     "name": "stdout",
     "output_type": "stream",
     "text": [
      "List of ReasonForVisit\n"
     ]
    },
    {
     "data": {
      "text/plain": [
       "['Stomach Ache',\n",
       " 'Migraine',\n",
       " 'Chest Pain',\n",
       " 'Bleeding',\n",
       " 'Car Accident',\n",
       " 'Pneumonia',\n",
       " 'Fever',\n",
       " 'Shortness of Breath',\n",
       " 'Gun Shot',\n",
       " 'Accident',\n",
       " 'Laceration',\n",
       " 'Intoxication',\n",
       " 'Cough']"
      ]
     },
     "execution_count": 24,
     "metadata": {},
     "output_type": "execute_result"
    }
   ],
   "source": [
    "# 74\tGet the list of ReasonForVisit\n",
    "\n",
    "EDVisit_data = pd.read_excel('HospitalDatabase.xlsx',sheet_name='EDVisits',usecols='F')\n",
    "df = pd.DataFrame(EDVisit_data)\n",
    "\n",
    "\n",
    "Reason_visit_list = df[\"ReasonForVisit\"].tolist()\n",
    "Reason_visit_list1 = list(dict.fromkeys(test_list))\n",
    "set ([x for x in test_list if test_list.count(x)>1])\n",
    "\n",
    "print(\"List of ReasonForVisit\")\n",
    "Reason_visit_list1\n"
   ]
  },
  {
   "cell_type": "code",
   "execution_count": 136,
   "id": "fad4a7f2",
   "metadata": {},
   "outputs": [
    {
     "data": {
      "text/plain": [
       "0      0 days 11:20:22.924000\n",
       "1      0 days 23:14:20.215000\n",
       "2      0 days 01:50:56.151000\n",
       "3      0 days 01:20:09.793000\n",
       "4      0 days 02:38:20.043000\n",
       "                ...          \n",
       "1194   0 days 15:53:09.453000\n",
       "1195   0 days 22:27:04.030000\n",
       "1196   0 days 04:30:03.545000\n",
       "1197   0 days 06:10:35.054000\n",
       "1198   0 days 10:49:26.581000\n",
       "Length: 1199, dtype: timedelta64[ns]"
      ]
     },
     "execution_count": 136,
     "metadata": {},
     "output_type": "execute_result"
    }
   ],
   "source": [
    "#75\tCalculate the time spent in ED Department for each visit(EDVisits)\n",
    "\n",
    "EDVisit_data = pd.read_excel('HospitalDatabase.xlsx',sheet_name='EDVisits',usecols='A,C,D')\n",
    "df = pd.DataFrame(EDVisit_data)\n",
    "\n",
    "\n",
    "\n",
    "df[['VisitDate','EDDischargeTime']] = df[['VisitDate','EDDischargeTime']].apply(pd.to_datetime)\n",
    "#df1= (df['EDDischargeTime'] - df['VisitDate'])/np.timedelta64(1, 'D')\n",
    "\n",
    "df1= (df['EDDischargeTime'] - df['VisitDate'])\n",
    "df1\n"
   ]
  },
  {
   "cell_type": "code",
   "execution_count": 137,
   "id": "d96d17e0",
   "metadata": {},
   "outputs": [
    {
     "data": {
      "text/plain": [
       "0     0 days 11:20:22.924000\n",
       "1     0 days 23:14:20.215000\n",
       "2     0 days 01:50:56.151000\n",
       "3     0 days 01:20:09.793000\n",
       "4     0 days 02:38:20.043000\n",
       "               ...          \n",
       "940   0 days 15:53:09.453000\n",
       "941   0 days 22:27:04.030000\n",
       "942   0 days 04:30:03.545000\n",
       "943   0 days 06:10:35.054000\n",
       "944   0 days 10:49:26.581000\n",
       "Length: 945, dtype: timedelta64[ns]"
      ]
     },
     "execution_count": 137,
     "metadata": {},
     "output_type": "execute_result"
    }
   ],
   "source": [
    "#75\tCalculate the time spent in ED Department for each visit (EDUnique)\n",
    "\n",
    "\n",
    "EDUnique_data = pd.read_excel('HospitalDatabase.xlsx',sheet_name='EDUnique',usecols='A,C,D')\n",
    "df = pd.DataFrame(EDUnique_data)\n",
    "\n",
    "\n",
    "\n",
    "df[['VisitDate','EDDischargeTime']] = df[['VisitDate','EDDischargeTime']].apply(pd.to_datetime)\n",
    "#df1= (df['EDDischargeTime'] - df['VisitDate'])/np.timedelta64(1, 'D')\n",
    "\n",
    "df1= (df['EDDischargeTime'] - df['VisitDate'])\n",
    "df1\n",
    "\n"
   ]
  },
  {
   "cell_type": "code",
   "execution_count": 74,
   "id": "62645054",
   "metadata": {},
   "outputs": [
    {
     "name": "stdout",
     "output_type": "stream",
     "text": [
      "The sentence is : nohtakcaH nohtyP :: ajniN ypmuN\n",
      "The sentence is : Numpy Ninja :: Python Hackathon\n"
     ]
    }
   ],
   "source": [
    "# 76\tReverse the string without using inbuilt functions\n",
    "\n",
    "\n",
    "test_sentence1 = \"Numpy Ninja :: Python Hackathon\"\n",
    "test_sentence2 = \"nohtakcaH nohtyP :: ajniN ypmuN\"\n",
    "\n",
    "def Rev_function(x):\n",
    "  return x[::-1]\n",
    "\n",
    "test_sentence = Rev_function(test_sentence1)\n",
    "\n",
    "\n",
    "print(\"The sentence is : \" + str(test_sentence))\n",
    "print(\"The sentence is : \" + str(test_sentence1))"
   ]
  },
  {
   "cell_type": "code",
   "execution_count": 158,
   "id": "578960a1",
   "metadata": {},
   "outputs": [
    {
     "name": "stdout",
     "output_type": "stream",
     "text": [
      "{1, 2, 3, 4, 5}\n",
      "{1, 2, 3, 4, 5}\n"
     ]
    },
    {
     "data": {
      "text/plain": [
       "<AxesSubplot:>"
      ]
     },
     "execution_count": 158,
     "metadata": {},
     "output_type": "execute_result"
    },
    {
     "data": {
      "image/png": "[encoded data removed]",
      "text/plain": [
       "<Figure size 432x288 with 1 Axes>"
      ]
     },
     "metadata": {
      "needs_background": "light"
     },
     "output_type": "display_data"
    }
   ],
   "source": [
    "#77\tCreate a bar chart by making sets on Acuity & EDDischarge column & \n",
    "#make the hatchs onto the bar by using set_hatch() method\n",
    "\n",
    "\n",
    "EDUnique_data = pd.read_excel('HospitalDatabase.xlsx',sheet_name='EDUnique',usecols='D,E')\n",
    "df = pd.DataFrame(EDUnique_data)\n",
    "#print(df)\n",
    "Acuity_list = df['Acuity'].tolist()\n",
    "Acuity_list1 = list(dict.fromkeys(Acuity_list))\n",
    "set ([x for x in Acuity_list if Acuity_list.count(x)>1])\n",
    "\n",
    "#print(Acuity_list1) \n",
    "Acuity_Set = set(Acuity_list1)\n",
    "\n",
    "\n",
    "EDDischarge_list = df['EDDischargeTime'].tolist()\n",
    "EDDischarge_list1 = list(dict.fromkeys(Acuity_list))\n",
    "set ([x for x in EDDischarge_list if EDDischarge_list.count(x)>1])\n",
    "\n",
    "\n",
    "EDDischarge_Set = set(EDDischarge_list1)\n",
    "\n",
    "\n",
    "print(Acuity_Set)\n",
    "print(EDDischarge_Set)\n",
    "df.plot.bar()"
   ]
  },
  {
   "cell_type": "code",
   "execution_count": 21,
   "id": "90dcc6f6",
   "metadata": {},
   "outputs": [
    {
     "data": {
      "text/html": [
       "<div>\n",
       "<style scoped>\n",
       "    .dataframe tbody tr th:only-of-type {\n",
       "        vertical-align: middle;\n",
       "    }\n",
       "\n",
       "    .dataframe tbody tr th {\n",
       "        vertical-align: top;\n",
       "    }\n",
       "\n",
       "    .dataframe thead th {\n",
       "        text-align: right;\n",
       "    }\n",
       "</style>\n",
       "<table border=\"1\" class=\"dataframe\">\n",
       "  <thead>\n",
       "    <tr style=\"text-align: right;\">\n",
       "      <th></th>\n",
       "      <th>ReasonForVisit</th>\n",
       "      <th>Count</th>\n",
       "    </tr>\n",
       "  </thead>\n",
       "  <tbody>\n",
       "    <tr>\n",
       "      <th>2</th>\n",
       "      <td>Chest Pain</td>\n",
       "      <td>61</td>\n",
       "    </tr>\n",
       "  </tbody>\n",
       "</table>\n",
       "</div>"
      ],
      "text/plain": [
       "  ReasonForVisit  Count\n",
       "2     Chest Pain     61"
      ]
     },
     "execution_count": 21,
     "metadata": {},
     "output_type": "execute_result"
    }
   ],
   "source": [
    "# 78\tFind reasonForVisit with highest count of acuity 5 patients\n",
    "\n",
    "\n",
    "EDVisit_data = pd.read_excel('HospitalDatabase.xlsx',sheet_name='EDVisits',usecols='B,E,F')\n",
    "df = pd.DataFrame(EDVisit_data)\n",
    "\n",
    "#df\n",
    "\n",
    "\n",
    "#Acuity_pat = EDVisit_data.groupby ('ReasonForVisit') ['Acuity'].nunique()\n",
    "\n",
    "#Acuity_pat\n",
    "\n",
    "\n",
    "\n",
    "\n",
    "test= df.loc[(df['Acuity']==5)]\n",
    "        #& (df['ReasonForVisit'] ) ]\n",
    "\n",
    "#test\n",
    "Acuity_pat = test.groupby ('ReasonForVisit') ['PatientID'].nunique().reset_index(name='Count')\n",
    "\n",
    "\n",
    "#Acuity_pat1 = Acuity_pat.groupby ('ReasonForVisit') ['Count'].max()\n",
    "\n",
    "\n",
    "Acuity_pat_sort = Acuity_pat.sort_values(by=['Count'])\n",
    "\n",
    "Acuity_pat_sort.tail(1)"
   ]
  },
  {
   "cell_type": "code",
   "execution_count": 196,
   "id": "d7c96c1a",
   "metadata": {},
   "outputs": [
    {
     "data": {
      "text/html": [
       "<div>\n",
       "<style scoped>\n",
       "    .dataframe tbody tr th:only-of-type {\n",
       "        vertical-align: middle;\n",
       "    }\n",
       "\n",
       "    .dataframe tbody tr th {\n",
       "        vertical-align: top;\n",
       "    }\n",
       "\n",
       "    .dataframe thead th {\n",
       "        text-align: right;\n",
       "    }\n",
       "</style>\n",
       "<table border=\"1\" class=\"dataframe\">\n",
       "  <thead>\n",
       "    <tr style=\"text-align: right;\">\n",
       "      <th></th>\n",
       "      <th>min</th>\n",
       "      <th>max</th>\n",
       "    </tr>\n",
       "    <tr>\n",
       "      <th>PrimaryDiagnosis</th>\n",
       "      <th></th>\n",
       "      <th></th>\n",
       "    </tr>\n",
       "  </thead>\n",
       "  <tbody>\n",
       "    <tr>\n",
       "      <th>AMI</th>\n",
       "      <td>9.424873</td>\n",
       "      <td>16.974824</td>\n",
       "    </tr>\n",
       "    <tr>\n",
       "      <th>Afib</th>\n",
       "      <td>9.651522</td>\n",
       "      <td>15.212173</td>\n",
       "    </tr>\n",
       "    <tr>\n",
       "      <th>Broken Leg</th>\n",
       "      <td>2.279624</td>\n",
       "      <td>9.434517</td>\n",
       "    </tr>\n",
       "    <tr>\n",
       "      <th>Diabetes</th>\n",
       "      <td>2.113955</td>\n",
       "      <td>10.887323</td>\n",
       "    </tr>\n",
       "    <tr>\n",
       "      <th>Fever</th>\n",
       "      <td>2.420531</td>\n",
       "      <td>10.387398</td>\n",
       "    </tr>\n",
       "    <tr>\n",
       "      <th>Flu</th>\n",
       "      <td>2.012974</td>\n",
       "      <td>10.889954</td>\n",
       "    </tr>\n",
       "    <tr>\n",
       "      <th>Heart Failure</th>\n",
       "      <td>9.172859</td>\n",
       "      <td>16.867883</td>\n",
       "    </tr>\n",
       "    <tr>\n",
       "      <th>Hip Fracture</th>\n",
       "      <td>2.044117</td>\n",
       "      <td>4.770870</td>\n",
       "    </tr>\n",
       "    <tr>\n",
       "      <th>Hypertension</th>\n",
       "      <td>2.102909</td>\n",
       "      <td>10.127971</td>\n",
       "    </tr>\n",
       "    <tr>\n",
       "      <th>Kidney Failure</th>\n",
       "      <td>2.208801</td>\n",
       "      <td>10.632360</td>\n",
       "    </tr>\n",
       "    <tr>\n",
       "      <th>Knee Replacement</th>\n",
       "      <td>2.106954</td>\n",
       "      <td>4.986324</td>\n",
       "    </tr>\n",
       "    <tr>\n",
       "      <th>Laceration</th>\n",
       "      <td>2.082389</td>\n",
       "      <td>10.888192</td>\n",
       "    </tr>\n",
       "    <tr>\n",
       "      <th>Migraine</th>\n",
       "      <td>9.384178</td>\n",
       "      <td>15.041549</td>\n",
       "    </tr>\n",
       "    <tr>\n",
       "      <th>Pain</th>\n",
       "      <td>9.425011</td>\n",
       "      <td>12.571604</td>\n",
       "    </tr>\n",
       "    <tr>\n",
       "      <th>Pneumonia</th>\n",
       "      <td>2.163953</td>\n",
       "      <td>16.998213</td>\n",
       "    </tr>\n",
       "    <tr>\n",
       "      <th>Spinal Cord Injury</th>\n",
       "      <td>15.183750</td>\n",
       "      <td>15.369330</td>\n",
       "    </tr>\n",
       "    <tr>\n",
       "      <th>Stroke</th>\n",
       "      <td>4.215421</td>\n",
       "      <td>16.838918</td>\n",
       "    </tr>\n",
       "  </tbody>\n",
       "</table>\n",
       "</div>"
      ],
      "text/plain": [
       "                          min        max\n",
       "PrimaryDiagnosis                        \n",
       "AMI                  9.424873  16.974824\n",
       "Afib                 9.651522  15.212173\n",
       "Broken Leg           2.279624   9.434517\n",
       "Diabetes             2.113955  10.887323\n",
       "Fever                2.420531  10.387398\n",
       "Flu                  2.012974  10.889954\n",
       "Heart Failure        9.172859  16.867883\n",
       "Hip Fracture         2.044117   4.770870\n",
       "Hypertension         2.102909  10.127971\n",
       "Kidney Failure       2.208801  10.632360\n",
       "Knee Replacement     2.106954   4.986324\n",
       "Laceration           2.082389  10.888192\n",
       "Migraine             9.384178  15.041549\n",
       "Pain                 9.425011  12.571604\n",
       "Pneumonia            2.163953  16.998213\n",
       "Spinal Cord Injury  15.183750  15.369330\n",
       "Stroke               4.215421  16.838918"
      ]
     },
     "execution_count": 196,
     "metadata": {},
     "output_type": "execute_result"
    }
   ],
   "source": [
    "#79\tWhich PrimaryDiagnosis has the biggest difference between maximum and minimum Expected LOS?\n",
    "\n",
    "provider_data = pd.read_excel('HospitalDatabase.xlsx',sheet_name='Discharges',usecols='G,H')\n",
    "\n",
    "df = pd.DataFrame(provider_data)\n",
    "\n",
    "\n",
    "#df1 = df.groupby('PrimaryDiagnosis')['ExpectedLOS'].nunique()\n",
    "#df1\n",
    "df.groupby(provider_data[\"PrimaryDiagnosis\"]).ExpectedLOS.agg([\"min\",\"max\"])\n",
    "                                             \n",
    "\n",
    "\n"
   ]
  },
  {
   "cell_type": "code",
   "execution_count": 46,
   "id": "e8d56f80",
   "metadata": {},
   "outputs": [
    {
     "name": "stdout",
     "output_type": "stream",
     "text": [
      "                   ProviderID\n",
      "ProviderSpecialty            \n",
      "Cardiology                  8\n",
      "Pediatrics                  9\n",
      "PrimaryCare                16\n",
      "Surgery                     7 ['Pediatrics', 'Surgery', 'Cardiology', 'PrimaryCare']\n"
     ]
    }
   ],
   "source": [
    "#80\tWrite a code snippet to print different ProviderSpecialty ( use groupby and get the list of the groups)\n",
    "\n",
    "provider_data = pd.read_excel('HospitalDatabase.xlsx',sheet_name='Providers',usecols='A,C')\n",
    "\n",
    "df = pd.DataFrame(provider_data)\n",
    "Provider_specialty = df.groupby('ProviderSpecialty').nunique()\n",
    "Provider_specialty\n",
    "#Provider_specialty1 = list(df.groupby('ProviderSpecialty').nunique())\n",
    "#Provider_specialty1\n",
    "\n",
    "\n",
    "\n",
    "\n",
    "Provider_list = df[\"ProviderSpecialty\"].tolist()\n",
    "Provider_list1 = list(dict.fromkeys(Provider_list))\n",
    "set ([x for x in Provider_list if Provider_list.count(x)>1])\n",
    "\n",
    "#print(\"List of ReasonForVisit\")\n",
    "#Provider_list1\n",
    "print(Provider_specialty,   Provider_list1)\n",
    "\n",
    "\n",
    "\n",
    "\n"
   ]
  },
  {
   "cell_type": "code",
   "execution_count": null,
   "id": "9bb4b6a0",
   "metadata": {},
   "outputs": [],
   "source": []
  }
 ],
 "metadata": {
  "kernelspec": {
   "display_name": "Python 3 (ipykernel)",
   "language": "python",
   "name": "python3"
  },
  "language_info": {
   "codemirror_mode": {
    "name": "ipython",
    "version": 3
   },
   "file_extension": ".py",
   "mimetype": "text/x-python",
   "name": "python",
   "nbconvert_exporter": "python",
   "pygments_lexer": "ipython3",
   "version": "3.9.7"
  }
 },
 "nbformat": 4,
 "nbformat_minor": 5
}
