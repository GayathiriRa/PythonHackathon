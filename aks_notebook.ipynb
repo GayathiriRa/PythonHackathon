{
 "cells": [
  {
   "cell_type": "markdown",
   "id": "9672606c",
   "metadata": {},
   "source": [
    "# Questions 21 - 30"
   ]
  },
  {
   "cell_type": "markdown",
   "id": "02b99f48",
   "metadata": {},
   "source": [
    "## Import all Libraries"
   ]
  },
  {
   "cell_type": "code",
   "execution_count": 109,
   "id": "8c98ec30",
   "metadata": {},
   "outputs": [],
   "source": [
    "import pandas as pd\n",
    "import numpy as np"
   ]
  },
  {
   "cell_type": "markdown",
   "id": "33f4e2d2",
   "metadata": {},
   "source": [
    "### 21. Function to find the center element in the list. (1 element in odd length list, 2 elements in even length list)"
   ]
  },
  {
   "cell_type": "code",
   "execution_count": 3,
   "id": "9a95a4fd",
   "metadata": {},
   "outputs": [],
   "source": [
    "#read excle into dataframe\n",
    "df1 = pd.read_excel(\"C:\\\\Users\\\\aksha\\\\OneDrive\\\\Desktop\\\\E-Drive\\\\Numpy Ninja\\\\Python Hackathon\\\\HospitalDatabase.xlsx\", sheet_name='Patients')"
   ]
  },
  {
   "cell_type": "code",
   "execution_count": 46,
   "id": "6ad24983",
   "metadata": {},
   "outputs": [
    {
     "name": "stdout",
     "output_type": "stream",
     "text": [
      "2\n",
      "3\n",
      "The Median of the even List of Elements = c d\n"
     ]
    }
   ],
   "source": [
    "gvn_list = ['a', 'b', 'c', 'd', 'f','h']\n",
    "# Calculate the length of the list using the len() function and store it in a variable.\n",
    "lst_leng = len(gvn_list)\n",
    "# Find the middle element of the given List by using (total length of list-1)\n",
    "# divided by 2( zero indexing)and store it in a variable.\n",
    "mid_vlu_odd = (lst_leng-1)//2\n",
    "# Check if the given list is even or odd using the If conditional statement.\n",
    "if(lst_leng % 2 == 0):\n",
    "    # If the length of given list is even , get middle two elements.\n",
    "    even_mid_v1 = (lst_leng-1)//2\n",
    "    print(even_mid_v1)\n",
    "    even_mid_v2 = (lst_leng+1)//2\n",
    "    print(even_mid_v2)\n",
    "    eve_res_vlu1 = gvn_list[even_mid_v1]\n",
    "    eve_res_vlu2 = gvn_list[even_mid_v2]\n",
    "    print('The Median of the even List of Elements =', eve_res_vlu1,eve_res_vlu2)\n",
    "    \n",
    "else:\n",
    "    # If the length of given list is odd , Median  is the middle element.\n",
    "    odd_res_vlu = gvn_list[mid_vlu_odd]\n",
    "    print('The Median of the odd List of Elements =', odd_res_vlu)"
   ]
  },
  {
   "cell_type": "markdown",
   "id": "c14f614e",
   "metadata": {},
   "source": [
    "### 22. Get the count of number of patients based on ReasonForVisit and EDDisposition. Use stack/unstack functions"
   ]
  },
  {
   "cell_type": "code",
   "execution_count": 49,
   "id": "fe5ba8e3",
   "metadata": {},
   "outputs": [
    {
     "data": {
      "text/html": [
       "<div>\n",
       "<style scoped>\n",
       "    .dataframe tbody tr th:only-of-type {\n",
       "        vertical-align: middle;\n",
       "    }\n",
       "\n",
       "    .dataframe tbody tr th {\n",
       "        vertical-align: top;\n",
       "    }\n",
       "\n",
       "    .dataframe thead th {\n",
       "        text-align: right;\n",
       "    }\n",
       "</style>\n",
       "<table border=\"1\" class=\"dataframe\">\n",
       "  <thead>\n",
       "    <tr style=\"text-align: right;\">\n",
       "      <th></th>\n",
       "      <th>EDVisitID</th>\n",
       "      <th>PatientID</th>\n",
       "      <th>VisitDate</th>\n",
       "      <th>EDDischargeTime</th>\n",
       "      <th>Acuity</th>\n",
       "      <th>ReasonForVisit</th>\n",
       "      <th>EDDisposition</th>\n",
       "    </tr>\n",
       "  </thead>\n",
       "  <tbody>\n",
       "    <tr>\n",
       "      <th>0</th>\n",
       "      <td>1</td>\n",
       "      <td>1</td>\n",
       "      <td>2020-01-01 00:00:00.000</td>\n",
       "      <td>2020-01-01 11:20:22.924</td>\n",
       "      <td>1</td>\n",
       "      <td>Stomach Ache</td>\n",
       "      <td>Admitted</td>\n",
       "    </tr>\n",
       "    <tr>\n",
       "      <th>1</th>\n",
       "      <td>12</td>\n",
       "      <td>12</td>\n",
       "      <td>2020-01-01 02:45:40.302</td>\n",
       "      <td>2020-01-02 02:00:00.517</td>\n",
       "      <td>2</td>\n",
       "      <td>Migraine</td>\n",
       "      <td>Admitted</td>\n",
       "    </tr>\n",
       "    <tr>\n",
       "      <th>2</th>\n",
       "      <td>13</td>\n",
       "      <td>13</td>\n",
       "      <td>2020-01-01 03:09:24.701</td>\n",
       "      <td>2020-01-01 05:00:20.852</td>\n",
       "      <td>3</td>\n",
       "      <td>Stomach Ache</td>\n",
       "      <td>Admitted</td>\n",
       "    </tr>\n",
       "    <tr>\n",
       "      <th>3</th>\n",
       "      <td>14</td>\n",
       "      <td>14</td>\n",
       "      <td>2020-01-01 03:12:19.349</td>\n",
       "      <td>2020-01-01 04:32:29.142</td>\n",
       "      <td>3</td>\n",
       "      <td>Migraine</td>\n",
       "      <td>Admitted</td>\n",
       "    </tr>\n",
       "    <tr>\n",
       "      <th>4</th>\n",
       "      <td>15</td>\n",
       "      <td>15</td>\n",
       "      <td>2020-01-01 03:46:32.698</td>\n",
       "      <td>2020-01-01 06:24:52.741</td>\n",
       "      <td>3</td>\n",
       "      <td>Chest Pain</td>\n",
       "      <td>Admitted</td>\n",
       "    </tr>\n",
       "    <tr>\n",
       "      <th>...</th>\n",
       "      <td>...</td>\n",
       "      <td>...</td>\n",
       "      <td>...</td>\n",
       "      <td>...</td>\n",
       "      <td>...</td>\n",
       "      <td>...</td>\n",
       "      <td>...</td>\n",
       "    </tr>\n",
       "    <tr>\n",
       "      <th>1194</th>\n",
       "      <td>1183</td>\n",
       "      <td>929</td>\n",
       "      <td>2020-01-15 10:38:42.570</td>\n",
       "      <td>2020-01-16 02:31:52.023</td>\n",
       "      <td>4</td>\n",
       "      <td>Chest Pain</td>\n",
       "      <td>Discharged</td>\n",
       "    </tr>\n",
       "    <tr>\n",
       "      <th>1195</th>\n",
       "      <td>1186</td>\n",
       "      <td>932</td>\n",
       "      <td>2020-01-15 11:52:37.540</td>\n",
       "      <td>2020-01-16 10:19:41.570</td>\n",
       "      <td>1</td>\n",
       "      <td>Pneumonia</td>\n",
       "      <td>Discharged</td>\n",
       "    </tr>\n",
       "    <tr>\n",
       "      <th>1196</th>\n",
       "      <td>1187</td>\n",
       "      <td>933</td>\n",
       "      <td>2020-01-15 12:11:11.678</td>\n",
       "      <td>2020-01-15 16:41:15.223</td>\n",
       "      <td>1</td>\n",
       "      <td>Pneumonia</td>\n",
       "      <td>Discharged</td>\n",
       "    </tr>\n",
       "    <tr>\n",
       "      <th>1197</th>\n",
       "      <td>1188</td>\n",
       "      <td>934</td>\n",
       "      <td>2020-01-15 12:21:46.006</td>\n",
       "      <td>2020-01-15 18:32:21.060</td>\n",
       "      <td>1</td>\n",
       "      <td>Pneumonia</td>\n",
       "      <td>Discharged</td>\n",
       "    </tr>\n",
       "    <tr>\n",
       "      <th>1198</th>\n",
       "      <td>1189</td>\n",
       "      <td>935</td>\n",
       "      <td>2020-01-15 12:51:14.875</td>\n",
       "      <td>2020-01-15 23:40:41.456</td>\n",
       "      <td>1</td>\n",
       "      <td>Pneumonia</td>\n",
       "      <td>Discharged</td>\n",
       "    </tr>\n",
       "  </tbody>\n",
       "</table>\n",
       "<p>1199 rows × 7 columns</p>\n",
       "</div>"
      ],
      "text/plain": [
       "      EDVisitID  PatientID               VisitDate         EDDischargeTime  \\\n",
       "0             1          1 2020-01-01 00:00:00.000 2020-01-01 11:20:22.924   \n",
       "1            12         12 2020-01-01 02:45:40.302 2020-01-02 02:00:00.517   \n",
       "2            13         13 2020-01-01 03:09:24.701 2020-01-01 05:00:20.852   \n",
       "3            14         14 2020-01-01 03:12:19.349 2020-01-01 04:32:29.142   \n",
       "4            15         15 2020-01-01 03:46:32.698 2020-01-01 06:24:52.741   \n",
       "...         ...        ...                     ...                     ...   \n",
       "1194       1183        929 2020-01-15 10:38:42.570 2020-01-16 02:31:52.023   \n",
       "1195       1186        932 2020-01-15 11:52:37.540 2020-01-16 10:19:41.570   \n",
       "1196       1187        933 2020-01-15 12:11:11.678 2020-01-15 16:41:15.223   \n",
       "1197       1188        934 2020-01-15 12:21:46.006 2020-01-15 18:32:21.060   \n",
       "1198       1189        935 2020-01-15 12:51:14.875 2020-01-15 23:40:41.456   \n",
       "\n",
       "      Acuity ReasonForVisit EDDisposition  \n",
       "0          1   Stomach Ache      Admitted  \n",
       "1          2       Migraine      Admitted  \n",
       "2          3   Stomach Ache      Admitted  \n",
       "3          3       Migraine      Admitted  \n",
       "4          3     Chest Pain      Admitted  \n",
       "...      ...            ...           ...  \n",
       "1194       4     Chest Pain    Discharged  \n",
       "1195       1      Pneumonia    Discharged  \n",
       "1196       1      Pneumonia    Discharged  \n",
       "1197       1      Pneumonia    Discharged  \n",
       "1198       1      Pneumonia    Discharged  \n",
       "\n",
       "[1199 rows x 7 columns]"
      ]
     },
     "execution_count": 49,
     "metadata": {},
     "output_type": "execute_result"
    }
   ],
   "source": [
    "#read excle into dataframe\n",
    "df2 = pd.read_excel(\"C:\\\\Users\\\\aksha\\\\OneDrive\\\\Desktop\\\\E-Drive\\\\Numpy Ninja\\\\Python Hackathon\\\\HospitalDatabase.xlsx\", sheet_name='EDVisits')\n",
    "df2"
   ]
  },
  {
   "cell_type": "code",
   "execution_count": 56,
   "id": "9e55cc56",
   "metadata": {},
   "outputs": [],
   "source": [
    "g = df2.groupby(df2.EDDisposition.str[0])['EDDisposition']"
   ]
  },
  {
   "cell_type": "code",
   "execution_count": 65,
   "id": "3501cf6d",
   "metadata": {},
   "outputs": [
    {
     "name": "stdout",
     "output_type": "stream",
     "text": [
      "<pandas.core.groupby.generic.SeriesGroupBy object at 0x000001BD7509AD60>\n"
     ]
    }
   ],
   "source": [
    "print(g)"
   ]
  },
  {
   "cell_type": "code",
   "execution_count": 63,
   "id": "13ab5d29",
   "metadata": {},
   "outputs": [],
   "source": [
    "s = df2.groupby([df2.ReasonForVisit, g.transform('last')]).size().unstack()"
   ]
  },
  {
   "cell_type": "code",
   "execution_count": 64,
   "id": "a9488876",
   "metadata": {},
   "outputs": [
    {
     "name": "stdout",
     "output_type": "stream",
     "text": [
      "EDDisposition        Admitted  Discharged\n",
      "ReasonForVisit                           \n",
      "Accident                 39.0         NaN\n",
      "Bleeding                 16.0        15.0\n",
      "Car Accident             17.0         NaN\n",
      "Chest Pain               94.0        15.0\n",
      "Cough                     NaN         1.0\n",
      "Fever                    46.0       188.0\n",
      "Gun Shot                 16.0         NaN\n",
      "Intoxication              NaN        30.0\n",
      "Laceration                NaN        30.0\n",
      "Migraine                 47.0       109.0\n",
      "Pneumonia               136.0        65.0\n",
      "Shortness of Breath      72.0        77.0\n",
      "Stomach Ache             32.0       154.0\n"
     ]
    }
   ],
   "source": [
    "print(s)"
   ]
  },
  {
   "cell_type": "markdown",
   "id": "47e539bf",
   "metadata": {},
   "source": [
    "### 23 Plot a graph by counting the no. of patients in each department"
   ]
  },
  {
   "cell_type": "code",
   "execution_count": 66,
   "id": "1921c10d",
   "metadata": {},
   "outputs": [],
   "source": [
    "#read excle into dataframe\n",
    "df3 = pd.read_excel(\"C:\\\\Users\\\\aksha\\\\OneDrive\\\\Desktop\\\\E-Drive\\\\Numpy Ninja\\\\Python Hackathon\\\\HospitalDatabase.xlsx\", sheet_name='AmbulatoryVisits')"
   ]
  },
  {
   "cell_type": "code",
   "execution_count": 69,
   "id": "41392b3c",
   "metadata": {},
   "outputs": [
    {
     "data": {
      "text/plain": [
       "Text(0, 0.5, 'Frequency')"
      ]
     },
     "execution_count": 69,
     "metadata": {},
     "output_type": "execute_result"
    },
    {
     "data": {
      "image/png": "[encoded data removed]",
      "text/plain": [
       "<Figure size 1008x576 with 1 Axes>"
      ]
     },
     "metadata": {
      "needs_background": "light"
     },
     "output_type": "display_data"
    }
   ],
   "source": [
    "ax = df3['VisitDepartmentID'].value_counts().plot(kind='bar',\n",
    "                                    figsize=(14,8),\n",
    "                                    title=\"Number of patients in each department\")\n",
    "ax.set_xlabel(\"Department Id's\")\n",
    "ax.set_ylabel(\"Frequency\")"
   ]
  },
  {
   "cell_type": "markdown",
   "id": "c91da5cb",
   "metadata": {},
   "source": [
    "### 24. Using Arrays and Loops, find the count of of patients based on gender"
   ]
  },
  {
   "cell_type": "code",
   "execution_count": 70,
   "id": "e24dfa13",
   "metadata": {},
   "outputs": [],
   "source": [
    "#read excle into dataframe\n",
    "df4 = pd.read_excel(\"C:\\\\Users\\\\aksha\\\\OneDrive\\\\Desktop\\\\E-Drive\\\\Numpy Ninja\\\\Python Hackathon\\\\HospitalDatabase.xlsx\", sheet_name='Patients')"
   ]
  },
  {
   "cell_type": "code",
   "execution_count": 74,
   "id": "5283d9ac",
   "metadata": {},
   "outputs": [
    {
     "name": "stdout",
     "output_type": "stream",
     "text": [
      "Male      537\n",
      "Female    408\n",
      "Name: Gender, dtype: int64\n"
     ]
    }
   ],
   "source": [
    "#the count of each of the distinct values of a specific column, you can use the pandas value_counts() function\n",
    "print(df4['Gender'].value_counts())"
   ]
  },
  {
   "cell_type": "markdown",
   "id": "67e596bc",
   "metadata": {},
   "source": [
    "### 25. Plot a graph to count the patients based on discharge disposition"
   ]
  },
  {
   "cell_type": "code",
   "execution_count": 75,
   "id": "0b5f4bd4",
   "metadata": {},
   "outputs": [],
   "source": [
    "#read excle into dataframe\n",
    "df5 = pd.read_excel(\"C:\\\\Users\\\\aksha\\\\OneDrive\\\\Desktop\\\\E-Drive\\\\Numpy Ninja\\\\Python Hackathon\\\\HospitalDatabase.xlsx\", sheet_name='ReAdmissionRegistry')"
   ]
  },
  {
   "cell_type": "code",
   "execution_count": 77,
   "id": "1cf0f460",
   "metadata": {},
   "outputs": [
    {
     "data": {
      "text/plain": [
       "Text(0, 0.5, 'Frequency')"
      ]
     },
     "execution_count": 77,
     "metadata": {},
     "output_type": "execute_result"
    },
    {
     "data": {
      "image/png": "[encoded data removed]",
      "text/plain": [
       "<Figure size 1008x576 with 1 Axes>"
      ]
     },
     "metadata": {
      "needs_background": "light"
     },
     "output_type": "display_data"
    }
   ],
   "source": [
    "dd = df5['DischargeDisposition'].value_counts().plot(kind='bar',\n",
    "                                    figsize=(14,8),\n",
    "                                    title=\"Number of patients in Discharge Disposition\")\n",
    "dd.set_xlabel(\"Discharge Disposition\")\n",
    "dd.set_ylabel(\"Frequency\")"
   ]
  },
  {
   "cell_type": "markdown",
   "id": "401f9a1e",
   "metadata": {},
   "source": [
    "### 26. Which reason of visit has maximum mortality rate"
   ]
  },
  {
   "cell_type": "code",
   "execution_count": 79,
   "id": "518e6635",
   "metadata": {},
   "outputs": [],
   "source": [
    "#read excle into dataframe\n",
    "df6 = pd.read_excel(\"C:\\\\Users\\\\aksha\\\\OneDrive\\\\Desktop\\\\E-Drive\\\\Numpy Ninja\\\\Python Hackathon\\\\HospitalDatabase.xlsx\", sheet_name='ReAdmissionRegistry')"
   ]
  },
  {
   "cell_type": "code",
   "execution_count": 87,
   "id": "cf8d60d5",
   "metadata": {},
   "outputs": [
    {
     "data": {
      "text/plain": [
       "PrimaryDiagnosis\n",
       "AMI                   11.287028\n",
       "Afib                   3.346590\n",
       "Broken Leg             2.478958\n",
       "Diabetes              18.334439\n",
       "Fever                  5.635418\n",
       "Flu                   21.838083\n",
       "Heart Failure         30.082879\n",
       "Hip Fracture           8.586140\n",
       "Hypertension          14.827774\n",
       "Kidney Failure         4.951837\n",
       "Knee Replacement       6.678844\n",
       "Laceration             7.917630\n",
       "Migraine               6.808469\n",
       "Pain                   3.837848\n",
       "Pneumonia             66.307360\n",
       "Spinal Cord Injury     0.400558\n",
       "Stroke                30.085412\n",
       "Name: ExpectedMortality, dtype: float64"
      ]
     },
     "execution_count": 87,
     "metadata": {},
     "output_type": "execute_result"
    }
   ],
   "source": [
    "mortality = df6.groupby('PrimaryDiagnosis')['ExpectedMortality'].sum()\n",
    "mortality"
   ]
  },
  {
   "cell_type": "markdown",
   "id": "124478f8",
   "metadata": {},
   "source": [
    "### 27. Calculate average LOS"
   ]
  },
  {
   "cell_type": "code",
   "execution_count": 88,
   "id": "c4b8641a",
   "metadata": {},
   "outputs": [],
   "source": [
    "#read excle into dataframe\n",
    "df7 = pd.read_excel(\"C:\\\\Users\\\\aksha\\\\OneDrive\\\\Desktop\\\\E-Drive\\\\Numpy Ninja\\\\Python Hackathon\\\\HospitalDatabase.xlsx\", sheet_name='ReAdmissionRegistry')"
   ]
  },
  {
   "cell_type": "code",
   "execution_count": 89,
   "id": "99c18320",
   "metadata": {},
   "outputs": [
    {
     "data": {
      "text/plain": [
       "8.824589159156156"
      ]
     },
     "execution_count": 89,
     "metadata": {},
     "output_type": "execute_result"
    }
   ],
   "source": [
    "#Calculate average LOS\n",
    "avg_LOS = df7[\"ExpectedLOS\"].mean()\n",
    "avg_LOS"
   ]
  },
  {
   "cell_type": "markdown",
   "id": "4ff60c9b",
   "metadata": {},
   "source": [
    "### 28. Which patient id has most entries in readmission registry ***"
   ]
  },
  {
   "cell_type": "code",
   "execution_count": 97,
   "id": "744d697e",
   "metadata": {},
   "outputs": [],
   "source": [
    "#read excle into dataframe\n",
    "df8 = pd.read_excel(\"C:\\\\Users\\\\aksha\\\\OneDrive\\\\Desktop\\\\E-Drive\\\\Numpy Ninja\\\\Python Hackathon\\\\HospitalDatabase.xlsx\", sheet_name='ReAdmissionRegistry')"
   ]
  },
  {
   "cell_type": "code",
   "execution_count": 104,
   "id": "9c4043ba",
   "metadata": {},
   "outputs": [
    {
     "name": "stdout",
     "output_type": "stream",
     "text": [
      "23     3\n",
      "257    2\n",
      "14     2\n",
      "300    2\n",
      "26     2\n",
      "      ..\n",
      "249    1\n",
      "250    1\n",
      "251    1\n",
      "252    1\n",
      "742    1\n",
      "Name: PatientID, Length: 704, dtype: int64\n"
     ]
    }
   ],
   "source": [
    "val_count = df8['PatientID'].value_counts()\n",
    "print(val_count)"
   ]
  },
  {
   "cell_type": "code",
   "execution_count": null,
   "id": "8e3b964f",
   "metadata": {},
   "outputs": [],
   "source": [
    "#patient ID 23 has most frequency of 3"
   ]
  },
  {
   "cell_type": "code",
   "execution_count": 107,
   "id": "cd8b6b00",
   "metadata": {},
   "outputs": [
    {
     "name": "stdout",
     "output_type": "stream",
     "text": [
      "3\n"
     ]
    }
   ],
   "source": [
    "print(df8['PatientID'].value_counts().max())"
   ]
  },
  {
   "cell_type": "markdown",
   "id": "22ae4259",
   "metadata": {},
   "source": [
    "### 29. Find count of White Spanish Male ***"
   ]
  },
  {
   "cell_type": "code",
   "execution_count": 108,
   "id": "6a33d84b",
   "metadata": {},
   "outputs": [],
   "source": [
    "#read excle into dataframe\n",
    "df9 = pd.read_excel(\"C:\\\\Users\\\\aksha\\\\OneDrive\\\\Desktop\\\\E-Drive\\\\Numpy Ninja\\\\Python Hackathon\\\\HospitalDatabase.xlsx\", sheet_name='Patients')"
   ]
  },
  {
   "cell_type": "code",
   "execution_count": null,
   "id": "148ab0be",
   "metadata": {},
   "outputs": [],
   "source": [
    "w_s_m_count = df9.groupby('Courses')['Courses'].transform('count')\n",
    "print(df)"
   ]
  },
  {
   "cell_type": "code",
   "execution_count": 121,
   "id": "97d42733",
   "metadata": {},
   "outputs": [],
   "source": [
    "family = np.where((df9['Gender'] == 'Male', df9['Race'] == 'White', df9['Language'] == 'Spanish'))\n"
   ]
  },
  {
   "cell_type": "code",
   "execution_count": 125,
   "id": "48faf52d",
   "metadata": {},
   "outputs": [],
   "source": [
    "#wsm = df9.groupby(family)['PatientID'].mean()\n",
    "#print (wsm)"
   ]
  },
  {
   "cell_type": "code",
   "execution_count": null,
   "id": "83549292",
   "metadata": {},
   "outputs": [],
   "source": [
    "wsmcount=df9.groupby(family)['PatientID'].count()"
   ]
  },
  {
   "cell_type": "code",
   "execution_count": 119,
   "id": "e1630067",
   "metadata": {},
   "outputs": [
    {
     "name": "stdout",
     "output_type": "stream",
     "text": [
      "Gender  Race                    Language\n",
      "Female  Black/African-American  English     119\n",
      "                                Spanish      15\n",
      "        White                   English     216\n",
      "                                Spanish      55\n",
      "Male    Black/African-American  English     306\n",
      "                                Spanish      25\n",
      "        White                   English     186\n",
      "                                Spanish      15\n",
      "Name: PatientID, dtype: int64\n"
     ]
    }
   ],
   "source": [
    "c = df9.groupby(['Gender','Race','Language'])['PatientID'].count()\n",
    "print(c)"
   ]
  },
  {
   "cell_type": "markdown",
   "id": "dbf6b922",
   "metadata": {},
   "source": [
    "### 30. Write a function to print the table of the given number"
   ]
  },
  {
   "cell_type": "code",
   "execution_count": 126,
   "id": "a038bbf3",
   "metadata": {},
   "outputs": [
    {
     "name": "stdout",
     "output_type": "stream",
     "text": [
      "Enter The Number : 5\n",
      "5 x 1 = 5\n",
      "5 x 2 = 10\n",
      "5 x 3 = 15\n",
      "5 x 4 = 20\n",
      "5 x 5 = 25\n",
      "5 x 6 = 30\n",
      "5 x 7 = 35\n",
      "5 x 8 = 40\n",
      "5 x 9 = 45\n",
      "5 x 10 = 50\n"
     ]
    }
   ],
   "source": [
    "n=int(input(\"Enter The Number : \"))\n",
    "\n",
    "i=1\n",
    "\n",
    "while(i<=10):\n",
    "    t=n*i\n",
    "    print(n,\"x\",i,\"=\",t)\n",
    "    i=i+1"
   ]
  },
  {
   "cell_type": "code",
   "execution_count": null,
   "id": "c69eb0ff",
   "metadata": {},
   "outputs": [],
   "source": []
  }
 ],
 "metadata": {
  "kernelspec": {
   "display_name": "Python 3 (ipykernel)",
   "language": "python",
   "name": "python3"
  },
  "language_info": {
   "codemirror_mode": {
    "name": "ipython",
    "version": 3
   },
   "file_extension": ".py",
   "mimetype": "text/x-python",
   "name": "python",
   "nbconvert_exporter": "python",
   "pygments_lexer": "ipython3",
   "version": "3.9.7"
  }
 },
 "nbformat": 4,
 "nbformat_minor": 5
}
